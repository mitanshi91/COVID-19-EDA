{
 "cells": [
  {
   "cell_type": "code",
   "execution_count": 1,
   "metadata": {},
   "outputs": [],
   "source": [
    "import pandas as pd"
   ]
  },
  {
   "cell_type": "code",
   "execution_count": 60,
   "metadata": {},
   "outputs": [],
   "source": [
    "df=pd.DataFrame(pd.read_csv(\"time-series-19-covid-combined.csv\"))"
   ]
  },
  {
   "cell_type": "code",
   "execution_count": 61,
   "metadata": {},
   "outputs": [
    {
     "data": {
      "text/html": [
       "<div>\n",
       "<style scoped>\n",
       "    .dataframe tbody tr th:only-of-type {\n",
       "        vertical-align: middle;\n",
       "    }\n",
       "\n",
       "    .dataframe tbody tr th {\n",
       "        vertical-align: top;\n",
       "    }\n",
       "\n",
       "    .dataframe thead th {\n",
       "        text-align: right;\n",
       "    }\n",
       "</style>\n",
       "<table border=\"1\" class=\"dataframe\">\n",
       "  <thead>\n",
       "    <tr style=\"text-align: right;\">\n",
       "      <th></th>\n",
       "      <th>Date</th>\n",
       "      <th>Country/Region</th>\n",
       "      <th>Province/State</th>\n",
       "      <th>Confirmed</th>\n",
       "      <th>Recovered</th>\n",
       "      <th>Deaths</th>\n",
       "    </tr>\n",
       "  </thead>\n",
       "  <tbody>\n",
       "    <tr>\n",
       "      <th>0</th>\n",
       "      <td>2020-01-22</td>\n",
       "      <td>Afghanistan</td>\n",
       "      <td>NaN</td>\n",
       "      <td>0</td>\n",
       "      <td>0.0</td>\n",
       "      <td>0</td>\n",
       "    </tr>\n",
       "    <tr>\n",
       "      <th>1</th>\n",
       "      <td>2020-01-23</td>\n",
       "      <td>Afghanistan</td>\n",
       "      <td>NaN</td>\n",
       "      <td>0</td>\n",
       "      <td>0.0</td>\n",
       "      <td>0</td>\n",
       "    </tr>\n",
       "    <tr>\n",
       "      <th>2</th>\n",
       "      <td>2020-01-24</td>\n",
       "      <td>Afghanistan</td>\n",
       "      <td>NaN</td>\n",
       "      <td>0</td>\n",
       "      <td>0.0</td>\n",
       "      <td>0</td>\n",
       "    </tr>\n",
       "    <tr>\n",
       "      <th>3</th>\n",
       "      <td>2020-01-25</td>\n",
       "      <td>Afghanistan</td>\n",
       "      <td>NaN</td>\n",
       "      <td>0</td>\n",
       "      <td>0.0</td>\n",
       "      <td>0</td>\n",
       "    </tr>\n",
       "    <tr>\n",
       "      <th>4</th>\n",
       "      <td>2020-01-26</td>\n",
       "      <td>Afghanistan</td>\n",
       "      <td>NaN</td>\n",
       "      <td>0</td>\n",
       "      <td>0.0</td>\n",
       "      <td>0</td>\n",
       "    </tr>\n",
       "    <tr>\n",
       "      <th>...</th>\n",
       "      <td>...</td>\n",
       "      <td>...</td>\n",
       "      <td>...</td>\n",
       "      <td>...</td>\n",
       "      <td>...</td>\n",
       "      <td>...</td>\n",
       "    </tr>\n",
       "    <tr>\n",
       "      <th>154561</th>\n",
       "      <td>2021-07-24</td>\n",
       "      <td>Zimbabwe</td>\n",
       "      <td>NaN</td>\n",
       "      <td>97277</td>\n",
       "      <td>64628.0</td>\n",
       "      <td>3050</td>\n",
       "    </tr>\n",
       "    <tr>\n",
       "      <th>154562</th>\n",
       "      <td>2021-07-25</td>\n",
       "      <td>Zimbabwe</td>\n",
       "      <td>NaN</td>\n",
       "      <td>97894</td>\n",
       "      <td>65913.0</td>\n",
       "      <td>3094</td>\n",
       "    </tr>\n",
       "    <tr>\n",
       "      <th>154563</th>\n",
       "      <td>2021-07-26</td>\n",
       "      <td>Zimbabwe</td>\n",
       "      <td>NaN</td>\n",
       "      <td>99944</td>\n",
       "      <td>67827.0</td>\n",
       "      <td>3173</td>\n",
       "    </tr>\n",
       "    <tr>\n",
       "      <th>154564</th>\n",
       "      <td>2021-07-27</td>\n",
       "      <td>Zimbabwe</td>\n",
       "      <td>NaN</td>\n",
       "      <td>101711</td>\n",
       "      <td>70496.0</td>\n",
       "      <td>3280</td>\n",
       "    </tr>\n",
       "    <tr>\n",
       "      <th>154565</th>\n",
       "      <td>2021-07-28</td>\n",
       "      <td>Zimbabwe</td>\n",
       "      <td>NaN</td>\n",
       "      <td>103567</td>\n",
       "      <td>71383.0</td>\n",
       "      <td>3340</td>\n",
       "    </tr>\n",
       "  </tbody>\n",
       "</table>\n",
       "<p>154566 rows × 6 columns</p>\n",
       "</div>"
      ],
      "text/plain": [
       "              Date Country/Region Province/State  Confirmed  Recovered  Deaths\n",
       "0       2020-01-22    Afghanistan            NaN          0        0.0       0\n",
       "1       2020-01-23    Afghanistan            NaN          0        0.0       0\n",
       "2       2020-01-24    Afghanistan            NaN          0        0.0       0\n",
       "3       2020-01-25    Afghanistan            NaN          0        0.0       0\n",
       "4       2020-01-26    Afghanistan            NaN          0        0.0       0\n",
       "...            ...            ...            ...        ...        ...     ...\n",
       "154561  2021-07-24       Zimbabwe            NaN      97277    64628.0    3050\n",
       "154562  2021-07-25       Zimbabwe            NaN      97894    65913.0    3094\n",
       "154563  2021-07-26       Zimbabwe            NaN      99944    67827.0    3173\n",
       "154564  2021-07-27       Zimbabwe            NaN     101711    70496.0    3280\n",
       "154565  2021-07-28       Zimbabwe            NaN     103567    71383.0    3340\n",
       "\n",
       "[154566 rows x 6 columns]"
      ]
     },
     "execution_count": 61,
     "metadata": {},
     "output_type": "execute_result"
    }
   ],
   "source": [
    "df"
   ]
  },
  {
   "cell_type": "code",
   "execution_count": 67,
   "metadata": {},
   "outputs": [],
   "source": [
    "#dataframe with combined regions\n",
    "#merging all the countries together\n",
    "recent=df.groupby(['Date', 'Country/Region'])[\"Confirmed\", \"Recovered\",'Deaths'].apply(lambda x : x.sum())"
   ]
  },
  {
   "cell_type": "code",
   "execution_count": 95,
   "metadata": {},
   "outputs": [],
   "source": [
    "#getting the dataframe with the most recent reported day\n",
    "recent.reset_index(level=0, inplace=True)\n",
    "a1 = recent[recent['Date'] == '2021-07-28']"
   ]
  },
  {
   "cell_type": "code",
   "execution_count": 80,
   "metadata": {},
   "outputs": [
    {
     "name": "stdout",
     "output_type": "stream",
     "text": [
      "            Country/Region        Date  Confirmed  Recovered  Deaths\n",
      "107835         Afghanistan  2021-07-28   145552.0    82586.0  6577.0\n",
      "107836             Albania  2021-07-28   132952.0   130174.0  2457.0\n",
      "107837             Algeria  2021-07-28   167131.0   112900.0  4161.0\n",
      "107838             Andorra  2021-07-28    14586.0    14113.0   127.0\n",
      "107839              Angola  2021-07-28    42288.0    35964.0  1000.0\n",
      "...                    ...         ...        ...        ...     ...\n",
      "108025             Vietnam  2021-07-28   123640.0    27457.0   630.0\n",
      "108026  West Bank and Gaza  2021-07-28   316328.0   311622.0  3601.0\n",
      "108027               Yemen  2021-07-28     7027.0     4168.0  1374.0\n",
      "108028              Zambia  2021-07-28   193432.0   183957.0  3338.0\n",
      "108029            Zimbabwe  2021-07-28   103567.0    71383.0  3340.0\n",
      "\n",
      "[195 rows x 5 columns]\n"
     ]
    }
   ],
   "source": [
    "print(a1)"
   ]
  },
  {
   "cell_type": "code",
   "execution_count": 71,
   "metadata": {},
   "outputs": [
    {
     "name": "stdout",
     "output_type": "stream",
     "text": [
      "Country/Region\n",
      "US                34672690.0\n",
      "India             31484605.0\n",
      "Brazil            19797086.0\n",
      "France             6116853.0\n",
      "Russia             6116249.0\n",
      "United Kingdom     5797445.0\n",
      "Turkey             5660469.0\n",
      "Argentina          4891810.0\n",
      "Colombia           4757139.0\n",
      "Spain              4395602.0\n",
      "Name: Confirmed, dtype: float64\n"
     ]
    }
   ],
   "source": [
    "print(a1['Confirmed'].nlargest(10))"
   ]
  },
  {
   "cell_type": "code",
   "execution_count": 72,
   "metadata": {},
   "outputs": [
    {
     "name": "stdout",
     "output_type": "stream",
     "text": [
      "Country/Region\n",
      "US                611801.0\n",
      "Brazil            553179.0\n",
      "India             422022.0\n",
      "Mexico            239616.0\n",
      "Peru              196138.0\n",
      "Russia            153620.0\n",
      "United Kingdom    129718.0\n",
      "Italy             128010.0\n",
      "Colombia          119801.0\n",
      "France            111923.0\n",
      "Name: Deaths, dtype: float64\n"
     ]
    }
   ],
   "source": [
    "print(a1['Deaths'].nlargest(10))"
   ]
  },
  {
   "cell_type": "code",
   "execution_count": 73,
   "metadata": {},
   "outputs": [],
   "source": [
    "a1= a1.reset_index(level=0, inplace=True)"
   ]
  },
  {
   "cell_type": "code",
   "execution_count": 74,
   "metadata": {},
   "outputs": [],
   "source": [
    "US=df[df['Country/Region'] == 'US' ]"
   ]
  },
  {
   "cell_type": "code",
   "execution_count": 75,
   "metadata": {},
   "outputs": [
    {
     "data": {
      "text/html": [
       "<div>\n",
       "<style scoped>\n",
       "    .dataframe tbody tr th:only-of-type {\n",
       "        vertical-align: middle;\n",
       "    }\n",
       "\n",
       "    .dataframe tbody tr th {\n",
       "        vertical-align: top;\n",
       "    }\n",
       "\n",
       "    .dataframe thead th {\n",
       "        text-align: right;\n",
       "    }\n",
       "</style>\n",
       "<table border=\"1\" class=\"dataframe\">\n",
       "  <thead>\n",
       "    <tr style=\"text-align: right;\">\n",
       "      <th></th>\n",
       "      <th>Date</th>\n",
       "      <th>Country/Region</th>\n",
       "      <th>Province/State</th>\n",
       "      <th>Confirmed</th>\n",
       "      <th>Recovered</th>\n",
       "      <th>Deaths</th>\n",
       "    </tr>\n",
       "  </thead>\n",
       "  <tbody>\n",
       "    <tr>\n",
       "      <th>140716</th>\n",
       "      <td>2020-01-22</td>\n",
       "      <td>US</td>\n",
       "      <td>NaN</td>\n",
       "      <td>1</td>\n",
       "      <td>0.0</td>\n",
       "      <td>0</td>\n",
       "    </tr>\n",
       "    <tr>\n",
       "      <th>140717</th>\n",
       "      <td>2020-01-23</td>\n",
       "      <td>US</td>\n",
       "      <td>NaN</td>\n",
       "      <td>1</td>\n",
       "      <td>0.0</td>\n",
       "      <td>0</td>\n",
       "    </tr>\n",
       "    <tr>\n",
       "      <th>140718</th>\n",
       "      <td>2020-01-24</td>\n",
       "      <td>US</td>\n",
       "      <td>NaN</td>\n",
       "      <td>2</td>\n",
       "      <td>0.0</td>\n",
       "      <td>0</td>\n",
       "    </tr>\n",
       "    <tr>\n",
       "      <th>140719</th>\n",
       "      <td>2020-01-25</td>\n",
       "      <td>US</td>\n",
       "      <td>NaN</td>\n",
       "      <td>2</td>\n",
       "      <td>0.0</td>\n",
       "      <td>0</td>\n",
       "    </tr>\n",
       "    <tr>\n",
       "      <th>140720</th>\n",
       "      <td>2020-01-26</td>\n",
       "      <td>US</td>\n",
       "      <td>NaN</td>\n",
       "      <td>5</td>\n",
       "      <td>0.0</td>\n",
       "      <td>0</td>\n",
       "    </tr>\n",
       "    <tr>\n",
       "      <th>...</th>\n",
       "      <td>...</td>\n",
       "      <td>...</td>\n",
       "      <td>...</td>\n",
       "      <td>...</td>\n",
       "      <td>...</td>\n",
       "      <td>...</td>\n",
       "    </tr>\n",
       "    <tr>\n",
       "      <th>141265</th>\n",
       "      <td>2021-07-24</td>\n",
       "      <td>US</td>\n",
       "      <td>NaN</td>\n",
       "      <td>34428075</td>\n",
       "      <td>0.0</td>\n",
       "      <td>610625</td>\n",
       "    </tr>\n",
       "    <tr>\n",
       "      <th>141266</th>\n",
       "      <td>2021-07-25</td>\n",
       "      <td>US</td>\n",
       "      <td>NaN</td>\n",
       "      <td>34444083</td>\n",
       "      <td>0.0</td>\n",
       "      <td>610681</td>\n",
       "    </tr>\n",
       "    <tr>\n",
       "      <th>141267</th>\n",
       "      <td>2021-07-26</td>\n",
       "      <td>US</td>\n",
       "      <td>NaN</td>\n",
       "      <td>34533179</td>\n",
       "      <td>0.0</td>\n",
       "      <td>610952</td>\n",
       "    </tr>\n",
       "    <tr>\n",
       "      <th>141268</th>\n",
       "      <td>2021-07-27</td>\n",
       "      <td>US</td>\n",
       "      <td>NaN</td>\n",
       "      <td>34603919</td>\n",
       "      <td>0.0</td>\n",
       "      <td>611414</td>\n",
       "    </tr>\n",
       "    <tr>\n",
       "      <th>141269</th>\n",
       "      <td>2021-07-28</td>\n",
       "      <td>US</td>\n",
       "      <td>NaN</td>\n",
       "      <td>34672690</td>\n",
       "      <td>0.0</td>\n",
       "      <td>611801</td>\n",
       "    </tr>\n",
       "  </tbody>\n",
       "</table>\n",
       "<p>554 rows × 6 columns</p>\n",
       "</div>"
      ],
      "text/plain": [
       "              Date Country/Region Province/State  Confirmed  Recovered  Deaths\n",
       "140716  2020-01-22             US            NaN          1        0.0       0\n",
       "140717  2020-01-23             US            NaN          1        0.0       0\n",
       "140718  2020-01-24             US            NaN          2        0.0       0\n",
       "140719  2020-01-25             US            NaN          2        0.0       0\n",
       "140720  2020-01-26             US            NaN          5        0.0       0\n",
       "...            ...            ...            ...        ...        ...     ...\n",
       "141265  2021-07-24             US            NaN   34428075        0.0  610625\n",
       "141266  2021-07-25             US            NaN   34444083        0.0  610681\n",
       "141267  2021-07-26             US            NaN   34533179        0.0  610952\n",
       "141268  2021-07-27             US            NaN   34603919        0.0  611414\n",
       "141269  2021-07-28             US            NaN   34672690        0.0  611801\n",
       "\n",
       "[554 rows x 6 columns]"
      ]
     },
     "execution_count": 75,
     "metadata": {},
     "output_type": "execute_result"
    }
   ],
   "source": [
    "US"
   ]
  },
  {
   "cell_type": "code",
   "execution_count": 76,
   "metadata": {},
   "outputs": [
    {
     "data": {
      "image/png": "[encoded data removed]",
      "text/plain": [
       "<Figure size 432x288 with 1 Axes>"
      ]
     },
     "metadata": {
      "needs_background": "light"
     },
     "output_type": "display_data"
    }
   ],
   "source": [
    "#plotting graphs of confirmed cases over each country\n",
    "import matplotlib.pyplot as plt\n",
    "US.plot( 'Date' ,'Confirmed' )\n",
    "plt.show()"
   ]
  },
  {
   "cell_type": "code",
   "execution_count": 27,
   "metadata": {},
   "outputs": [],
   "source": [
    "Brazil=df[df['Country/Region'] == 'Brazil' ]"
   ]
  },
  {
   "cell_type": "code",
   "execution_count": 28,
   "metadata": {},
   "outputs": [
    {
     "data": {
      "image/png": "[encoded data removed]",
      "text/plain": [
       "<Figure size 432x288 with 1 Axes>"
      ]
     },
     "metadata": {
      "needs_background": "light"
     },
     "output_type": "display_data"
    }
   ],
   "source": [
    "Brazil.plot( 'Date' ,'Confirmed' )\n",
    "plt.show()"
   ]
  },
  {
   "cell_type": "code",
   "execution_count": 29,
   "metadata": {},
   "outputs": [],
   "source": [
    "India=df[df['Country/Region'] == 'India' ]"
   ]
  },
  {
   "cell_type": "code",
   "execution_count": 30,
   "metadata": {},
   "outputs": [
    {
     "data": {
      "image/png": "[encoded data removed]",
      "text/plain": [
       "<Figure size 432x288 with 1 Axes>"
      ]
     },
     "metadata": {
      "needs_background": "light"
     },
     "output_type": "display_data"
    }
   ],
   "source": [
    "India.plot( 'Date' ,'Confirmed' )\n",
    "plt.show()"
   ]
  },
  {
   "cell_type": "code",
   "execution_count": 31,
   "metadata": {},
   "outputs": [],
   "source": [
    "France=df[df['Country/Region'] == 'France' ]"
   ]
  },
  {
   "cell_type": "code",
   "execution_count": 32,
   "metadata": {},
   "outputs": [
    {
     "data": {
      "image/png": "[encoded data removed]",
      "text/plain": [
       "<Figure size 432x288 with 1 Axes>"
      ]
     },
     "metadata": {
      "needs_background": "light"
     },
     "output_type": "display_data"
    }
   ],
   "source": [
    "France.plot( 'Date' ,'Confirmed' )\n",
    "plt.show()"
   ]
  },
  {
   "cell_type": "code",
   "execution_count": 36,
   "metadata": {},
   "outputs": [],
   "source": [
    "Russia=df[df['Country/Region'] == 'Russia' ]"
   ]
  },
  {
   "cell_type": "code",
   "execution_count": 34,
   "metadata": {},
   "outputs": [
    {
     "data": {
      "image/png": "[encoded data removed]",
      "text/plain": [
       "<Figure size 432x288 with 1 Axes>"
      ]
     },
     "metadata": {
      "needs_background": "light"
     },
     "output_type": "display_data"
    }
   ],
   "source": [
    "Russia.plot( 'Date' ,'Confirmed' )\n",
    "plt.show()"
   ]
  },
  {
   "cell_type": "code",
   "execution_count": 37,
   "metadata": {},
   "outputs": [],
   "source": [
    "UK=df[df['Country/Region'] == 'United Kingdom' ]"
   ]
  },
  {
   "cell_type": "code",
   "execution_count": 38,
   "metadata": {},
   "outputs": [
    {
     "data": {
      "image/png": "[encoded data removed]",
      "text/plain": [
       "<Figure size 432x288 with 1 Axes>"
      ]
     },
     "metadata": {
      "needs_background": "light"
     },
     "output_type": "display_data"
    }
   ],
   "source": [
    "UK.plot( 'Date' ,'Confirmed' )\n",
    "plt.show()"
   ]
  },
  {
   "cell_type": "code",
   "execution_count": 40,
   "metadata": {},
   "outputs": [],
   "source": [
    "Turkey=df[df['Country/Region'] == 'Turkey' ]"
   ]
  },
  {
   "cell_type": "code",
   "execution_count": 41,
   "metadata": {},
   "outputs": [
    {
     "data": {
      "image/png": "[encoded data removed]",
      "text/plain": [
       "<Figure size 432x288 with 1 Axes>"
      ]
     },
     "metadata": {
      "needs_background": "light"
     },
     "output_type": "display_data"
    }
   ],
   "source": [
    "Turkey.plot( 'Date' ,'Confirmed' )\n",
    "plt.show()"
   ]
  },
  {
   "cell_type": "code",
   "execution_count": 42,
   "metadata": {},
   "outputs": [],
   "source": [
    "Argentina=df[df['Country/Region'] == 'Argentina' ]"
   ]
  },
  {
   "cell_type": "code",
   "execution_count": 43,
   "metadata": {},
   "outputs": [
    {
     "data": {
      "image/png": "[encoded data removed]",
      "text/plain": [
       "<Figure size 432x288 with 1 Axes>"
      ]
     },
     "metadata": {
      "needs_background": "light"
     },
     "output_type": "display_data"
    }
   ],
   "source": [
    "Argentina.plot( 'Date' ,'Confirmed' )\n",
    "plt.show()"
   ]
  },
  {
   "cell_type": "code",
   "execution_count": 46,
   "metadata": {},
   "outputs": [],
   "source": [
    "Colombia=df[df['Country/Region'] == 'Colombia' ]"
   ]
  },
  {
   "cell_type": "code",
   "execution_count": 47,
   "metadata": {},
   "outputs": [
    {
     "data": {
      "image/png": "[encoded data removed]",
      "text/plain": [
       "<Figure size 432x288 with 1 Axes>"
      ]
     },
     "metadata": {
      "needs_background": "light"
     },
     "output_type": "display_data"
    }
   ],
   "source": [
    "Colombia.plot( 'Date' ,'Confirmed' )\n",
    "plt.show()"
   ]
  },
  {
   "cell_type": "code",
   "execution_count": 48,
   "metadata": {},
   "outputs": [],
   "source": [
    "Spain=df[df['Country/Region'] == 'Spain' ]"
   ]
  },
  {
   "cell_type": "code",
   "execution_count": 49,
   "metadata": {},
   "outputs": [
    {
     "data": {
      "image/png": "[encoded data removed]",
      "text/plain": [
       "<Figure size 432x288 with 1 Axes>"
      ]
     },
     "metadata": {
      "needs_background": "light"
     },
     "output_type": "display_data"
    }
   ],
   "source": [
    "Spain.plot( 'Date' ,'Confirmed' )\n",
    "plt.show()"
   ]
  },
  {
   "cell_type": "code",
   "execution_count": 82,
   "metadata": {},
   "outputs": [
    {
     "name": "stderr",
     "output_type": "stream",
     "text": [
      "C:\\ProgramData\\Anaconda3\\lib\\site-packages\\ipykernel_launcher.py:1: SettingWithCopyWarning: \n",
      "A value is trying to be set on a copy of a slice from a DataFrame.\n",
      "Try using .loc[row_indexer,col_indexer] = value instead\n",
      "\n",
      "See the caveats in the documentation: http://pandas.pydata.org/pandas-docs/stable/user_guide/indexing.html#returning-a-view-versus-a-copy\n",
      "  \"\"\"Entry point for launching an IPython kernel.\n"
     ]
    },
    {
     "data": {
      "text/plain": [
       "<matplotlib.axes._subplots.AxesSubplot at 0x21047c0e3c8>"
      ]
     },
     "execution_count": 82,
     "metadata": {},
     "output_type": "execute_result"
    },
    {
     "data": {
      "image/png": "[encoded data removed]",
      "text/plain": [
       "<Figure size 432x288 with 1 Axes>"
      ]
     },
     "metadata": {
      "needs_background": "light"
     },
     "output_type": "display_data"
    }
   ],
   "source": [
    "#bar plot to show no. of deaths per 100 confirmed cases\n",
    "a1['Death_percent_confirmed']=a1['Deaths']*100/a1['Confirmed']\n",
    "a1['Death_percent_confirmed'].nlargest(20).plot.bar()"
   ]
  },
  {
   "cell_type": "code",
   "execution_count": 96,
   "metadata": {},
   "outputs": [],
   "source": [
    "#loading the population file\n",
    "file=pd.read_json('worldpopulation.json')\n",
    "a1.reset_index(level=0, inplace=True)"
   ]
  },
  {
   "cell_type": "code",
   "execution_count": 101,
   "metadata": {},
   "outputs": [],
   "source": [
    "#finding the cases pr capita\n",
    "casesPerCapita=pd.DataFrame()\n",
    "casesPerCapita['Cases_per_capita']=a1['Confirmed']/file['population']\n",
    "casesPerCapita['Country']=file['country']"
   ]
  },
  {
   "cell_type": "code",
   "execution_count": 102,
   "metadata": {},
   "outputs": [
    {
     "name": "stdout",
     "output_type": "stream",
     "text": [
      "     Cases_per_capita     Country\n",
      "0            0.000105       China\n",
      "1            0.000099       India\n",
      "2            0.000512        U.S.\n",
      "3            0.000055   Indonesia\n",
      "4            0.000200      Brazil\n",
      "..                ...         ...\n",
      "190          3.851233  San Marino\n",
      "191         14.559882       Palau\n",
      "192               NaN         NaN\n",
      "193               NaN         NaN\n",
      "194        129.297129    Holy See\n",
      "\n",
      "[195 rows x 2 columns]\n"
     ]
    }
   ],
   "source": [
    "print(casesPerCapita)"
   ]
  },
  {
   "cell_type": "code",
   "execution_count": 104,
   "metadata": {},
   "outputs": [],
   "source": [
    "#importing the climate file\n",
    "import json\n",
    "from pandas.io.json import json_normalize\n",
    "with open('climate.json') as x:\n",
    "    data=json.load(x)\n",
    "r=json_normalize(data, 'monthlyAvg', ['country'])\n",
    "r.columns=['High','Low',\"dry_days\",\"snow_days\",'rain_fall', 'Country/Region']\n",
    "p=pd.DataFrame(r)"
   ]
  },
  {
   "cell_type": "code",
   "execution_count": 105,
   "metadata": {},
   "outputs": [],
   "source": [
    "#merging the data of the two dataframes\n",
    "data=pd.merge(p, a1, on='Country/Region')"
   ]
  },
  {
   "cell_type": "code",
   "execution_count": 106,
   "metadata": {},
   "outputs": [
    {
     "data": {
      "text/html": [
       "<div>\n",
       "<style scoped>\n",
       "    .dataframe tbody tr th:only-of-type {\n",
       "        vertical-align: middle;\n",
       "    }\n",
       "\n",
       "    .dataframe tbody tr th {\n",
       "        vertical-align: top;\n",
       "    }\n",
       "\n",
       "    .dataframe thead th {\n",
       "        text-align: right;\n",
       "    }\n",
       "</style>\n",
       "<table border=\"1\" class=\"dataframe\">\n",
       "  <thead>\n",
       "    <tr style=\"text-align: right;\">\n",
       "      <th></th>\n",
       "      <th>High</th>\n",
       "      <th>Low</th>\n",
       "      <th>dry_days</th>\n",
       "      <th>snow_days</th>\n",
       "      <th>rain_fall</th>\n",
       "      <th>Country/Region</th>\n",
       "      <th>level_0</th>\n",
       "      <th>index</th>\n",
       "      <th>Date</th>\n",
       "      <th>Confirmed</th>\n",
       "      <th>Recovered</th>\n",
       "      <th>Deaths</th>\n",
       "    </tr>\n",
       "  </thead>\n",
       "  <tbody>\n",
       "    <tr>\n",
       "      <th>0</th>\n",
       "      <td>7</td>\n",
       "      <td>3</td>\n",
       "      <td>19</td>\n",
       "      <td>4.0</td>\n",
       "      <td>68.0</td>\n",
       "      <td>Netherlands</td>\n",
       "      <td>107960</td>\n",
       "      <td>107960</td>\n",
       "      <td>2021-07-28</td>\n",
       "      <td>1884198.0</td>\n",
       "      <td>28074.0</td>\n",
       "      <td>18098.0</td>\n",
       "    </tr>\n",
       "    <tr>\n",
       "      <th>1</th>\n",
       "      <td>6</td>\n",
       "      <td>3</td>\n",
       "      <td>13</td>\n",
       "      <td>2.0</td>\n",
       "      <td>47.0</td>\n",
       "      <td>Netherlands</td>\n",
       "      <td>107960</td>\n",
       "      <td>107960</td>\n",
       "      <td>2021-07-28</td>\n",
       "      <td>1884198.0</td>\n",
       "      <td>28074.0</td>\n",
       "      <td>18098.0</td>\n",
       "    </tr>\n",
       "    <tr>\n",
       "      <th>2</th>\n",
       "      <td>10</td>\n",
       "      <td>6</td>\n",
       "      <td>16</td>\n",
       "      <td>1.0</td>\n",
       "      <td>65.0</td>\n",
       "      <td>Netherlands</td>\n",
       "      <td>107960</td>\n",
       "      <td>107960</td>\n",
       "      <td>2021-07-28</td>\n",
       "      <td>1884198.0</td>\n",
       "      <td>28074.0</td>\n",
       "      <td>18098.0</td>\n",
       "    </tr>\n",
       "    <tr>\n",
       "      <th>3</th>\n",
       "      <td>11</td>\n",
       "      <td>7</td>\n",
       "      <td>12</td>\n",
       "      <td>0.0</td>\n",
       "      <td>52.0</td>\n",
       "      <td>Netherlands</td>\n",
       "      <td>107960</td>\n",
       "      <td>107960</td>\n",
       "      <td>2021-07-28</td>\n",
       "      <td>1884198.0</td>\n",
       "      <td>28074.0</td>\n",
       "      <td>18098.0</td>\n",
       "    </tr>\n",
       "    <tr>\n",
       "      <th>4</th>\n",
       "      <td>16</td>\n",
       "      <td>11</td>\n",
       "      <td>15</td>\n",
       "      <td>0.0</td>\n",
       "      <td>59.0</td>\n",
       "      <td>Netherlands</td>\n",
       "      <td>107960</td>\n",
       "      <td>107960</td>\n",
       "      <td>2021-07-28</td>\n",
       "      <td>1884198.0</td>\n",
       "      <td>28074.0</td>\n",
       "      <td>18098.0</td>\n",
       "    </tr>\n",
       "    <tr>\n",
       "      <th>...</th>\n",
       "      <td>...</td>\n",
       "      <td>...</td>\n",
       "      <td>...</td>\n",
       "      <td>...</td>\n",
       "      <td>...</td>\n",
       "      <td>...</td>\n",
       "      <td>...</td>\n",
       "      <td>...</td>\n",
       "      <td>...</td>\n",
       "      <td>...</td>\n",
       "      <td>...</td>\n",
       "      <td>...</td>\n",
       "    </tr>\n",
       "    <tr>\n",
       "      <th>835</th>\n",
       "      <td>25</td>\n",
       "      <td>13</td>\n",
       "      <td>15</td>\n",
       "      <td>0.0</td>\n",
       "      <td>117.0</td>\n",
       "      <td>Switzerland</td>\n",
       "      <td>108005</td>\n",
       "      <td>108005</td>\n",
       "      <td>2021-07-28</td>\n",
       "      <td>716038.0</td>\n",
       "      <td>317600.0</td>\n",
       "      <td>10902.0</td>\n",
       "    </tr>\n",
       "    <tr>\n",
       "      <th>836</th>\n",
       "      <td>20</td>\n",
       "      <td>9</td>\n",
       "      <td>12</td>\n",
       "      <td>0.0</td>\n",
       "      <td>85.9</td>\n",
       "      <td>Switzerland</td>\n",
       "      <td>108005</td>\n",
       "      <td>108005</td>\n",
       "      <td>2021-07-28</td>\n",
       "      <td>716038.0</td>\n",
       "      <td>317600.0</td>\n",
       "      <td>10902.0</td>\n",
       "    </tr>\n",
       "    <tr>\n",
       "      <th>837</th>\n",
       "      <td>15</td>\n",
       "      <td>6</td>\n",
       "      <td>11</td>\n",
       "      <td>2.0</td>\n",
       "      <td>90.2</td>\n",
       "      <td>Switzerland</td>\n",
       "      <td>108005</td>\n",
       "      <td>108005</td>\n",
       "      <td>2021-07-28</td>\n",
       "      <td>716038.0</td>\n",
       "      <td>317600.0</td>\n",
       "      <td>10902.0</td>\n",
       "    </tr>\n",
       "    <tr>\n",
       "      <th>838</th>\n",
       "      <td>8</td>\n",
       "      <td>1</td>\n",
       "      <td>11</td>\n",
       "      <td>8.0</td>\n",
       "      <td>80.4</td>\n",
       "      <td>Switzerland</td>\n",
       "      <td>108005</td>\n",
       "      <td>108005</td>\n",
       "      <td>2021-07-28</td>\n",
       "      <td>716038.0</td>\n",
       "      <td>317600.0</td>\n",
       "      <td>10902.0</td>\n",
       "    </tr>\n",
       "    <tr>\n",
       "      <th>839</th>\n",
       "      <td>4</td>\n",
       "      <td>-1</td>\n",
       "      <td>14</td>\n",
       "      <td>12.0</td>\n",
       "      <td>71.8</td>\n",
       "      <td>Switzerland</td>\n",
       "      <td>108005</td>\n",
       "      <td>108005</td>\n",
       "      <td>2021-07-28</td>\n",
       "      <td>716038.0</td>\n",
       "      <td>317600.0</td>\n",
       "      <td>10902.0</td>\n",
       "    </tr>\n",
       "  </tbody>\n",
       "</table>\n",
       "<p>840 rows × 12 columns</p>\n",
       "</div>"
      ],
      "text/plain": [
       "     High  Low  dry_days  snow_days  rain_fall Country/Region  level_0  \\\n",
       "0       7    3        19        4.0       68.0    Netherlands   107960   \n",
       "1       6    3        13        2.0       47.0    Netherlands   107960   \n",
       "2      10    6        16        1.0       65.0    Netherlands   107960   \n",
       "3      11    7        12        0.0       52.0    Netherlands   107960   \n",
       "4      16   11        15        0.0       59.0    Netherlands   107960   \n",
       "..    ...  ...       ...        ...        ...            ...      ...   \n",
       "835    25   13        15        0.0      117.0    Switzerland   108005   \n",
       "836    20    9        12        0.0       85.9    Switzerland   108005   \n",
       "837    15    6        11        2.0       90.2    Switzerland   108005   \n",
       "838     8    1        11        8.0       80.4    Switzerland   108005   \n",
       "839     4   -1        14       12.0       71.8    Switzerland   108005   \n",
       "\n",
       "      index        Date  Confirmed  Recovered   Deaths  \n",
       "0    107960  2021-07-28  1884198.0    28074.0  18098.0  \n",
       "1    107960  2021-07-28  1884198.0    28074.0  18098.0  \n",
       "2    107960  2021-07-28  1884198.0    28074.0  18098.0  \n",
       "3    107960  2021-07-28  1884198.0    28074.0  18098.0  \n",
       "4    107960  2021-07-28  1884198.0    28074.0  18098.0  \n",
       "..      ...         ...        ...        ...      ...  \n",
       "835  108005  2021-07-28   716038.0   317600.0  10902.0  \n",
       "836  108005  2021-07-28   716038.0   317600.0  10902.0  \n",
       "837  108005  2021-07-28   716038.0   317600.0  10902.0  \n",
       "838  108005  2021-07-28   716038.0   317600.0  10902.0  \n",
       "839  108005  2021-07-28   716038.0   317600.0  10902.0  \n",
       "\n",
       "[840 rows x 12 columns]"
      ]
     },
     "execution_count": 106,
     "metadata": {},
     "output_type": "execute_result"
    }
   ],
   "source": [
    "data"
   ]
  },
  {
   "cell_type": "code",
   "execution_count": 123,
   "metadata": {},
   "outputs": [
    {
     "data": {
      "text/plain": [
       "<matplotlib.collections.PathCollection at 0x2104edae948>"
      ]
     },
     "execution_count": 123,
     "metadata": {},
     "output_type": "execute_result"
    },
    {
     "data": {
      "image/png": "[encoded data removed]",
      "text/plain": [
       "<Figure size 432x288 with 1 Axes>"
      ]
     },
     "metadata": {
      "needs_background": "light"
     },
     "output_type": "display_data"
    }
   ],
   "source": [
    "#plotting the graph\n",
    "plt.scatter(data['Confirmed'],data['High'])"
   ]
  },
  {
   "cell_type": "code",
   "execution_count": null,
   "metadata": {},
   "outputs": [],
   "source": []
  }
 ],
 "metadata": {
  "kernelspec": {
   "display_name": "Python 3",
   "language": "python",
   "name": "python3"
  },
  "language_info": {
   "codemirror_mode": {
    "name": "ipython",
    "version": 3
   },
   "file_extension": ".py",
   "mimetype": "text/x-python",
   "name": "python",
   "nbconvert_exporter": "python",
   "pygments_lexer": "ipython3",
   "version": "3.7.5"
  }
 },
 "nbformat": 4,
 "nbformat_minor": 2
}
