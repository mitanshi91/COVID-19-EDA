{
 "cells": [
  {
   "cell_type": "code",
   "execution_count": 1,
   "metadata": {},
   "outputs": [],
   "source": [
    "import pandas as pd"
   ]
  },
  {
   "cell_type": "markdown",
   "metadata": {},
   "source": [
    "# 1"
   ]
  },
  {
   "cell_type": "code",
   "execution_count": 39,
   "metadata": {},
   "outputs": [],
   "source": [
    "data = pd.read_csv(\"time-series-19-covid-combined.csv\")"
   ]
  },
  {
   "cell_type": "code",
   "execution_count": 60,
   "metadata": {},
   "outputs": [],
   "source": [
    "df=pd.DataFrame(data)"
   ]
  },
  {
   "cell_type": "markdown",
   "metadata": {},
   "source": [
    "# 2"
   ]
  },
  {
   "cell_type": "code",
   "execution_count": 61,
   "metadata": {},
   "outputs": [],
   "source": [
    "# Creating a DataFrame"
   ]
  },
  {
   "cell_type": "code",
   "execution_count": 62,
   "metadata": {},
   "outputs": [
    {
     "data": {
      "text/html": [
       "<div>\n",
       "<style scoped>\n",
       "    .dataframe tbody tr th:only-of-type {\n",
       "        vertical-align: middle;\n",
       "    }\n",
       "\n",
       "    .dataframe tbody tr th {\n",
       "        vertical-align: top;\n",
       "    }\n",
       "\n",
       "    .dataframe thead th {\n",
       "        text-align: right;\n",
       "    }\n",
       "</style>\n",
       "<table border=\"1\" class=\"dataframe\">\n",
       "  <thead>\n",
       "    <tr style=\"text-align: right;\">\n",
       "      <th></th>\n",
       "      <th>Date</th>\n",
       "      <th>Country/Region</th>\n",
       "      <th>Province/State</th>\n",
       "      <th>Confirmed</th>\n",
       "      <th>Recovered</th>\n",
       "      <th>Deaths</th>\n",
       "    </tr>\n",
       "  </thead>\n",
       "  <tbody>\n",
       "    <tr>\n",
       "      <th>0</th>\n",
       "      <td>2020-01-22</td>\n",
       "      <td>Afghanistan</td>\n",
       "      <td>NaN</td>\n",
       "      <td>0</td>\n",
       "      <td>0.0</td>\n",
       "      <td>0</td>\n",
       "    </tr>\n",
       "    <tr>\n",
       "      <th>1</th>\n",
       "      <td>2020-01-23</td>\n",
       "      <td>Afghanistan</td>\n",
       "      <td>NaN</td>\n",
       "      <td>0</td>\n",
       "      <td>0.0</td>\n",
       "      <td>0</td>\n",
       "    </tr>\n",
       "    <tr>\n",
       "      <th>2</th>\n",
       "      <td>2020-01-24</td>\n",
       "      <td>Afghanistan</td>\n",
       "      <td>NaN</td>\n",
       "      <td>0</td>\n",
       "      <td>0.0</td>\n",
       "      <td>0</td>\n",
       "    </tr>\n",
       "    <tr>\n",
       "      <th>3</th>\n",
       "      <td>2020-01-25</td>\n",
       "      <td>Afghanistan</td>\n",
       "      <td>NaN</td>\n",
       "      <td>0</td>\n",
       "      <td>0.0</td>\n",
       "      <td>0</td>\n",
       "    </tr>\n",
       "    <tr>\n",
       "      <th>4</th>\n",
       "      <td>2020-01-26</td>\n",
       "      <td>Afghanistan</td>\n",
       "      <td>NaN</td>\n",
       "      <td>0</td>\n",
       "      <td>0.0</td>\n",
       "      <td>0</td>\n",
       "    </tr>\n",
       "    <tr>\n",
       "      <th>...</th>\n",
       "      <td>...</td>\n",
       "      <td>...</td>\n",
       "      <td>...</td>\n",
       "      <td>...</td>\n",
       "      <td>...</td>\n",
       "      <td>...</td>\n",
       "    </tr>\n",
       "    <tr>\n",
       "      <th>154561</th>\n",
       "      <td>2021-07-24</td>\n",
       "      <td>Zimbabwe</td>\n",
       "      <td>NaN</td>\n",
       "      <td>97277</td>\n",
       "      <td>64628.0</td>\n",
       "      <td>3050</td>\n",
       "    </tr>\n",
       "    <tr>\n",
       "      <th>154562</th>\n",
       "      <td>2021-07-25</td>\n",
       "      <td>Zimbabwe</td>\n",
       "      <td>NaN</td>\n",
       "      <td>97894</td>\n",
       "      <td>65913.0</td>\n",
       "      <td>3094</td>\n",
       "    </tr>\n",
       "    <tr>\n",
       "      <th>154563</th>\n",
       "      <td>2021-07-26</td>\n",
       "      <td>Zimbabwe</td>\n",
       "      <td>NaN</td>\n",
       "      <td>99944</td>\n",
       "      <td>67827.0</td>\n",
       "      <td>3173</td>\n",
       "    </tr>\n",
       "    <tr>\n",
       "      <th>154564</th>\n",
       "      <td>2021-07-27</td>\n",
       "      <td>Zimbabwe</td>\n",
       "      <td>NaN</td>\n",
       "      <td>101711</td>\n",
       "      <td>70496.0</td>\n",
       "      <td>3280</td>\n",
       "    </tr>\n",
       "    <tr>\n",
       "      <th>154565</th>\n",
       "      <td>2021-07-28</td>\n",
       "      <td>Zimbabwe</td>\n",
       "      <td>NaN</td>\n",
       "      <td>103567</td>\n",
       "      <td>71383.0</td>\n",
       "      <td>3340</td>\n",
       "    </tr>\n",
       "  </tbody>\n",
       "</table>\n",
       "<p>154566 rows × 6 columns</p>\n",
       "</div>"
      ],
      "text/plain": [
       "              Date Country/Region Province/State  Confirmed  Recovered  Deaths\n",
       "0       2020-01-22    Afghanistan            NaN          0        0.0       0\n",
       "1       2020-01-23    Afghanistan            NaN          0        0.0       0\n",
       "2       2020-01-24    Afghanistan            NaN          0        0.0       0\n",
       "3       2020-01-25    Afghanistan            NaN          0        0.0       0\n",
       "4       2020-01-26    Afghanistan            NaN          0        0.0       0\n",
       "...            ...            ...            ...        ...        ...     ...\n",
       "154561  2021-07-24       Zimbabwe            NaN      97277    64628.0    3050\n",
       "154562  2021-07-25       Zimbabwe            NaN      97894    65913.0    3094\n",
       "154563  2021-07-26       Zimbabwe            NaN      99944    67827.0    3173\n",
       "154564  2021-07-27       Zimbabwe            NaN     101711    70496.0    3280\n",
       "154565  2021-07-28       Zimbabwe            NaN     103567    71383.0    3340\n",
       "\n",
       "[154566 rows x 6 columns]"
      ]
     },
     "execution_count": 62,
     "metadata": {},
     "output_type": "execute_result"
    }
   ],
   "source": [
    "df"
   ]
  },
  {
   "cell_type": "markdown",
   "metadata": {},
   "source": [
    "# 3"
   ]
  },
  {
   "cell_type": "code",
   "execution_count": 132,
   "metadata": {},
   "outputs": [],
   "source": [
    "#  Merge the data for countries with multiple regions in order to provide a single time-series for each country"
   ]
  },
  {
   "cell_type": "code",
   "execution_count": 120,
   "metadata": {},
   "outputs": [],
   "source": [
    "df_new = df.groupby(['Date', 'Country/Region'])[\"Confirmed\", \"Recovered\",'Deaths'].apply(lambda x : x.sum())"
   ]
  },
  {
   "cell_type": "code",
   "execution_count": 183,
   "metadata": {},
   "outputs": [
    {
     "data": {
      "text/html": [
       "<div>\n",
       "<style scoped>\n",
       "    .dataframe tbody tr th:only-of-type {\n",
       "        vertical-align: middle;\n",
       "    }\n",
       "\n",
       "    .dataframe tbody tr th {\n",
       "        vertical-align: top;\n",
       "    }\n",
       "\n",
       "    .dataframe thead th {\n",
       "        text-align: right;\n",
       "    }\n",
       "</style>\n",
       "<table border=\"1\" class=\"dataframe\">\n",
       "  <thead>\n",
       "    <tr style=\"text-align: right;\">\n",
       "      <th></th>\n",
       "      <th>Date</th>\n",
       "      <th>Confirmed</th>\n",
       "      <th>Recovered</th>\n",
       "      <th>Deaths</th>\n",
       "    </tr>\n",
       "    <tr>\n",
       "      <th>Country/Region</th>\n",
       "      <th></th>\n",
       "      <th></th>\n",
       "      <th></th>\n",
       "      <th></th>\n",
       "    </tr>\n",
       "  </thead>\n",
       "  <tbody>\n",
       "    <tr>\n",
       "      <th>Afghanistan</th>\n",
       "      <td>2020-01-22</td>\n",
       "      <td>0.0</td>\n",
       "      <td>0.0</td>\n",
       "      <td>0.0</td>\n",
       "    </tr>\n",
       "    <tr>\n",
       "      <th>Albania</th>\n",
       "      <td>2020-01-22</td>\n",
       "      <td>0.0</td>\n",
       "      <td>0.0</td>\n",
       "      <td>0.0</td>\n",
       "    </tr>\n",
       "    <tr>\n",
       "      <th>Algeria</th>\n",
       "      <td>2020-01-22</td>\n",
       "      <td>0.0</td>\n",
       "      <td>0.0</td>\n",
       "      <td>0.0</td>\n",
       "    </tr>\n",
       "    <tr>\n",
       "      <th>Andorra</th>\n",
       "      <td>2020-01-22</td>\n",
       "      <td>0.0</td>\n",
       "      <td>0.0</td>\n",
       "      <td>0.0</td>\n",
       "    </tr>\n",
       "    <tr>\n",
       "      <th>Angola</th>\n",
       "      <td>2020-01-22</td>\n",
       "      <td>0.0</td>\n",
       "      <td>0.0</td>\n",
       "      <td>0.0</td>\n",
       "    </tr>\n",
       "    <tr>\n",
       "      <th>...</th>\n",
       "      <td>...</td>\n",
       "      <td>...</td>\n",
       "      <td>...</td>\n",
       "      <td>...</td>\n",
       "    </tr>\n",
       "    <tr>\n",
       "      <th>Vietnam</th>\n",
       "      <td>2021-07-28</td>\n",
       "      <td>123640.0</td>\n",
       "      <td>27457.0</td>\n",
       "      <td>630.0</td>\n",
       "    </tr>\n",
       "    <tr>\n",
       "      <th>West Bank and Gaza</th>\n",
       "      <td>2021-07-28</td>\n",
       "      <td>316328.0</td>\n",
       "      <td>311622.0</td>\n",
       "      <td>3601.0</td>\n",
       "    </tr>\n",
       "    <tr>\n",
       "      <th>Yemen</th>\n",
       "      <td>2021-07-28</td>\n",
       "      <td>7027.0</td>\n",
       "      <td>4168.0</td>\n",
       "      <td>1374.0</td>\n",
       "    </tr>\n",
       "    <tr>\n",
       "      <th>Zambia</th>\n",
       "      <td>2021-07-28</td>\n",
       "      <td>193432.0</td>\n",
       "      <td>183957.0</td>\n",
       "      <td>3338.0</td>\n",
       "    </tr>\n",
       "    <tr>\n",
       "      <th>Zimbabwe</th>\n",
       "      <td>2021-07-28</td>\n",
       "      <td>103567.0</td>\n",
       "      <td>71383.0</td>\n",
       "      <td>3340.0</td>\n",
       "    </tr>\n",
       "  </tbody>\n",
       "</table>\n",
       "<p>108030 rows × 4 columns</p>\n",
       "</div>"
      ],
      "text/plain": [
       "                         Date  Confirmed  Recovered  Deaths\n",
       "Country/Region                                             \n",
       "Afghanistan        2020-01-22        0.0        0.0     0.0\n",
       "Albania            2020-01-22        0.0        0.0     0.0\n",
       "Algeria            2020-01-22        0.0        0.0     0.0\n",
       "Andorra            2020-01-22        0.0        0.0     0.0\n",
       "Angola             2020-01-22        0.0        0.0     0.0\n",
       "...                       ...        ...        ...     ...\n",
       "Vietnam            2021-07-28   123640.0    27457.0   630.0\n",
       "West Bank and Gaza 2021-07-28   316328.0   311622.0  3601.0\n",
       "Yemen              2021-07-28     7027.0     4168.0  1374.0\n",
       "Zambia             2021-07-28   193432.0   183957.0  3338.0\n",
       "Zimbabwe           2021-07-28   103567.0    71383.0  3340.0\n",
       "\n",
       "[108030 rows x 4 columns]"
      ]
     },
     "execution_count": 183,
     "metadata": {},
     "output_type": "execute_result"
    }
   ],
   "source": [
    "df_new"
   ]
  },
  {
   "cell_type": "markdown",
   "metadata": {},
   "source": [
    "# 4"
   ]
  },
  {
   "cell_type": "code",
   "execution_count": 122,
   "metadata": {},
   "outputs": [],
   "source": [
    "#  Print the total number of confirmed cases and number of deaths in each country in the last reported day. "
   ]
  },
  {
   "cell_type": "code",
   "execution_count": 123,
   "metadata": {},
   "outputs": [],
   "source": [
    "df_new.reset_index(level=0, inplace=True)"
   ]
  },
  {
   "cell_type": "code",
   "execution_count": 124,
   "metadata": {},
   "outputs": [],
   "source": [
    "# df['Date'] = pd.to_datetime(df['Date'])"
   ]
  },
  {
   "cell_type": "code",
   "execution_count": 125,
   "metadata": {},
   "outputs": [
    {
     "name": "stdout",
     "output_type": "stream",
     "text": [
      "2020-01-22 00:00:00\n",
      "2021-07-28 00:00:00\n"
     ]
    }
   ],
   "source": [
    "# initial=df_new['Date'].min()\n",
    "# latest=df_new['Date'].max()\n",
    "# print(initial)\n",
    "# print(latest)"
   ]
  },
  {
   "cell_type": "code",
   "execution_count": 668,
   "metadata": {},
   "outputs": [],
   "source": [
    "df_1 = df_new[df_new['Date'] == '2021-07-28']"
   ]
  },
  {
   "cell_type": "code",
   "execution_count": 228,
   "metadata": {
    "collapsed": true
   },
   "outputs": [
    {
     "data": {
      "text/html": [
       "<div>\n",
       "<style scoped>\n",
       "    .dataframe tbody tr th:only-of-type {\n",
       "        vertical-align: middle;\n",
       "    }\n",
       "\n",
       "    .dataframe tbody tr th {\n",
       "        vertical-align: top;\n",
       "    }\n",
       "\n",
       "    .dataframe thead th {\n",
       "        text-align: right;\n",
       "    }\n",
       "</style>\n",
       "<table border=\"1\" class=\"dataframe\">\n",
       "  <thead>\n",
       "    <tr style=\"text-align: right;\">\n",
       "      <th></th>\n",
       "      <th>Date</th>\n",
       "      <th>Confirmed</th>\n",
       "      <th>Recovered</th>\n",
       "      <th>Deaths</th>\n",
       "    </tr>\n",
       "    <tr>\n",
       "      <th>Country/Region</th>\n",
       "      <th></th>\n",
       "      <th></th>\n",
       "      <th></th>\n",
       "      <th></th>\n",
       "    </tr>\n",
       "  </thead>\n",
       "  <tbody>\n",
       "    <tr>\n",
       "      <th>Afghanistan</th>\n",
       "      <td>2021-07-28</td>\n",
       "      <td>145552.0</td>\n",
       "      <td>82586.0</td>\n",
       "      <td>6577.0</td>\n",
       "    </tr>\n",
       "    <tr>\n",
       "      <th>Albania</th>\n",
       "      <td>2021-07-28</td>\n",
       "      <td>132952.0</td>\n",
       "      <td>130174.0</td>\n",
       "      <td>2457.0</td>\n",
       "    </tr>\n",
       "    <tr>\n",
       "      <th>Algeria</th>\n",
       "      <td>2021-07-28</td>\n",
       "      <td>167131.0</td>\n",
       "      <td>112900.0</td>\n",
       "      <td>4161.0</td>\n",
       "    </tr>\n",
       "    <tr>\n",
       "      <th>Andorra</th>\n",
       "      <td>2021-07-28</td>\n",
       "      <td>14586.0</td>\n",
       "      <td>14113.0</td>\n",
       "      <td>127.0</td>\n",
       "    </tr>\n",
       "    <tr>\n",
       "      <th>Angola</th>\n",
       "      <td>2021-07-28</td>\n",
       "      <td>42288.0</td>\n",
       "      <td>35964.0</td>\n",
       "      <td>1000.0</td>\n",
       "    </tr>\n",
       "    <tr>\n",
       "      <th>...</th>\n",
       "      <td>...</td>\n",
       "      <td>...</td>\n",
       "      <td>...</td>\n",
       "      <td>...</td>\n",
       "    </tr>\n",
       "    <tr>\n",
       "      <th>Vietnam</th>\n",
       "      <td>2021-07-28</td>\n",
       "      <td>123640.0</td>\n",
       "      <td>27457.0</td>\n",
       "      <td>630.0</td>\n",
       "    </tr>\n",
       "    <tr>\n",
       "      <th>West Bank and Gaza</th>\n",
       "      <td>2021-07-28</td>\n",
       "      <td>316328.0</td>\n",
       "      <td>311622.0</td>\n",
       "      <td>3601.0</td>\n",
       "    </tr>\n",
       "    <tr>\n",
       "      <th>Yemen</th>\n",
       "      <td>2021-07-28</td>\n",
       "      <td>7027.0</td>\n",
       "      <td>4168.0</td>\n",
       "      <td>1374.0</td>\n",
       "    </tr>\n",
       "    <tr>\n",
       "      <th>Zambia</th>\n",
       "      <td>2021-07-28</td>\n",
       "      <td>193432.0</td>\n",
       "      <td>183957.0</td>\n",
       "      <td>3338.0</td>\n",
       "    </tr>\n",
       "    <tr>\n",
       "      <th>Zimbabwe</th>\n",
       "      <td>2021-07-28</td>\n",
       "      <td>103567.0</td>\n",
       "      <td>71383.0</td>\n",
       "      <td>3340.0</td>\n",
       "    </tr>\n",
       "  </tbody>\n",
       "</table>\n",
       "<p>195 rows × 4 columns</p>\n",
       "</div>"
      ],
      "text/plain": [
       "                         Date  Confirmed  Recovered  Deaths\n",
       "Country/Region                                             \n",
       "Afghanistan        2021-07-28   145552.0    82586.0  6577.0\n",
       "Albania            2021-07-28   132952.0   130174.0  2457.0\n",
       "Algeria            2021-07-28   167131.0   112900.0  4161.0\n",
       "Andorra            2021-07-28    14586.0    14113.0   127.0\n",
       "Angola             2021-07-28    42288.0    35964.0  1000.0\n",
       "...                       ...        ...        ...     ...\n",
       "Vietnam            2021-07-28   123640.0    27457.0   630.0\n",
       "West Bank and Gaza 2021-07-28   316328.0   311622.0  3601.0\n",
       "Yemen              2021-07-28     7027.0     4168.0  1374.0\n",
       "Zambia             2021-07-28   193432.0   183957.0  3338.0\n",
       "Zimbabwe           2021-07-28   103567.0    71383.0  3340.0\n",
       "\n",
       "[195 rows x 4 columns]"
      ]
     },
     "execution_count": 228,
     "metadata": {},
     "output_type": "execute_result"
    }
   ],
   "source": [
    "df_1"
   ]
  },
  {
   "cell_type": "code",
   "execution_count": 164,
   "metadata": {},
   "outputs": [],
   "source": [
    "# What are the 10 countries with the highest number of confirmed COVID-19 cases? "
   ]
  },
  {
   "cell_type": "code",
   "execution_count": 165,
   "metadata": {
    "scrolled": false
   },
   "outputs": [
    {
     "data": {
      "text/plain": [
       "Country/Region\n",
       "US                34672690.0\n",
       "India             31484605.0\n",
       "Brazil            19797086.0\n",
       "France             6116853.0\n",
       "Russia             6116249.0\n",
       "United Kingdom     5797445.0\n",
       "Turkey             5660469.0\n",
       "Argentina          4891810.0\n",
       "Colombia           4757139.0\n",
       "Spain              4395602.0\n",
       "Name: Confirmed, dtype: float64"
      ]
     },
     "execution_count": 165,
     "metadata": {},
     "output_type": "execute_result"
    }
   ],
   "source": [
    "df_1['Confirmed'].nlargest(10)"
   ]
  },
  {
   "cell_type": "code",
   "execution_count": 166,
   "metadata": {},
   "outputs": [],
   "source": [
    "# df_new.loc[df_new['Confirmed'] == df_new['Confirmed'].nlargest(10),'Country/Region']"
   ]
  },
  {
   "cell_type": "code",
   "execution_count": 167,
   "metadata": {},
   "outputs": [],
   "source": [
    "# What are the 10 countries with the highest number of deaths?"
   ]
  },
  {
   "cell_type": "code",
   "execution_count": 168,
   "metadata": {},
   "outputs": [
    {
     "data": {
      "text/plain": [
       "Country/Region\n",
       "US                611801.0\n",
       "Brazil            553179.0\n",
       "India             422022.0\n",
       "Mexico            239616.0\n",
       "Peru              196138.0\n",
       "Russia            153620.0\n",
       "United Kingdom    129718.0\n",
       "Italy             128010.0\n",
       "Colombia          119801.0\n",
       "France            111923.0\n",
       "Name: Deaths, dtype: float64"
      ]
     },
     "execution_count": 168,
     "metadata": {},
     "output_type": "execute_result"
    }
   ],
   "source": [
    "df_1['Deaths'].nlargest(10)"
   ]
  },
  {
   "cell_type": "markdown",
   "metadata": {},
   "source": [
    "# 5"
   ]
  },
  {
   "cell_type": "code",
   "execution_count": 169,
   "metadata": {},
   "outputs": [],
   "source": [
    "# Plot a graph of the number of confirmed cases over time for each country.\n",
    "# Which countries present exponential growth in the number of cases and which countries are already leaving exponential growth?"
   ]
  },
  {
   "cell_type": "code",
   "execution_count": 224,
   "metadata": {},
   "outputs": [],
   "source": [
    "# df_x=df_1.reset_index(level=0, inplace=True)"
   ]
  },
  {
   "cell_type": "code",
   "execution_count": 171,
   "metadata": {},
   "outputs": [],
   "source": [
    "# df_1.plot[( 'Date' , 'Confirmed' )][df_1['Country/Region'] == 'US']"
   ]
  },
  {
   "cell_type": "code",
   "execution_count": 174,
   "metadata": {},
   "outputs": [],
   "source": [
    "# df_US=df_x[df_x['Country/Region'] == 'US' ]"
   ]
  },
  {
   "cell_type": "code",
   "execution_count": 175,
   "metadata": {},
   "outputs": [
    {
     "data": {
      "text/plain": [
       "<matplotlib.axes._subplots.AxesSubplot at 0x2448ec0a508>"
      ]
     },
     "execution_count": 175,
     "metadata": {},
     "output_type": "execute_result"
    },
    {
     "data": {
      "image/png": "[encoded data removed]",
      "text/plain": [
       "<Figure size 432x288 with 1 Axes>"
      ]
     },
     "metadata": {
      "needs_background": "light"
     },
     "output_type": "display_data"
    }
   ],
   "source": [
    "# df_US.plot( x='Date' , y='Confirmed' )"
   ]
  },
  {
   "cell_type": "code",
   "execution_count": 185,
   "metadata": {},
   "outputs": [],
   "source": [
    "# df_time=df_1"
   ]
  },
  {
   "cell_type": "code",
   "execution_count": 187,
   "metadata": {},
   "outputs": [],
   "source": [
    "df['Date'] = pd.to_datetime(df['Date'])"
   ]
  },
  {
   "cell_type": "code",
   "execution_count": 188,
   "metadata": {},
   "outputs": [],
   "source": [
    "import numpy as np\n",
    "import matplotlib.pyplot as plt"
   ]
  },
  {
   "cell_type": "code",
   "execution_count": 191,
   "metadata": {},
   "outputs": [],
   "source": [
    "df1, df2, df3, df4, df5, df6, df7, df8 = np.array_split(df_1[['Date','Confirmed']], 8)"
   ]
  },
  {
   "cell_type": "code",
   "execution_count": 192,
   "metadata": {
    "collapsed": true
   },
   "outputs": [
    {
     "ename": "ValueError",
     "evalue": "view limit minimum -989504.65 is less than 1 and is an invalid Matplotlib date value. This often happens if you pass a non-datetime value to an axis that has datetime units",
     "output_type": "error",
     "traceback": [
      "\u001b[1;31m---------------------------------------------------------------------------\u001b[0m",
      "\u001b[1;31mValueError\u001b[0m                                Traceback (most recent call last)",
      "\u001b[1;32mC:\\ProgramData\\Anaconda3\\lib\\site-packages\\ipykernel\\pylab\\backend_inline.py\u001b[0m in \u001b[0;36mshow\u001b[1;34m(close, block)\u001b[0m\n\u001b[0;32m     37\u001b[0m             display(\n\u001b[0;32m     38\u001b[0m                 \u001b[0mfigure_manager\u001b[0m\u001b[1;33m.\u001b[0m\u001b[0mcanvas\u001b[0m\u001b[1;33m.\u001b[0m\u001b[0mfigure\u001b[0m\u001b[1;33m,\u001b[0m\u001b[1;33m\u001b[0m\u001b[1;33m\u001b[0m\u001b[0m\n\u001b[1;32m---> 39\u001b[1;33m                 \u001b[0mmetadata\u001b[0m\u001b[1;33m=\u001b[0m\u001b[0m_fetch_figure_metadata\u001b[0m\u001b[1;33m(\u001b[0m\u001b[0mfigure_manager\u001b[0m\u001b[1;33m.\u001b[0m\u001b[0mcanvas\u001b[0m\u001b[1;33m.\u001b[0m\u001b[0mfigure\u001b[0m\u001b[1;33m)\u001b[0m\u001b[1;33m\u001b[0m\u001b[1;33m\u001b[0m\u001b[0m\n\u001b[0m\u001b[0;32m     40\u001b[0m             )\n\u001b[0;32m     41\u001b[0m     \u001b[1;32mfinally\u001b[0m\u001b[1;33m:\u001b[0m\u001b[1;33m\u001b[0m\u001b[1;33m\u001b[0m\u001b[0m\n",
      "\u001b[1;32mC:\\ProgramData\\Anaconda3\\lib\\site-packages\\ipykernel\\pylab\\backend_inline.py\u001b[0m in \u001b[0;36m_fetch_figure_metadata\u001b[1;34m(fig)\u001b[0m\n\u001b[0;32m    175\u001b[0m         \u001b[1;31m# the background is transparent\u001b[0m\u001b[1;33m\u001b[0m\u001b[1;33m\u001b[0m\u001b[1;33m\u001b[0m\u001b[0m\n\u001b[0;32m    176\u001b[0m         ticksLight = _is_light([label.get_color()\n\u001b[1;32m--> 177\u001b[1;33m                                 \u001b[1;32mfor\u001b[0m \u001b[0maxes\u001b[0m \u001b[1;32min\u001b[0m \u001b[0mfig\u001b[0m\u001b[1;33m.\u001b[0m\u001b[0maxes\u001b[0m\u001b[1;33m\u001b[0m\u001b[1;33m\u001b[0m\u001b[0m\n\u001b[0m\u001b[0;32m    178\u001b[0m                                 \u001b[1;32mfor\u001b[0m \u001b[0maxis\u001b[0m \u001b[1;32min\u001b[0m \u001b[1;33m(\u001b[0m\u001b[0maxes\u001b[0m\u001b[1;33m.\u001b[0m\u001b[0mxaxis\u001b[0m\u001b[1;33m,\u001b[0m \u001b[0maxes\u001b[0m\u001b[1;33m.\u001b[0m\u001b[0myaxis\u001b[0m\u001b[1;33m)\u001b[0m\u001b[1;33m\u001b[0m\u001b[1;33m\u001b[0m\u001b[0m\n\u001b[0;32m    179\u001b[0m                                 for label in axis.get_ticklabels()])\n",
      "\u001b[1;32mC:\\ProgramData\\Anaconda3\\lib\\site-packages\\ipykernel\\pylab\\backend_inline.py\u001b[0m in \u001b[0;36m<listcomp>\u001b[1;34m(.0)\u001b[0m\n\u001b[0;32m    177\u001b[0m                                 \u001b[1;32mfor\u001b[0m \u001b[0maxes\u001b[0m \u001b[1;32min\u001b[0m \u001b[0mfig\u001b[0m\u001b[1;33m.\u001b[0m\u001b[0maxes\u001b[0m\u001b[1;33m\u001b[0m\u001b[1;33m\u001b[0m\u001b[0m\n\u001b[0;32m    178\u001b[0m                                 \u001b[1;32mfor\u001b[0m \u001b[0maxis\u001b[0m \u001b[1;32min\u001b[0m \u001b[1;33m(\u001b[0m\u001b[0maxes\u001b[0m\u001b[1;33m.\u001b[0m\u001b[0mxaxis\u001b[0m\u001b[1;33m,\u001b[0m \u001b[0maxes\u001b[0m\u001b[1;33m.\u001b[0m\u001b[0myaxis\u001b[0m\u001b[1;33m)\u001b[0m\u001b[1;33m\u001b[0m\u001b[1;33m\u001b[0m\u001b[0m\n\u001b[1;32m--> 179\u001b[1;33m                                 for label in axis.get_ticklabels()])\n\u001b[0m\u001b[0;32m    180\u001b[0m         \u001b[1;32mif\u001b[0m \u001b[0mticksLight\u001b[0m\u001b[1;33m.\u001b[0m\u001b[0msize\u001b[0m \u001b[1;32mand\u001b[0m \u001b[1;33m(\u001b[0m\u001b[0mticksLight\u001b[0m \u001b[1;33m==\u001b[0m \u001b[0mticksLight\u001b[0m\u001b[1;33m[\u001b[0m\u001b[1;36m0\u001b[0m\u001b[1;33m]\u001b[0m\u001b[1;33m)\u001b[0m\u001b[1;33m.\u001b[0m\u001b[0mall\u001b[0m\u001b[1;33m(\u001b[0m\u001b[1;33m)\u001b[0m\u001b[1;33m:\u001b[0m\u001b[1;33m\u001b[0m\u001b[1;33m\u001b[0m\u001b[0m\n\u001b[0;32m    181\u001b[0m             \u001b[1;31m# there are one or more tick labels, all with the same lightness\u001b[0m\u001b[1;33m\u001b[0m\u001b[1;33m\u001b[0m\u001b[1;33m\u001b[0m\u001b[0m\n",
      "\u001b[1;32mC:\\ProgramData\\Anaconda3\\lib\\site-packages\\matplotlib\\axis.py\u001b[0m in \u001b[0;36mget_ticklabels\u001b[1;34m(self, minor, which)\u001b[0m\n\u001b[0;32m   1294\u001b[0m         \u001b[1;32mif\u001b[0m \u001b[0mminor\u001b[0m\u001b[1;33m:\u001b[0m\u001b[1;33m\u001b[0m\u001b[1;33m\u001b[0m\u001b[0m\n\u001b[0;32m   1295\u001b[0m             \u001b[1;32mreturn\u001b[0m \u001b[0mself\u001b[0m\u001b[1;33m.\u001b[0m\u001b[0mget_minorticklabels\u001b[0m\u001b[1;33m(\u001b[0m\u001b[1;33m)\u001b[0m\u001b[1;33m\u001b[0m\u001b[1;33m\u001b[0m\u001b[0m\n\u001b[1;32m-> 1296\u001b[1;33m         \u001b[1;32mreturn\u001b[0m \u001b[0mself\u001b[0m\u001b[1;33m.\u001b[0m\u001b[0mget_majorticklabels\u001b[0m\u001b[1;33m(\u001b[0m\u001b[1;33m)\u001b[0m\u001b[1;33m\u001b[0m\u001b[1;33m\u001b[0m\u001b[0m\n\u001b[0m\u001b[0;32m   1297\u001b[0m \u001b[1;33m\u001b[0m\u001b[0m\n\u001b[0;32m   1298\u001b[0m     \u001b[1;32mdef\u001b[0m \u001b[0mget_majorticklines\u001b[0m\u001b[1;33m(\u001b[0m\u001b[0mself\u001b[0m\u001b[1;33m)\u001b[0m\u001b[1;33m:\u001b[0m\u001b[1;33m\u001b[0m\u001b[1;33m\u001b[0m\u001b[0m\n",
      "\u001b[1;32mC:\\ProgramData\\Anaconda3\\lib\\site-packages\\matplotlib\\axis.py\u001b[0m in \u001b[0;36mget_majorticklabels\u001b[1;34m(self)\u001b[0m\n\u001b[0;32m   1250\u001b[0m     \u001b[1;32mdef\u001b[0m \u001b[0mget_majorticklabels\u001b[0m\u001b[1;33m(\u001b[0m\u001b[0mself\u001b[0m\u001b[1;33m)\u001b[0m\u001b[1;33m:\u001b[0m\u001b[1;33m\u001b[0m\u001b[1;33m\u001b[0m\u001b[0m\n\u001b[0;32m   1251\u001b[0m         \u001b[1;34m'Return a list of Text instances for the major ticklabels.'\u001b[0m\u001b[1;33m\u001b[0m\u001b[1;33m\u001b[0m\u001b[0m\n\u001b[1;32m-> 1252\u001b[1;33m         \u001b[0mticks\u001b[0m \u001b[1;33m=\u001b[0m \u001b[0mself\u001b[0m\u001b[1;33m.\u001b[0m\u001b[0mget_major_ticks\u001b[0m\u001b[1;33m(\u001b[0m\u001b[1;33m)\u001b[0m\u001b[1;33m\u001b[0m\u001b[1;33m\u001b[0m\u001b[0m\n\u001b[0m\u001b[0;32m   1253\u001b[0m         \u001b[0mlabels1\u001b[0m \u001b[1;33m=\u001b[0m \u001b[1;33m[\u001b[0m\u001b[0mtick\u001b[0m\u001b[1;33m.\u001b[0m\u001b[0mlabel1\u001b[0m \u001b[1;32mfor\u001b[0m \u001b[0mtick\u001b[0m \u001b[1;32min\u001b[0m \u001b[0mticks\u001b[0m \u001b[1;32mif\u001b[0m \u001b[0mtick\u001b[0m\u001b[1;33m.\u001b[0m\u001b[0mlabel1\u001b[0m\u001b[1;33m.\u001b[0m\u001b[0mget_visible\u001b[0m\u001b[1;33m(\u001b[0m\u001b[1;33m)\u001b[0m\u001b[1;33m]\u001b[0m\u001b[1;33m\u001b[0m\u001b[1;33m\u001b[0m\u001b[0m\n\u001b[0;32m   1254\u001b[0m         \u001b[0mlabels2\u001b[0m \u001b[1;33m=\u001b[0m \u001b[1;33m[\u001b[0m\u001b[0mtick\u001b[0m\u001b[1;33m.\u001b[0m\u001b[0mlabel2\u001b[0m \u001b[1;32mfor\u001b[0m \u001b[0mtick\u001b[0m \u001b[1;32min\u001b[0m \u001b[0mticks\u001b[0m \u001b[1;32mif\u001b[0m \u001b[0mtick\u001b[0m\u001b[1;33m.\u001b[0m\u001b[0mlabel2\u001b[0m\u001b[1;33m.\u001b[0m\u001b[0mget_visible\u001b[0m\u001b[1;33m(\u001b[0m\u001b[1;33m)\u001b[0m\u001b[1;33m]\u001b[0m\u001b[1;33m\u001b[0m\u001b[1;33m\u001b[0m\u001b[0m\n",
      "\u001b[1;32mC:\\ProgramData\\Anaconda3\\lib\\site-packages\\matplotlib\\axis.py\u001b[0m in \u001b[0;36mget_major_ticks\u001b[1;34m(self, numticks)\u001b[0m\n\u001b[0;32m   1405\u001b[0m         \u001b[1;34m'Get the tick instances; grow as necessary.'\u001b[0m\u001b[1;33m\u001b[0m\u001b[1;33m\u001b[0m\u001b[0m\n\u001b[0;32m   1406\u001b[0m         \u001b[1;32mif\u001b[0m \u001b[0mnumticks\u001b[0m \u001b[1;32mis\u001b[0m \u001b[1;32mNone\u001b[0m\u001b[1;33m:\u001b[0m\u001b[1;33m\u001b[0m\u001b[1;33m\u001b[0m\u001b[0m\n\u001b[1;32m-> 1407\u001b[1;33m             \u001b[0mnumticks\u001b[0m \u001b[1;33m=\u001b[0m \u001b[0mlen\u001b[0m\u001b[1;33m(\u001b[0m\u001b[0mself\u001b[0m\u001b[1;33m.\u001b[0m\u001b[0mget_majorticklocs\u001b[0m\u001b[1;33m(\u001b[0m\u001b[1;33m)\u001b[0m\u001b[1;33m)\u001b[0m\u001b[1;33m\u001b[0m\u001b[1;33m\u001b[0m\u001b[0m\n\u001b[0m\u001b[0;32m   1408\u001b[0m \u001b[1;33m\u001b[0m\u001b[0m\n\u001b[0;32m   1409\u001b[0m         \u001b[1;32mwhile\u001b[0m \u001b[0mlen\u001b[0m\u001b[1;33m(\u001b[0m\u001b[0mself\u001b[0m\u001b[1;33m.\u001b[0m\u001b[0mmajorTicks\u001b[0m\u001b[1;33m)\u001b[0m \u001b[1;33m<\u001b[0m \u001b[0mnumticks\u001b[0m\u001b[1;33m:\u001b[0m\u001b[1;33m\u001b[0m\u001b[1;33m\u001b[0m\u001b[0m\n",
      "\u001b[1;32mC:\\ProgramData\\Anaconda3\\lib\\site-packages\\matplotlib\\axis.py\u001b[0m in \u001b[0;36mget_majorticklocs\u001b[1;34m(self)\u001b[0m\n\u001b[0;32m   1322\u001b[0m     \u001b[1;32mdef\u001b[0m \u001b[0mget_majorticklocs\u001b[0m\u001b[1;33m(\u001b[0m\u001b[0mself\u001b[0m\u001b[1;33m)\u001b[0m\u001b[1;33m:\u001b[0m\u001b[1;33m\u001b[0m\u001b[1;33m\u001b[0m\u001b[0m\n\u001b[0;32m   1323\u001b[0m         \u001b[1;34m\"\"\"Get the array of major tick locations in data coordinates.\"\"\"\u001b[0m\u001b[1;33m\u001b[0m\u001b[1;33m\u001b[0m\u001b[0m\n\u001b[1;32m-> 1324\u001b[1;33m         \u001b[1;32mreturn\u001b[0m \u001b[0mself\u001b[0m\u001b[1;33m.\u001b[0m\u001b[0mmajor\u001b[0m\u001b[1;33m.\u001b[0m\u001b[0mlocator\u001b[0m\u001b[1;33m(\u001b[0m\u001b[1;33m)\u001b[0m\u001b[1;33m\u001b[0m\u001b[1;33m\u001b[0m\u001b[0m\n\u001b[0m\u001b[0;32m   1325\u001b[0m \u001b[1;33m\u001b[0m\u001b[0m\n\u001b[0;32m   1326\u001b[0m     \u001b[1;32mdef\u001b[0m \u001b[0mget_minorticklocs\u001b[0m\u001b[1;33m(\u001b[0m\u001b[0mself\u001b[0m\u001b[1;33m)\u001b[0m\u001b[1;33m:\u001b[0m\u001b[1;33m\u001b[0m\u001b[1;33m\u001b[0m\u001b[0m\n",
      "\u001b[1;32mC:\\ProgramData\\Anaconda3\\lib\\site-packages\\matplotlib\\dates.py\u001b[0m in \u001b[0;36m__call__\u001b[1;34m(self)\u001b[0m\n\u001b[0;32m   1429\u001b[0m     \u001b[1;32mdef\u001b[0m \u001b[0m__call__\u001b[0m\u001b[1;33m(\u001b[0m\u001b[0mself\u001b[0m\u001b[1;33m)\u001b[0m\u001b[1;33m:\u001b[0m\u001b[1;33m\u001b[0m\u001b[1;33m\u001b[0m\u001b[0m\n\u001b[0;32m   1430\u001b[0m         \u001b[1;34m'Return the locations of the ticks'\u001b[0m\u001b[1;33m\u001b[0m\u001b[1;33m\u001b[0m\u001b[0m\n\u001b[1;32m-> 1431\u001b[1;33m         \u001b[0mself\u001b[0m\u001b[1;33m.\u001b[0m\u001b[0mrefresh\u001b[0m\u001b[1;33m(\u001b[0m\u001b[1;33m)\u001b[0m\u001b[1;33m\u001b[0m\u001b[1;33m\u001b[0m\u001b[0m\n\u001b[0m\u001b[0;32m   1432\u001b[0m         \u001b[1;32mreturn\u001b[0m \u001b[0mself\u001b[0m\u001b[1;33m.\u001b[0m\u001b[0m_locator\u001b[0m\u001b[1;33m(\u001b[0m\u001b[1;33m)\u001b[0m\u001b[1;33m\u001b[0m\u001b[1;33m\u001b[0m\u001b[0m\n\u001b[0;32m   1433\u001b[0m \u001b[1;33m\u001b[0m\u001b[0m\n",
      "\u001b[1;32mC:\\ProgramData\\Anaconda3\\lib\\site-packages\\matplotlib\\dates.py\u001b[0m in \u001b[0;36mrefresh\u001b[1;34m(self)\u001b[0m\n\u001b[0;32m   1449\u001b[0m     \u001b[1;32mdef\u001b[0m \u001b[0mrefresh\u001b[0m\u001b[1;33m(\u001b[0m\u001b[0mself\u001b[0m\u001b[1;33m)\u001b[0m\u001b[1;33m:\u001b[0m\u001b[1;33m\u001b[0m\u001b[1;33m\u001b[0m\u001b[0m\n\u001b[0;32m   1450\u001b[0m         \u001b[1;34m'Refresh internal information based on current limits.'\u001b[0m\u001b[1;33m\u001b[0m\u001b[1;33m\u001b[0m\u001b[0m\n\u001b[1;32m-> 1451\u001b[1;33m         \u001b[0mdmin\u001b[0m\u001b[1;33m,\u001b[0m \u001b[0mdmax\u001b[0m \u001b[1;33m=\u001b[0m \u001b[0mself\u001b[0m\u001b[1;33m.\u001b[0m\u001b[0mviewlim_to_dt\u001b[0m\u001b[1;33m(\u001b[0m\u001b[1;33m)\u001b[0m\u001b[1;33m\u001b[0m\u001b[1;33m\u001b[0m\u001b[0m\n\u001b[0m\u001b[0;32m   1452\u001b[0m         \u001b[0mself\u001b[0m\u001b[1;33m.\u001b[0m\u001b[0m_locator\u001b[0m \u001b[1;33m=\u001b[0m \u001b[0mself\u001b[0m\u001b[1;33m.\u001b[0m\u001b[0mget_locator\u001b[0m\u001b[1;33m(\u001b[0m\u001b[0mdmin\u001b[0m\u001b[1;33m,\u001b[0m \u001b[0mdmax\u001b[0m\u001b[1;33m)\u001b[0m\u001b[1;33m\u001b[0m\u001b[1;33m\u001b[0m\u001b[0m\n\u001b[0;32m   1453\u001b[0m \u001b[1;33m\u001b[0m\u001b[0m\n",
      "\u001b[1;32mC:\\ProgramData\\Anaconda3\\lib\\site-packages\\matplotlib\\dates.py\u001b[0m in \u001b[0;36mviewlim_to_dt\u001b[1;34m(self)\u001b[0m\n\u001b[0;32m   1200\u001b[0m                              \u001b[1;34m'often happens if you pass a non-datetime '\u001b[0m\u001b[1;33m\u001b[0m\u001b[1;33m\u001b[0m\u001b[0m\n\u001b[0;32m   1201\u001b[0m                              \u001b[1;34m'value to an axis that has datetime units'\u001b[0m\u001b[1;33m\u001b[0m\u001b[1;33m\u001b[0m\u001b[0m\n\u001b[1;32m-> 1202\u001b[1;33m                              .format(vmin))\n\u001b[0m\u001b[0;32m   1203\u001b[0m         \u001b[1;32mreturn\u001b[0m \u001b[0mnum2date\u001b[0m\u001b[1;33m(\u001b[0m\u001b[0mvmin\u001b[0m\u001b[1;33m,\u001b[0m \u001b[0mself\u001b[0m\u001b[1;33m.\u001b[0m\u001b[0mtz\u001b[0m\u001b[1;33m)\u001b[0m\u001b[1;33m,\u001b[0m \u001b[0mnum2date\u001b[0m\u001b[1;33m(\u001b[0m\u001b[0mvmax\u001b[0m\u001b[1;33m,\u001b[0m \u001b[0mself\u001b[0m\u001b[1;33m.\u001b[0m\u001b[0mtz\u001b[0m\u001b[1;33m)\u001b[0m\u001b[1;33m\u001b[0m\u001b[1;33m\u001b[0m\u001b[0m\n\u001b[0;32m   1204\u001b[0m \u001b[1;33m\u001b[0m\u001b[0m\n",
      "\u001b[1;31mValueError\u001b[0m: view limit minimum -989504.65 is less than 1 and is an invalid Matplotlib date value. This often happens if you pass a non-datetime value to an axis that has datetime units"
     ]
    }
   ],
   "source": [
    "df_list = [df1 ,df2, df3, df4, df5, df6, df7, df8]\n",
    "fig, axes = plt.subplots(4, 2)\n",
    "\n",
    "# plot counter\n",
    "count=0\n",
    "for i in range(4):\n",
    "    for j in range(2):\n",
    "        df_list[count].plot(ax=axes[i,j])\n",
    "        count+=1"
   ]
  },
  {
   "cell_type": "markdown",
   "metadata": {},
   "source": [
    "# 6"
   ]
  },
  {
   "cell_type": "code",
   "execution_count": null,
   "metadata": {},
   "outputs": [],
   "source": [
    "# Create a bar plot that shows the number of deaths per 100 confirmed cases (observed\n",
    "# case-fatality ratio) for the 20 most affected countries."
   ]
  },
  {
   "cell_type": "code",
   "execution_count": 266,
   "metadata": {},
   "outputs": [
    {
     "data": {
      "text/html": [
       "<div>\n",
       "<style scoped>\n",
       "    .dataframe tbody tr th:only-of-type {\n",
       "        vertical-align: middle;\n",
       "    }\n",
       "\n",
       "    .dataframe tbody tr th {\n",
       "        vertical-align: top;\n",
       "    }\n",
       "\n",
       "    .dataframe thead th {\n",
       "        text-align: right;\n",
       "    }\n",
       "</style>\n",
       "<table border=\"1\" class=\"dataframe\">\n",
       "  <thead>\n",
       "    <tr style=\"text-align: right;\">\n",
       "      <th></th>\n",
       "      <th>Date</th>\n",
       "      <th>Confirmed</th>\n",
       "      <th>Recovered</th>\n",
       "      <th>Deaths</th>\n",
       "    </tr>\n",
       "    <tr>\n",
       "      <th>Country/Region</th>\n",
       "      <th></th>\n",
       "      <th></th>\n",
       "      <th></th>\n",
       "      <th></th>\n",
       "    </tr>\n",
       "  </thead>\n",
       "  <tbody>\n",
       "    <tr>\n",
       "      <th>Afghanistan</th>\n",
       "      <td>2020-01-22</td>\n",
       "      <td>0.0</td>\n",
       "      <td>0.0</td>\n",
       "      <td>0.0</td>\n",
       "    </tr>\n",
       "    <tr>\n",
       "      <th>Albania</th>\n",
       "      <td>2020-01-22</td>\n",
       "      <td>0.0</td>\n",
       "      <td>0.0</td>\n",
       "      <td>0.0</td>\n",
       "    </tr>\n",
       "    <tr>\n",
       "      <th>Algeria</th>\n",
       "      <td>2020-01-22</td>\n",
       "      <td>0.0</td>\n",
       "      <td>0.0</td>\n",
       "      <td>0.0</td>\n",
       "    </tr>\n",
       "    <tr>\n",
       "      <th>Andorra</th>\n",
       "      <td>2020-01-22</td>\n",
       "      <td>0.0</td>\n",
       "      <td>0.0</td>\n",
       "      <td>0.0</td>\n",
       "    </tr>\n",
       "    <tr>\n",
       "      <th>Angola</th>\n",
       "      <td>2020-01-22</td>\n",
       "      <td>0.0</td>\n",
       "      <td>0.0</td>\n",
       "      <td>0.0</td>\n",
       "    </tr>\n",
       "    <tr>\n",
       "      <th>...</th>\n",
       "      <td>...</td>\n",
       "      <td>...</td>\n",
       "      <td>...</td>\n",
       "      <td>...</td>\n",
       "    </tr>\n",
       "    <tr>\n",
       "      <th>Vietnam</th>\n",
       "      <td>2021-07-28</td>\n",
       "      <td>123640.0</td>\n",
       "      <td>27457.0</td>\n",
       "      <td>630.0</td>\n",
       "    </tr>\n",
       "    <tr>\n",
       "      <th>West Bank and Gaza</th>\n",
       "      <td>2021-07-28</td>\n",
       "      <td>316328.0</td>\n",
       "      <td>311622.0</td>\n",
       "      <td>3601.0</td>\n",
       "    </tr>\n",
       "    <tr>\n",
       "      <th>Yemen</th>\n",
       "      <td>2021-07-28</td>\n",
       "      <td>7027.0</td>\n",
       "      <td>4168.0</td>\n",
       "      <td>1374.0</td>\n",
       "    </tr>\n",
       "    <tr>\n",
       "      <th>Zambia</th>\n",
       "      <td>2021-07-28</td>\n",
       "      <td>193432.0</td>\n",
       "      <td>183957.0</td>\n",
       "      <td>3338.0</td>\n",
       "    </tr>\n",
       "    <tr>\n",
       "      <th>Zimbabwe</th>\n",
       "      <td>2021-07-28</td>\n",
       "      <td>103567.0</td>\n",
       "      <td>71383.0</td>\n",
       "      <td>3340.0</td>\n",
       "    </tr>\n",
       "  </tbody>\n",
       "</table>\n",
       "<p>108030 rows × 4 columns</p>\n",
       "</div>"
      ],
      "text/plain": [
       "                         Date  Confirmed  Recovered  Deaths\n",
       "Country/Region                                             \n",
       "Afghanistan        2020-01-22        0.0        0.0     0.0\n",
       "Albania            2020-01-22        0.0        0.0     0.0\n",
       "Algeria            2020-01-22        0.0        0.0     0.0\n",
       "Andorra            2020-01-22        0.0        0.0     0.0\n",
       "Angola             2020-01-22        0.0        0.0     0.0\n",
       "...                       ...        ...        ...     ...\n",
       "Vietnam            2021-07-28   123640.0    27457.0   630.0\n",
       "West Bank and Gaza 2021-07-28   316328.0   311622.0  3601.0\n",
       "Yemen              2021-07-28     7027.0     4168.0  1374.0\n",
       "Zambia             2021-07-28   193432.0   183957.0  3338.0\n",
       "Zimbabwe           2021-07-28   103567.0    71383.0  3340.0\n",
       "\n",
       "[108030 rows x 4 columns]"
      ]
     },
     "execution_count": 266,
     "metadata": {},
     "output_type": "execute_result"
    }
   ],
   "source": [
    "df_new"
   ]
  },
  {
   "cell_type": "code",
   "execution_count": 669,
   "metadata": {},
   "outputs": [],
   "source": [
    "df_6=df_1"
   ]
  },
  {
   "cell_type": "code",
   "execution_count": 670,
   "metadata": {
    "scrolled": true
   },
   "outputs": [
    {
     "data": {
      "text/html": [
       "<div>\n",
       "<style scoped>\n",
       "    .dataframe tbody tr th:only-of-type {\n",
       "        vertical-align: middle;\n",
       "    }\n",
       "\n",
       "    .dataframe tbody tr th {\n",
       "        vertical-align: top;\n",
       "    }\n",
       "\n",
       "    .dataframe thead th {\n",
       "        text-align: right;\n",
       "    }\n",
       "</style>\n",
       "<table border=\"1\" class=\"dataframe\">\n",
       "  <thead>\n",
       "    <tr style=\"text-align: right;\">\n",
       "      <th></th>\n",
       "      <th>Date</th>\n",
       "      <th>Confirmed</th>\n",
       "      <th>Recovered</th>\n",
       "      <th>Deaths</th>\n",
       "    </tr>\n",
       "    <tr>\n",
       "      <th>Country/Region</th>\n",
       "      <th></th>\n",
       "      <th></th>\n",
       "      <th></th>\n",
       "      <th></th>\n",
       "    </tr>\n",
       "  </thead>\n",
       "  <tbody>\n",
       "    <tr>\n",
       "      <th>Afghanistan</th>\n",
       "      <td>2021-07-28</td>\n",
       "      <td>145552.0</td>\n",
       "      <td>82586.0</td>\n",
       "      <td>6577.0</td>\n",
       "    </tr>\n",
       "    <tr>\n",
       "      <th>Albania</th>\n",
       "      <td>2021-07-28</td>\n",
       "      <td>132952.0</td>\n",
       "      <td>130174.0</td>\n",
       "      <td>2457.0</td>\n",
       "    </tr>\n",
       "    <tr>\n",
       "      <th>Algeria</th>\n",
       "      <td>2021-07-28</td>\n",
       "      <td>167131.0</td>\n",
       "      <td>112900.0</td>\n",
       "      <td>4161.0</td>\n",
       "    </tr>\n",
       "    <tr>\n",
       "      <th>Andorra</th>\n",
       "      <td>2021-07-28</td>\n",
       "      <td>14586.0</td>\n",
       "      <td>14113.0</td>\n",
       "      <td>127.0</td>\n",
       "    </tr>\n",
       "    <tr>\n",
       "      <th>Angola</th>\n",
       "      <td>2021-07-28</td>\n",
       "      <td>42288.0</td>\n",
       "      <td>35964.0</td>\n",
       "      <td>1000.0</td>\n",
       "    </tr>\n",
       "    <tr>\n",
       "      <th>...</th>\n",
       "      <td>...</td>\n",
       "      <td>...</td>\n",
       "      <td>...</td>\n",
       "      <td>...</td>\n",
       "    </tr>\n",
       "    <tr>\n",
       "      <th>Vietnam</th>\n",
       "      <td>2021-07-28</td>\n",
       "      <td>123640.0</td>\n",
       "      <td>27457.0</td>\n",
       "      <td>630.0</td>\n",
       "    </tr>\n",
       "    <tr>\n",
       "      <th>West Bank and Gaza</th>\n",
       "      <td>2021-07-28</td>\n",
       "      <td>316328.0</td>\n",
       "      <td>311622.0</td>\n",
       "      <td>3601.0</td>\n",
       "    </tr>\n",
       "    <tr>\n",
       "      <th>Yemen</th>\n",
       "      <td>2021-07-28</td>\n",
       "      <td>7027.0</td>\n",
       "      <td>4168.0</td>\n",
       "      <td>1374.0</td>\n",
       "    </tr>\n",
       "    <tr>\n",
       "      <th>Zambia</th>\n",
       "      <td>2021-07-28</td>\n",
       "      <td>193432.0</td>\n",
       "      <td>183957.0</td>\n",
       "      <td>3338.0</td>\n",
       "    </tr>\n",
       "    <tr>\n",
       "      <th>Zimbabwe</th>\n",
       "      <td>2021-07-28</td>\n",
       "      <td>103567.0</td>\n",
       "      <td>71383.0</td>\n",
       "      <td>3340.0</td>\n",
       "    </tr>\n",
       "  </tbody>\n",
       "</table>\n",
       "<p>195 rows × 4 columns</p>\n",
       "</div>"
      ],
      "text/plain": [
       "                         Date  Confirmed  Recovered  Deaths\n",
       "Country/Region                                             \n",
       "Afghanistan        2021-07-28   145552.0    82586.0  6577.0\n",
       "Albania            2021-07-28   132952.0   130174.0  2457.0\n",
       "Algeria            2021-07-28   167131.0   112900.0  4161.0\n",
       "Andorra            2021-07-28    14586.0    14113.0   127.0\n",
       "Angola             2021-07-28    42288.0    35964.0  1000.0\n",
       "...                       ...        ...        ...     ...\n",
       "Vietnam            2021-07-28   123640.0    27457.0   630.0\n",
       "West Bank and Gaza 2021-07-28   316328.0   311622.0  3601.0\n",
       "Yemen              2021-07-28     7027.0     4168.0  1374.0\n",
       "Zambia             2021-07-28   193432.0   183957.0  3338.0\n",
       "Zimbabwe           2021-07-28   103567.0    71383.0  3340.0\n",
       "\n",
       "[195 rows x 4 columns]"
      ]
     },
     "execution_count": 670,
     "metadata": {},
     "output_type": "execute_result"
    }
   ],
   "source": [
    "df_6.fillna(0)"
   ]
  },
  {
   "cell_type": "code",
   "execution_count": 329,
   "metadata": {},
   "outputs": [
    {
     "name": "stderr",
     "output_type": "stream",
     "text": [
      "C:\\ProgramData\\Anaconda3\\lib\\site-packages\\ipykernel_launcher.py:2: SettingWithCopyWarning: \n",
      "A value is trying to be set on a copy of a slice from a DataFrame.\n",
      "Try using .loc[row_indexer,col_indexer] = value instead\n",
      "\n",
      "See the caveats in the documentation: http://pandas.pydata.org/pandas-docs/stable/user_guide/indexing.html#returning-a-view-versus-a-copy\n",
      "  \n"
     ]
    }
   ],
   "source": [
    "# df_6.loc[:,'Death_percent_confirmed']=df_6['Deaths']*100/df_6['Confirmed']\n",
    "df_6['Death_percent_confirmed']=df_6['Deaths']*100/df_6['Confirmed']\n",
    "# df.loc[:, \"Year\"] = [2019, 2020, 1995, 1990]"
   ]
  },
  {
   "cell_type": "code",
   "execution_count": 242,
   "metadata": {},
   "outputs": [],
   "source": [
    "# df_6.reset_index(level=0, inplace=True)"
   ]
  },
  {
   "cell_type": "code",
   "execution_count": 330,
   "metadata": {
    "collapsed": true
   },
   "outputs": [
    {
     "data": {
      "text/html": [
       "<div>\n",
       "<style scoped>\n",
       "    .dataframe tbody tr th:only-of-type {\n",
       "        vertical-align: middle;\n",
       "    }\n",
       "\n",
       "    .dataframe tbody tr th {\n",
       "        vertical-align: top;\n",
       "    }\n",
       "\n",
       "    .dataframe thead th {\n",
       "        text-align: right;\n",
       "    }\n",
       "</style>\n",
       "<table border=\"1\" class=\"dataframe\">\n",
       "  <thead>\n",
       "    <tr style=\"text-align: right;\">\n",
       "      <th></th>\n",
       "      <th>Date</th>\n",
       "      <th>Confirmed</th>\n",
       "      <th>Recovered</th>\n",
       "      <th>Deaths</th>\n",
       "      <th>Death_percent_confirmed</th>\n",
       "    </tr>\n",
       "    <tr>\n",
       "      <th>Country/Region</th>\n",
       "      <th></th>\n",
       "      <th></th>\n",
       "      <th></th>\n",
       "      <th></th>\n",
       "      <th></th>\n",
       "    </tr>\n",
       "  </thead>\n",
       "  <tbody>\n",
       "    <tr>\n",
       "      <th>Afghanistan</th>\n",
       "      <td>2021-07-28</td>\n",
       "      <td>145552.0</td>\n",
       "      <td>82586.0</td>\n",
       "      <td>6577.0</td>\n",
       "      <td>4.518660</td>\n",
       "    </tr>\n",
       "    <tr>\n",
       "      <th>Albania</th>\n",
       "      <td>2021-07-28</td>\n",
       "      <td>132952.0</td>\n",
       "      <td>130174.0</td>\n",
       "      <td>2457.0</td>\n",
       "      <td>1.848035</td>\n",
       "    </tr>\n",
       "    <tr>\n",
       "      <th>Algeria</th>\n",
       "      <td>2021-07-28</td>\n",
       "      <td>167131.0</td>\n",
       "      <td>112900.0</td>\n",
       "      <td>4161.0</td>\n",
       "      <td>2.489664</td>\n",
       "    </tr>\n",
       "    <tr>\n",
       "      <th>Andorra</th>\n",
       "      <td>2021-07-28</td>\n",
       "      <td>14586.0</td>\n",
       "      <td>14113.0</td>\n",
       "      <td>127.0</td>\n",
       "      <td>0.870698</td>\n",
       "    </tr>\n",
       "    <tr>\n",
       "      <th>Angola</th>\n",
       "      <td>2021-07-28</td>\n",
       "      <td>42288.0</td>\n",
       "      <td>35964.0</td>\n",
       "      <td>1000.0</td>\n",
       "      <td>2.364737</td>\n",
       "    </tr>\n",
       "    <tr>\n",
       "      <th>...</th>\n",
       "      <td>...</td>\n",
       "      <td>...</td>\n",
       "      <td>...</td>\n",
       "      <td>...</td>\n",
       "      <td>...</td>\n",
       "    </tr>\n",
       "    <tr>\n",
       "      <th>Vietnam</th>\n",
       "      <td>2021-07-28</td>\n",
       "      <td>123640.0</td>\n",
       "      <td>27457.0</td>\n",
       "      <td>630.0</td>\n",
       "      <td>0.509544</td>\n",
       "    </tr>\n",
       "    <tr>\n",
       "      <th>West Bank and Gaza</th>\n",
       "      <td>2021-07-28</td>\n",
       "      <td>316328.0</td>\n",
       "      <td>311622.0</td>\n",
       "      <td>3601.0</td>\n",
       "      <td>1.138375</td>\n",
       "    </tr>\n",
       "    <tr>\n",
       "      <th>Yemen</th>\n",
       "      <td>2021-07-28</td>\n",
       "      <td>7027.0</td>\n",
       "      <td>4168.0</td>\n",
       "      <td>1374.0</td>\n",
       "      <td>19.553152</td>\n",
       "    </tr>\n",
       "    <tr>\n",
       "      <th>Zambia</th>\n",
       "      <td>2021-07-28</td>\n",
       "      <td>193432.0</td>\n",
       "      <td>183957.0</td>\n",
       "      <td>3338.0</td>\n",
       "      <td>1.725671</td>\n",
       "    </tr>\n",
       "    <tr>\n",
       "      <th>Zimbabwe</th>\n",
       "      <td>2021-07-28</td>\n",
       "      <td>103567.0</td>\n",
       "      <td>71383.0</td>\n",
       "      <td>3340.0</td>\n",
       "      <td>3.224965</td>\n",
       "    </tr>\n",
       "  </tbody>\n",
       "</table>\n",
       "<p>195 rows × 5 columns</p>\n",
       "</div>"
      ],
      "text/plain": [
       "                         Date  Confirmed  Recovered  Deaths  \\\n",
       "Country/Region                                                \n",
       "Afghanistan        2021-07-28   145552.0    82586.0  6577.0   \n",
       "Albania            2021-07-28   132952.0   130174.0  2457.0   \n",
       "Algeria            2021-07-28   167131.0   112900.0  4161.0   \n",
       "Andorra            2021-07-28    14586.0    14113.0   127.0   \n",
       "Angola             2021-07-28    42288.0    35964.0  1000.0   \n",
       "...                       ...        ...        ...     ...   \n",
       "Vietnam            2021-07-28   123640.0    27457.0   630.0   \n",
       "West Bank and Gaza 2021-07-28   316328.0   311622.0  3601.0   \n",
       "Yemen              2021-07-28     7027.0     4168.0  1374.0   \n",
       "Zambia             2021-07-28   193432.0   183957.0  3338.0   \n",
       "Zimbabwe           2021-07-28   103567.0    71383.0  3340.0   \n",
       "\n",
       "                    Death_percent_confirmed  \n",
       "Country/Region                               \n",
       "Afghanistan                        4.518660  \n",
       "Albania                            1.848035  \n",
       "Algeria                            2.489664  \n",
       "Andorra                            0.870698  \n",
       "Angola                             2.364737  \n",
       "...                                     ...  \n",
       "Vietnam                            0.509544  \n",
       "West Bank and Gaza                 1.138375  \n",
       "Yemen                             19.553152  \n",
       "Zambia                             1.725671  \n",
       "Zimbabwe                           3.224965  \n",
       "\n",
       "[195 rows x 5 columns]"
      ]
     },
     "execution_count": 330,
     "metadata": {},
     "output_type": "execute_result"
    }
   ],
   "source": [
    "df_6"
   ]
  },
  {
   "cell_type": "code",
   "execution_count": 331,
   "metadata": {},
   "outputs": [],
   "source": [
    "# df_6['Death_percent_confirmed']=df_6['Death_percent_confirmed'].astype(float)\n",
    "# df_6['Country/Region']=df_6['Country/Region'].astype(float)\n",
    "# df_6.plot.barh(x='Death_percent_confirmed', y='Country/Region')"
   ]
  },
  {
   "cell_type": "code",
   "execution_count": 671,
   "metadata": {
    "scrolled": true
   },
   "outputs": [],
   "source": [
    "del df_6['Date']"
   ]
  },
  {
   "cell_type": "code",
   "execution_count": 333,
   "metadata": {},
   "outputs": [],
   "source": [
    "dfi, dfii, dfiii, dfiv, dfv, dfvi, dfvii, dfviii, dfix, dfx, dfxi, dfxii, dfxiii, dfxiv, dfxv, dfxvi = np.array_split(df_6[['Death_percent_confirmed']], 16)\n",
    "df_list=[dfi, dfii, dfiii, dfiv, dfv, dfvi, dfvii, dfviii, dfix, dfx, dfxi, dfxii, dfxiii, dfxiv, dfxv, dfxvi]"
   ]
  },
  {
   "cell_type": "code",
   "execution_count": 306,
   "metadata": {
    "scrolled": false
   },
   "outputs": [
    {
     "data": {
      "image/png": "[encoded data removed]",
      "text/plain": [
       "<Figure size 1368x3600 with 16 Axes>"
      ]
     },
     "metadata": {
      "needs_background": "light"
     },
     "output_type": "display_data"
    }
   ],
   "source": [
    "# df_6['Death_percent_confirmed'].plot.bar()\n",
    "\n",
    "fig, axes = plt.subplots(8,2 )\n",
    "\n",
    "# plot counter\n",
    "count=0\n",
    "for i in range(8):\n",
    "    for j in range(2):\n",
    "        df_list[count].plot.barh(ax=axes[i,j],figsize=(19,50))\n",
    "        count+=1\n"
   ]
  },
  {
   "cell_type": "code",
   "execution_count": 334,
   "metadata": {},
   "outputs": [
    {
     "data": {
      "text/plain": [
       "Country/Region\n",
       "Vanuatu                   25.000000\n",
       "MS Zaandam                22.222222\n",
       "Yemen                     19.553152\n",
       "Peru                       9.305020\n",
       "Mexico                     8.585698\n",
       "Sudan                      7.474824\n",
       "Syria                      7.369842\n",
       "Ecuador                    6.406432\n",
       "Egypt                      5.809705\n",
       "Somalia                    5.247014\n",
       "Taiwan*                    5.038735\n",
       "Bosnia and Herzegovina     4.711869\n",
       "China                      4.623748\n",
       "Afghanistan                4.518660\n",
       "Bulgaria                   4.290647\n",
       "Tanzania                   4.125737\n",
       "Bolivia                    3.769995\n",
       "Hungary                    3.709712\n",
       "Comoros                    3.653082\n",
       "Mali                       3.646227\n",
       "Name: Death_percent_confirmed, dtype: float64"
      ]
     },
     "execution_count": 334,
     "metadata": {},
     "output_type": "execute_result"
    }
   ],
   "source": [
    "df_6['Death_percent_confirmed'].nlargest(20)"
   ]
  },
  {
   "cell_type": "code",
   "execution_count": 337,
   "metadata": {
    "scrolled": false
   },
   "outputs": [
    {
     "data": {
      "text/plain": [
       "<matplotlib.axes._subplots.AxesSubplot at 0x2448a40c5c8>"
      ]
     },
     "execution_count": 337,
     "metadata": {},
     "output_type": "execute_result"
    },
    {
     "data": {
      "image/png": "[encoded data removed]",
      "text/plain": [
       "<Figure size 1368x648 with 1 Axes>"
      ]
     },
     "metadata": {
      "needs_background": "light"
     },
     "output_type": "display_data"
    }
   ],
   "source": [
    "df_6['Death_percent_confirmed'].nlargest(20).plot.barh(figsize=(19,9))"
   ]
  },
  {
   "cell_type": "markdown",
   "metadata": {},
   "source": [
    "# 7"
   ]
  },
  {
   "cell_type": "code",
   "execution_count": 458,
   "metadata": {},
   "outputs": [],
   "source": [
    "# Compute the ratio between the total number of confirmed cases and the population size\n",
    "# of each country. The file worldpopulation.json contains data on the population size\n",
    "# of each country. Note that countries may have different names in different data sets\n",
    "# (e.g., United Kingdom/U.K., US/USA/U.S., etc.). What are the 10 countries with the\n",
    "# highest number of confirmed COVID-19 cases per capita?"
   ]
  },
  {
   "cell_type": "code",
   "execution_count": 672,
   "metadata": {},
   "outputs": [],
   "source": [
    "population=pd.read_json('worldpopulation.json')"
   ]
  },
  {
   "cell_type": "code",
   "execution_count": 673,
   "metadata": {
    "collapsed": true
   },
   "outputs": [
    {
     "data": {
      "text/html": [
       "<div>\n",
       "<style scoped>\n",
       "    .dataframe tbody tr th:only-of-type {\n",
       "        vertical-align: middle;\n",
       "    }\n",
       "\n",
       "    .dataframe tbody tr th {\n",
       "        vertical-align: top;\n",
       "    }\n",
       "\n",
       "    .dataframe thead th {\n",
       "        text-align: right;\n",
       "    }\n",
       "</style>\n",
       "<table border=\"1\" class=\"dataframe\">\n",
       "  <thead>\n",
       "    <tr style=\"text-align: right;\">\n",
       "      <th></th>\n",
       "      <th>Rank</th>\n",
       "      <th>country</th>\n",
       "      <th>population</th>\n",
       "      <th>World</th>\n",
       "    </tr>\n",
       "  </thead>\n",
       "  <tbody>\n",
       "    <tr>\n",
       "      <th>0</th>\n",
       "      <td>1</td>\n",
       "      <td>China</td>\n",
       "      <td>1388232693</td>\n",
       "      <td>0.185</td>\n",
       "    </tr>\n",
       "    <tr>\n",
       "      <th>1</th>\n",
       "      <td>2</td>\n",
       "      <td>India</td>\n",
       "      <td>1342512706</td>\n",
       "      <td>0.179</td>\n",
       "    </tr>\n",
       "    <tr>\n",
       "      <th>2</th>\n",
       "      <td>3</td>\n",
       "      <td>U.S.</td>\n",
       "      <td>326474013</td>\n",
       "      <td>0.043</td>\n",
       "    </tr>\n",
       "    <tr>\n",
       "      <th>3</th>\n",
       "      <td>4</td>\n",
       "      <td>Indonesia</td>\n",
       "      <td>263510146</td>\n",
       "      <td>0.035</td>\n",
       "    </tr>\n",
       "    <tr>\n",
       "      <th>4</th>\n",
       "      <td>5</td>\n",
       "      <td>Brazil</td>\n",
       "      <td>211243220</td>\n",
       "      <td>0.028</td>\n",
       "    </tr>\n",
       "    <tr>\n",
       "      <th>...</th>\n",
       "      <td>...</td>\n",
       "      <td>...</td>\n",
       "      <td>...</td>\n",
       "      <td>...</td>\n",
       "    </tr>\n",
       "    <tr>\n",
       "      <th>190</th>\n",
       "      <td>191</td>\n",
       "      <td>San Marino</td>\n",
       "      <td>32104</td>\n",
       "      <td>0.000</td>\n",
       "    </tr>\n",
       "    <tr>\n",
       "      <th>191</th>\n",
       "      <td>192</td>\n",
       "      <td>Palau</td>\n",
       "      <td>21726</td>\n",
       "      <td>0.000</td>\n",
       "    </tr>\n",
       "    <tr>\n",
       "      <th>192</th>\n",
       "      <td>193</td>\n",
       "      <td>Nauru</td>\n",
       "      <td>10301</td>\n",
       "      <td>0.000</td>\n",
       "    </tr>\n",
       "    <tr>\n",
       "      <th>193</th>\n",
       "      <td>194</td>\n",
       "      <td>Tuvalu</td>\n",
       "      <td>9975</td>\n",
       "      <td>0.000</td>\n",
       "    </tr>\n",
       "    <tr>\n",
       "      <th>194</th>\n",
       "      <td>195</td>\n",
       "      <td>Holy See</td>\n",
       "      <td>801</td>\n",
       "      <td>0.000</td>\n",
       "    </tr>\n",
       "  </tbody>\n",
       "</table>\n",
       "<p>195 rows × 4 columns</p>\n",
       "</div>"
      ],
      "text/plain": [
       "     Rank     country  population  World\n",
       "0       1       China  1388232693  0.185\n",
       "1       2       India  1342512706  0.179\n",
       "2       3        U.S.   326474013  0.043\n",
       "3       4   Indonesia   263510146  0.035\n",
       "4       5      Brazil   211243220  0.028\n",
       "..    ...         ...         ...    ...\n",
       "190   191  San Marino       32104  0.000\n",
       "191   192       Palau       21726  0.000\n",
       "192   193       Nauru       10301  0.000\n",
       "193   194      Tuvalu        9975  0.000\n",
       "194   195    Holy See         801  0.000\n",
       "\n",
       "[195 rows x 4 columns]"
      ]
     },
     "execution_count": 673,
     "metadata": {},
     "output_type": "execute_result"
    }
   ],
   "source": [
    "population"
   ]
  },
  {
   "cell_type": "code",
   "execution_count": 676,
   "metadata": {},
   "outputs": [],
   "source": [
    "df_6.reset_index(level=0, inplace=True)"
   ]
  },
  {
   "cell_type": "code",
   "execution_count": 677,
   "metadata": {},
   "outputs": [],
   "source": [
    "# t=population.loc[population['country']==df_6['Country/Region'], ['country','population','World']]"
   ]
  },
  {
   "cell_type": "code",
   "execution_count": 678,
   "metadata": {},
   "outputs": [],
   "source": [
    "df_7=df_6"
   ]
  },
  {
   "cell_type": "code",
   "execution_count": 679,
   "metadata": {},
   "outputs": [
    {
     "data": {
      "text/html": [
       "<div>\n",
       "<style scoped>\n",
       "    .dataframe tbody tr th:only-of-type {\n",
       "        vertical-align: middle;\n",
       "    }\n",
       "\n",
       "    .dataframe tbody tr th {\n",
       "        vertical-align: top;\n",
       "    }\n",
       "\n",
       "    .dataframe thead th {\n",
       "        text-align: right;\n",
       "    }\n",
       "</style>\n",
       "<table border=\"1\" class=\"dataframe\">\n",
       "  <thead>\n",
       "    <tr style=\"text-align: right;\">\n",
       "      <th></th>\n",
       "      <th>Country/Region</th>\n",
       "      <th>Confirmed</th>\n",
       "      <th>Recovered</th>\n",
       "      <th>Deaths</th>\n",
       "    </tr>\n",
       "  </thead>\n",
       "  <tbody>\n",
       "  </tbody>\n",
       "</table>\n",
       "</div>"
      ],
      "text/plain": [
       "Empty DataFrame\n",
       "Columns: [Country/Region, Confirmed, Recovered, Deaths]\n",
       "Index: []"
      ]
     },
     "execution_count": 679,
     "metadata": {},
     "output_type": "execute_result"
    }
   ],
   "source": [
    "df_7[df_7['Country/Region'].duplicated()]"
   ]
  },
  {
   "cell_type": "code",
   "execution_count": 680,
   "metadata": {},
   "outputs": [],
   "source": [
    "x=pd.DataFrame()\n",
    "x=population['country'].sort_values()\n",
    "x=x.reset_index(drop=True) \n",
    "data=[df_7['Country/Region'], x]\n",
    "names = [\"country_1\", \"country_2\"]\n",
    "df_check= pd.concat(data, axis=1, keys=names)\n",
    "# print(df_check)\n",
    "# column_values = df_check[[\"country_1\", \"country_2\"]].values.ravel()\n",
    "# # print(len(column_values))\n",
    "# unique_values =  np.unique(column_values)\n",
    "# print(unique_values)\n",
    "# len(unique_values)"
   ]
  },
  {
   "cell_type": "code",
   "execution_count": 681,
   "metadata": {
    "collapsed": true
   },
   "outputs": [
    {
     "data": {
      "text/plain": [
       "[\"Cote d'Ivoire\",\n",
       " 'Kosovo',\n",
       " 'Saint Vincent and the Grenadines',\n",
       " 'Vietnam',\n",
       " 'North Macedonia',\n",
       " 'Czechia',\n",
       " 'Congo (Brazzaville)',\n",
       " 'Summer Olympics 2020',\n",
       " 'MS Zaandam',\n",
       " 'Korea, South',\n",
       " 'Eswatini',\n",
       " 'United Kingdom',\n",
       " 'West Bank and Gaza',\n",
       " 'Burma',\n",
       " 'Taiwan*',\n",
       " 'US',\n",
       " 'Congo (Kinshasa)',\n",
       " 'Diamond Princess']"
      ]
     },
     "execution_count": 681,
     "metadata": {},
     "output_type": "execute_result"
    }
   ],
   "source": [
    "list(set(df_check.country_1)-set(df_check.country_2))"
   ]
  },
  {
   "cell_type": "code",
   "execution_count": 642,
   "metadata": {
    "scrolled": true
   },
   "outputs": [
    {
     "data": {
      "text/html": [
       "<div>\n",
       "<style scoped>\n",
       "    .dataframe tbody tr th:only-of-type {\n",
       "        vertical-align: middle;\n",
       "    }\n",
       "\n",
       "    .dataframe tbody tr th {\n",
       "        vertical-align: top;\n",
       "    }\n",
       "\n",
       "    .dataframe thead th {\n",
       "        text-align: right;\n",
       "    }\n",
       "</style>\n",
       "<table border=\"1\" class=\"dataframe\">\n",
       "  <thead>\n",
       "    <tr style=\"text-align: right;\">\n",
       "      <th></th>\n",
       "      <th>Country/Region</th>\n",
       "      <th>Confirmed</th>\n",
       "      <th>Recovered</th>\n",
       "      <th>Deaths</th>\n",
       "    </tr>\n",
       "  </thead>\n",
       "  <tbody>\n",
       "    <tr>\n",
       "      <th>28</th>\n",
       "      <td>Burundi</td>\n",
       "      <td>6715.0</td>\n",
       "      <td>773.0</td>\n",
       "      <td>9.0</td>\n",
       "    </tr>\n",
       "  </tbody>\n",
       "</table>\n",
       "</div>"
      ],
      "text/plain": [
       "   Country/Region  Confirmed  Recovered  Deaths\n",
       "28        Burundi     6715.0      773.0     9.0"
      ]
     },
     "execution_count": 642,
     "metadata": {},
     "output_type": "execute_result"
    }
   ],
   "source": [
    "df_7.iloc[[28]]"
   ]
  },
  {
   "cell_type": "code",
   "execution_count": 526,
   "metadata": {},
   "outputs": [],
   "source": [
    "# df_7 = df_7.set_index('Country/Region')\n",
    "# df_7 = df_7.reindex(index=population['country'])\n",
    "# df_7 = df_7.reset_index()"
   ]
  },
  {
   "cell_type": "code",
   "execution_count": 434,
   "metadata": {
    "collapsed": true
   },
   "outputs": [
    {
     "data": {
      "text/plain": [
       "39     Afghanistan\n",
       "135        Albania\n",
       "34         Algeria\n",
       "185        Andorra\n",
       "49          Angola\n",
       "          ...     \n",
       "42       Venezuela\n",
       "13        Viet Nam\n",
       "48           Yemen\n",
       "64          Zambia\n",
       "68        Zimbabwe\n",
       "Name: country_2, Length: 195, dtype: object"
      ]
     },
     "execution_count": 434,
     "metadata": {},
     "output_type": "execute_result"
    }
   ],
   "source": [
    "# df_check[\"country_2\"].sort_values() "
   ]
  },
  {
   "cell_type": "code",
   "execution_count": 578,
   "metadata": {
    "collapsed": true
   },
   "outputs": [
    {
     "data": {
      "text/html": [
       "<div>\n",
       "<style scoped>\n",
       "    .dataframe tbody tr th:only-of-type {\n",
       "        vertical-align: middle;\n",
       "    }\n",
       "\n",
       "    .dataframe tbody tr th {\n",
       "        vertical-align: top;\n",
       "    }\n",
       "\n",
       "    .dataframe thead th {\n",
       "        text-align: right;\n",
       "    }\n",
       "</style>\n",
       "<table border=\"1\" class=\"dataframe\">\n",
       "  <thead>\n",
       "    <tr style=\"text-align: right;\">\n",
       "      <th></th>\n",
       "      <th>Rank</th>\n",
       "      <th>country</th>\n",
       "      <th>population</th>\n",
       "      <th>World</th>\n",
       "    </tr>\n",
       "    <tr>\n",
       "      <th>Country/Region</th>\n",
       "      <th></th>\n",
       "      <th></th>\n",
       "      <th></th>\n",
       "      <th></th>\n",
       "    </tr>\n",
       "  </thead>\n",
       "  <tbody>\n",
       "    <tr>\n",
       "      <th>Afghanistan</th>\n",
       "      <td>NaN</td>\n",
       "      <td>NaN</td>\n",
       "      <td>NaN</td>\n",
       "      <td>NaN</td>\n",
       "    </tr>\n",
       "    <tr>\n",
       "      <th>Albania</th>\n",
       "      <td>NaN</td>\n",
       "      <td>NaN</td>\n",
       "      <td>NaN</td>\n",
       "      <td>NaN</td>\n",
       "    </tr>\n",
       "    <tr>\n",
       "      <th>Algeria</th>\n",
       "      <td>NaN</td>\n",
       "      <td>NaN</td>\n",
       "      <td>NaN</td>\n",
       "      <td>NaN</td>\n",
       "    </tr>\n",
       "    <tr>\n",
       "      <th>Andorra</th>\n",
       "      <td>NaN</td>\n",
       "      <td>NaN</td>\n",
       "      <td>NaN</td>\n",
       "      <td>NaN</td>\n",
       "    </tr>\n",
       "    <tr>\n",
       "      <th>Angola</th>\n",
       "      <td>NaN</td>\n",
       "      <td>NaN</td>\n",
       "      <td>NaN</td>\n",
       "      <td>NaN</td>\n",
       "    </tr>\n",
       "    <tr>\n",
       "      <th>...</th>\n",
       "      <td>...</td>\n",
       "      <td>...</td>\n",
       "      <td>...</td>\n",
       "      <td>...</td>\n",
       "    </tr>\n",
       "    <tr>\n",
       "      <th>Vietnam</th>\n",
       "      <td>NaN</td>\n",
       "      <td>NaN</td>\n",
       "      <td>NaN</td>\n",
       "      <td>NaN</td>\n",
       "    </tr>\n",
       "    <tr>\n",
       "      <th>West Bank and Gaza</th>\n",
       "      <td>NaN</td>\n",
       "      <td>NaN</td>\n",
       "      <td>NaN</td>\n",
       "      <td>NaN</td>\n",
       "    </tr>\n",
       "    <tr>\n",
       "      <th>Yemen</th>\n",
       "      <td>NaN</td>\n",
       "      <td>NaN</td>\n",
       "      <td>NaN</td>\n",
       "      <td>NaN</td>\n",
       "    </tr>\n",
       "    <tr>\n",
       "      <th>Zambia</th>\n",
       "      <td>NaN</td>\n",
       "      <td>NaN</td>\n",
       "      <td>NaN</td>\n",
       "      <td>NaN</td>\n",
       "    </tr>\n",
       "    <tr>\n",
       "      <th>Zimbabwe</th>\n",
       "      <td>NaN</td>\n",
       "      <td>NaN</td>\n",
       "      <td>NaN</td>\n",
       "      <td>NaN</td>\n",
       "    </tr>\n",
       "  </tbody>\n",
       "</table>\n",
       "<p>195 rows × 4 columns</p>\n",
       "</div>"
      ],
      "text/plain": [
       "                    Rank country  population  World\n",
       "Country/Region                                     \n",
       "Afghanistan          NaN     NaN         NaN    NaN\n",
       "Albania              NaN     NaN         NaN    NaN\n",
       "Algeria              NaN     NaN         NaN    NaN\n",
       "Andorra              NaN     NaN         NaN    NaN\n",
       "Angola               NaN     NaN         NaN    NaN\n",
       "...                  ...     ...         ...    ...\n",
       "Vietnam              NaN     NaN         NaN    NaN\n",
       "West Bank and Gaza   NaN     NaN         NaN    NaN\n",
       "Yemen                NaN     NaN         NaN    NaN\n",
       "Zambia               NaN     NaN         NaN    NaN\n",
       "Zimbabwe             NaN     NaN         NaN    NaN\n",
       "\n",
       "[195 rows x 4 columns]"
      ]
     },
     "execution_count": 578,
     "metadata": {},
     "output_type": "execute_result"
    }
   ],
   "source": [
    "update_pop"
   ]
  },
  {
   "cell_type": "code",
   "execution_count": 735,
   "metadata": {},
   "outputs": [],
   "source": [
    "# changing the names of countries country_1=df_7['country']\n",
    "update_df['Country/Region']=df_7['Country/Region'].replace(\"Czechia\", \"Czech Republic\",inplace=True)\n",
    "update_df['Country/Region']=df_7['Country/Region'].replace(\"North Macedonia\", \"North Korea\",inplace=True)\n",
    "update_df['Country/Region']=df_7['Country/Region'].replace(\"Taiwan*\", \"TFYR Macedonia\",inplace=True)\n",
    "update_df['Country/Region']=df_7['Country/Region'].replace(\"US\", \"U.S.\",inplace=True)\n",
    "update_df['Country/Region']=df_7['Country/Region'].replace(\"United Kingdom\", \"U.K.\",inplace=True)\n",
    "update_df['Country/Region']=df_7['Country/Region'].replace(\"Vietnam\", \"Viet Nam\",inplace=True)\n",
    "update_df = df_7.drop(df_7.index[[40, 42, 48, 58, 92, 93, 106, 148, 167]])\n",
    "update_pop= population.drop(population.index[[54, 45, 15, 24, 118, 25, 150, 178, 180, 147, 108, 192, 193]])\n",
    "# update_df = df_7.drop(40)\n",
    "update_df = update_df.reset_index(drop=True)\n",
    "update_pop = update_pop.reset_index(drop=True)"
   ]
  },
  {
   "cell_type": "code",
   "execution_count": 684,
   "metadata": {
    "scrolled": true
   },
   "outputs": [
    {
     "data": {
      "text/html": [
       "<div>\n",
       "<style scoped>\n",
       "    .dataframe tbody tr th:only-of-type {\n",
       "        vertical-align: middle;\n",
       "    }\n",
       "\n",
       "    .dataframe tbody tr th {\n",
       "        vertical-align: top;\n",
       "    }\n",
       "\n",
       "    .dataframe thead th {\n",
       "        text-align: right;\n",
       "    }\n",
       "</style>\n",
       "<table border=\"1\" class=\"dataframe\">\n",
       "  <thead>\n",
       "    <tr style=\"text-align: right;\">\n",
       "      <th></th>\n",
       "      <th>Country/Region</th>\n",
       "      <th>Confirmed</th>\n",
       "      <th>Recovered</th>\n",
       "      <th>Deaths</th>\n",
       "    </tr>\n",
       "  </thead>\n",
       "  <tbody>\n",
       "    <tr>\n",
       "      <th>48</th>\n",
       "      <td>Dominican Republic</td>\n",
       "      <td>340814.0</td>\n",
       "      <td>312204.0</td>\n",
       "      <td>3953.0</td>\n",
       "    </tr>\n",
       "  </tbody>\n",
       "</table>\n",
       "</div>"
      ],
      "text/plain": [
       "        Country/Region  Confirmed  Recovered  Deaths\n",
       "48  Dominican Republic   340814.0   312204.0  3953.0"
      ]
     },
     "execution_count": 684,
     "metadata": {},
     "output_type": "execute_result"
    }
   ],
   "source": [
    "update_df.iloc[[48]]"
   ]
  },
  {
   "cell_type": "code",
   "execution_count": 685,
   "metadata": {},
   "outputs": [
    {
     "data": {
      "text/html": [
       "<div>\n",
       "<style scoped>\n",
       "    .dataframe tbody tr th:only-of-type {\n",
       "        vertical-align: middle;\n",
       "    }\n",
       "\n",
       "    .dataframe tbody tr th {\n",
       "        vertical-align: top;\n",
       "    }\n",
       "\n",
       "    .dataframe thead th {\n",
       "        text-align: right;\n",
       "    }\n",
       "</style>\n",
       "<table border=\"1\" class=\"dataframe\">\n",
       "  <thead>\n",
       "    <tr style=\"text-align: right;\">\n",
       "      <th></th>\n",
       "      <th>Rank</th>\n",
       "      <th>country</th>\n",
       "      <th>population</th>\n",
       "      <th>World</th>\n",
       "    </tr>\n",
       "  </thead>\n",
       "  <tbody>\n",
       "    <tr>\n",
       "      <th>54</th>\n",
       "      <td>60</td>\n",
       "      <td>Syria</td>\n",
       "      <td>18906907</td>\n",
       "      <td>0.003</td>\n",
       "    </tr>\n",
       "  </tbody>\n",
       "</table>\n",
       "</div>"
      ],
      "text/plain": [
       "    Rank country  population  World\n",
       "54    60   Syria    18906907  0.003"
      ]
     },
     "execution_count": 685,
     "metadata": {},
     "output_type": "execute_result"
    }
   ],
   "source": [
    "update_pop.iloc[[54]]"
   ]
  },
  {
   "cell_type": "code",
   "execution_count": 736,
   "metadata": {},
   "outputs": [
    {
     "name": "stdout",
     "output_type": "stream",
     "text": [
      "[193]\n"
     ]
    }
   ],
   "source": [
    "print(population[population['country']==\"Tuvalu\"].index.values)"
   ]
  },
  {
   "cell_type": "code",
   "execution_count": 738,
   "metadata": {},
   "outputs": [
    {
     "name": "stdout",
     "output_type": "stream",
     "text": [
      "[]\n"
     ]
    }
   ],
   "source": [
    "print(update_pop[update_pop['country']==\"Tuvalu\"].index.values)"
   ]
  },
  {
   "cell_type": "code",
   "execution_count": 658,
   "metadata": {
    "collapsed": true
   },
   "outputs": [
    {
     "name": "stdout",
     "output_type": "stream",
     "text": [
      "                            country_1                 country_2\n",
      "0                         Afghanistan               Afghanistan\n",
      "1                             Albania                   Albania\n",
      "2                             Algeria                   Algeria\n",
      "3                             Andorra                   Andorra\n",
      "4                              Angola                    Angola\n",
      "5                 Antigua and Barbuda       Antigua and Barbuda\n",
      "6                           Argentina                 Argentina\n",
      "7                             Armenia                   Armenia\n",
      "8                           Australia                 Australia\n",
      "9                             Austria                   Austria\n",
      "10                         Azerbaijan                Azerbaijan\n",
      "11                            Bahamas                   Bahamas\n",
      "12                            Bahrain                   Bahrain\n",
      "13                         Bangladesh                Bangladesh\n",
      "14                           Barbados                  Barbados\n",
      "15                            Belarus                   Belarus\n",
      "16                            Belgium                   Belgium\n",
      "17                             Belize                    Belize\n",
      "18                              Benin                     Benin\n",
      "19                             Bhutan                    Bhutan\n",
      "20                            Bolivia                   Bolivia\n",
      "21             Bosnia and Herzegovina    Bosnia and Herzegovina\n",
      "22                           Botswana                  Botswana\n",
      "23                             Brazil                    Brazil\n",
      "24                             Brunei                    Brunei\n",
      "25                           Bulgaria                  Bulgaria\n",
      "26                       Burkina Faso              Burkina Faso\n",
      "27                              Burma                   Burundi\n",
      "28                            Burundi                Cabo Verde\n",
      "29                         Cabo Verde                  Cambodia\n",
      "30                           Cambodia                  Cameroon\n",
      "31                           Cameroon                    Canada\n",
      "32                             Canada  Central African Republic\n",
      "33           Central African Republic                      Chad\n",
      "34                               Chad                     Chile\n",
      "35                              Chile                     China\n",
      "36                              China                  Colombia\n",
      "37                           Colombia                   Comoros\n",
      "38                            Comoros                     Congo\n",
      "39                Congo (Brazzaville)                Costa Rica\n",
      "40                   Congo (Kinshasa)                   Croatia\n",
      "41                         Costa Rica                      Cuba\n",
      "42                      Cote d'Ivoire                    Cyprus\n",
      "43                            Croatia            Czech Republic\n",
      "44                               Cuba            CÃ´te d'Ivoire\n",
      "45                             Cyprus                  DR Congo\n",
      "46                     Czech Republic                   Denmark\n",
      "47                            Denmark                  Djibouti\n",
      "48                   Diamond Princess                  Dominica\n",
      "49                           Djibouti        Dominican Republic\n",
      "50                           Dominica                   Ecuador\n",
      "51                 Dominican Republic                     Egypt\n",
      "52                            Ecuador               El Salvador\n",
      "53                              Egypt         Equatorial Guinea\n",
      "54                        El Salvador                   Eritrea\n",
      "55                  Equatorial Guinea                   Estonia\n",
      "56                            Eritrea                  Ethiopia\n",
      "57                            Estonia                      Fiji\n",
      "58                           Eswatini                   Finland\n",
      "59                           Ethiopia                    France\n",
      "60                               Fiji                     Gabon\n",
      "61                            Finland                    Gambia\n",
      "62                             France                   Georgia\n",
      "63                              Gabon                   Germany\n",
      "64                             Gambia                     Ghana\n",
      "65                            Georgia                    Greece\n",
      "66                            Germany                   Grenada\n",
      "67                              Ghana                 Guatemala\n",
      "68                             Greece                    Guinea\n",
      "69                            Grenada             Guinea-Bissau\n",
      "70                          Guatemala                    Guyana\n",
      "71                             Guinea                     Haiti\n",
      "72                      Guinea-Bissau                  Holy See\n",
      "73                             Guyana                  Honduras\n",
      "74                              Haiti                   Hungary\n",
      "75                           Holy See                   Iceland\n",
      "76                           Honduras                     India\n",
      "77                            Hungary                 Indonesia\n",
      "78                            Iceland                      Iran\n",
      "79                              India                      Iraq\n",
      "80                          Indonesia                   Ireland\n",
      "81                               Iran                    Israel\n",
      "82                               Iraq                     Italy\n",
      "83                            Ireland                   Jamaica\n",
      "84                             Israel                     Japan\n",
      "85                              Italy                    Jordan\n",
      "86                            Jamaica                Kazakhstan\n",
      "87                              Japan                     Kenya\n",
      "88                             Jordan                  Kiribati\n",
      "89                         Kazakhstan                    Kuwait\n",
      "90                              Kenya                Kyrgyzstan\n",
      "91                           Kiribati                      Laos\n",
      "92                       Korea, South                    Latvia\n",
      "93                             Kosovo                   Lebanon\n",
      "94                             Kuwait                   Lesotho\n",
      "95                         Kyrgyzstan                   Liberia\n",
      "96                               Laos                     Libya\n",
      "97                             Latvia             Liechtenstein\n",
      "98                            Lebanon                 Lithuania\n",
      "99                            Lesotho                Luxembourg\n",
      "100                           Liberia                Madagascar\n",
      "101                             Libya                    Malawi\n",
      "102                     Liechtenstein                  Malaysia\n",
      "103                         Lithuania                  Maldives\n",
      "104                        Luxembourg                      Mali\n",
      "105                        MS Zaandam                     Malta\n",
      "106                        Madagascar          Marshall Islands\n",
      "107                            Malawi                Mauritania\n",
      "108                          Malaysia                 Mauritius\n",
      "109                          Maldives                    Mexico\n",
      "110                              Mali                Micronesia\n",
      "111                             Malta                   Moldova\n",
      "112                  Marshall Islands                    Monaco\n",
      "113                        Mauritania                  Mongolia\n",
      "114                         Mauritius                Montenegro\n",
      "115                            Mexico                   Morocco\n",
      "116                        Micronesia                Mozambique\n",
      "117                           Moldova                   Myanmar\n",
      "118                            Monaco                   Namibia\n",
      "119                          Mongolia                     Nauru\n",
      "120                        Montenegro                     Nepal\n",
      "121                           Morocco               Netherlands\n",
      "122                        Mozambique               New Zealand\n",
      "123                           Namibia                 Nicaragua\n",
      "124                             Nepal                     Niger\n",
      "125                       Netherlands                   Nigeria\n",
      "126                       New Zealand               North Korea\n",
      "127                         Nicaragua                    Norway\n",
      "128                             Niger                      Oman\n",
      "129                           Nigeria                  Pakistan\n",
      "130                       North Korea                     Palau\n",
      "131                            Norway                    Panama\n",
      "132                              Oman          Papua New Guinea\n",
      "133                          Pakistan                  Paraguay\n",
      "134                             Palau                      Peru\n",
      "135                            Panama               Philippines\n",
      "136                  Papua New Guinea                    Poland\n",
      "137                          Paraguay                  Portugal\n",
      "138                              Peru                     Qatar\n",
      "139                       Philippines                   Romania\n",
      "140                            Poland                    Russia\n",
      "141                          Portugal                    Rwanda\n",
      "142                             Qatar     Saint Kitts and Nevis\n",
      "143                           Romania               Saint Lucia\n",
      "144                            Russia                     Samoa\n",
      "145                            Rwanda                San Marino\n",
      "146             Saint Kitts and Nevis     Sao Tome and Principe\n",
      "147                       Saint Lucia              Saudi Arabia\n",
      "148  Saint Vincent and the Grenadines                   Senegal\n",
      "149                             Samoa                    Serbia\n",
      "150                        San Marino                Seychelles\n",
      "151             Sao Tome and Principe              Sierra Leone\n",
      "152                      Saudi Arabia                 Singapore\n",
      "153                           Senegal                  Slovakia\n",
      "154                            Serbia                  Slovenia\n",
      "155                        Seychelles           Solomon Islands\n",
      "156                      Sierra Leone                   Somalia\n",
      "157                         Singapore              South Africa\n",
      "158                          Slovakia               South Korea\n",
      "159                          Slovenia               South Sudan\n",
      "160                   Solomon Islands                     Spain\n",
      "161                           Somalia                 Sri Lanka\n",
      "162                      South Africa  St. Vincent & Grenadines\n",
      "163                       South Sudan        State of Palestine\n",
      "164                             Spain                     Sudan\n",
      "165                         Sri Lanka                  Suriname\n",
      "166                             Sudan                 Swaziland\n",
      "167              Summer Olympics 2020                    Sweden\n",
      "168                          Suriname               Switzerland\n",
      "169                            Sweden                     Syria\n",
      "170                       Switzerland            TFYR Macedonia\n",
      "171                             Syria                Tajikistan\n",
      "172                    TFYR Macedonia                  Tanzania\n",
      "173                        Tajikistan                  Thailand\n",
      "174                          Tanzania               Timor-Leste\n",
      "175                          Thailand                      Togo\n",
      "176                       Timor-Leste                     Tonga\n",
      "177                              Togo       Trinidad and Tobago\n",
      "178               Trinidad and Tobago                   Tunisia\n",
      "179                           Tunisia                    Turkey\n",
      "180                            Turkey              Turkmenistan\n",
      "181                              U.S.                    Tuvalu\n",
      "182                            Uganda                      U.K.\n",
      "183                           Ukraine                      U.S.\n",
      "184              United Arab Emirates                    Uganda\n",
      "185                              U.K.                   Ukraine\n",
      "186                           Uruguay      United Arab Emirates\n",
      "187                        Uzbekistan                   Uruguay\n",
      "188                           Vanuatu                Uzbekistan\n",
      "189                         Venezuela                   Vanuatu\n",
      "190                          Viet nam                 Venezuela\n",
      "191                West Bank and Gaza                  Viet Nam\n",
      "192                             Yemen                     Yemen\n",
      "193                            Zambia                    Zambia\n",
      "194                          Zimbabwe                  Zimbabwe\n"
     ]
    }
   ],
   "source": [
    "with pd.option_context('display.max_rows', None,\n",
    "                       'display.max_columns', None,\n",
    "                       'display.precision', 3,\n",
    "                       ):\n",
    "    print(df_check)"
   ]
  },
  {
   "cell_type": "code",
   "execution_count": 392,
   "metadata": {},
   "outputs": [],
   "source": [
    "# df_7 = df_7.reindex(population['country'])"
   ]
  },
  {
   "cell_type": "code",
   "execution_count": 739,
   "metadata": {},
   "outputs": [],
   "source": [
    "update_df = update_df.set_index('Country/Region')\n",
    "update_df = update_df.reindex(index=population['country'])\n",
    "update_df = update_df.reset_index()"
   ]
  },
  {
   "cell_type": "code",
   "execution_count": 740,
   "metadata": {
    "collapsed": true
   },
   "outputs": [
    {
     "name": "stdout",
     "output_type": "stream",
     "text": [
      "           country   Confirmed   Recovered    Deaths\n",
      "0            China    104850.0     99048.0    4848.0\n",
      "1            India  31484605.0  30663147.0  422022.0\n",
      "2             U.S.  34672690.0         0.0  611801.0\n",
      "3        Indonesia   3287727.0   2640676.0   88659.0\n",
      "4           Brazil  19797086.0  17742532.0  553179.0\n",
      "..             ...         ...         ...       ...\n",
      "177  Liechtenstein      3083.0      3003.0      59.0\n",
      "178         Monaco      2833.0      2674.0      33.0\n",
      "179     San Marino      5130.0      5005.0      90.0\n",
      "180          Palau         0.0         0.0       0.0\n",
      "181       Holy See        27.0        27.0       0.0\n",
      "\n",
      "[182 rows x 4 columns]\n",
      "     Rank        country  population  World\n",
      "0       1          China  1388232693  0.185\n",
      "1       2          India  1342512706  0.179\n",
      "2       3           U.S.   326474013  0.043\n",
      "3       4      Indonesia   263510146  0.035\n",
      "4       5         Brazil   211243220  0.028\n",
      "..    ...            ...         ...    ...\n",
      "177   189  Liechtenstein       38022  0.000\n",
      "178   190         Monaco       38010  0.000\n",
      "179   191     San Marino       32104  0.000\n",
      "180   192          Palau       21726  0.000\n",
      "181   195       Holy See         801  0.000\n",
      "\n",
      "[182 rows x 4 columns]\n"
     ]
    }
   ],
   "source": [
    "update_df= update_df.dropna()\n",
    "update_df = update_df.reset_index(drop=True)\n",
    "update_pop= update_pop.dropna()\n",
    "update_pop = update_pop.reset_index(drop=True)\n",
    "print(update_df)\n",
    "print(update_pop)\n",
    "data2=[update_df['country'], update_pop['country']]\n",
    "names2= [\"country_1\", \"country_2\"]\n",
    "df_check2= pd.concat(data2, axis=1, keys=names2)\n",
    "# print(df_check2)"
   ]
  },
  {
   "cell_type": "code",
   "execution_count": 741,
   "metadata": {
    "collapsed": true
   },
   "outputs": [
    {
     "name": "stdout",
     "output_type": "stream",
     "text": [
      "                    country_1                 country_2\n",
      "0                       China                     China\n",
      "1                       India                     India\n",
      "2                        U.S.                      U.S.\n",
      "3                   Indonesia                 Indonesia\n",
      "4                      Brazil                    Brazil\n",
      "5                    Pakistan                  Pakistan\n",
      "6                     Nigeria                   Nigeria\n",
      "7                  Bangladesh                Bangladesh\n",
      "8                      Russia                    Russia\n",
      "9                      Mexico                    Mexico\n",
      "10                      Japan                     Japan\n",
      "11                   Ethiopia                  Ethiopia\n",
      "12                Philippines               Philippines\n",
      "13                   Viet Nam                  Viet Nam\n",
      "14                      Egypt                     Egypt\n",
      "15                       Iran                      Iran\n",
      "16                    Germany                   Germany\n",
      "17                     Turkey                    Turkey\n",
      "18                   Thailand                  Thailand\n",
      "19                       U.K.                      U.K.\n",
      "20                     France                    France\n",
      "21                      Italy                     Italy\n",
      "22                   Tanzania                  Tanzania\n",
      "23               South Africa               South Korea\n",
      "24                   Colombia                  Colombia\n",
      "25                      Kenya                     Kenya\n",
      "26                      Spain                     Spain\n",
      "27                    Ukraine                   Ukraine\n",
      "28                  Argentina                 Argentina\n",
      "29                      Sudan                     Sudan\n",
      "30                     Uganda                    Uganda\n",
      "31                    Algeria                   Algeria\n",
      "32                       Iraq                      Iraq\n",
      "33                     Poland                    Poland\n",
      "34                     Canada                    Canada\n",
      "35                    Morocco                   Morocco\n",
      "36                Afghanistan               Afghanistan\n",
      "37               Saudi Arabia              Saudi Arabia\n",
      "38                       Peru                      Peru\n",
      "39                  Venezuela                 Venezuela\n",
      "40                   Malaysia                  Malaysia\n",
      "41                 Uzbekistan                Uzbekistan\n",
      "42                 Mozambique                     Nepal\n",
      "43                      Nepal                     Ghana\n",
      "44                      Ghana                     Yemen\n",
      "45                      Yemen                    Angola\n",
      "46                     Angola                Madagascar\n",
      "47                North Korea               North Korea\n",
      "48                  Australia                 Australia\n",
      "49                   Cameroon                  Cameroon\n",
      "50                      Niger                     Niger\n",
      "51                  Sri Lanka                 Sri Lanka\n",
      "52                    Romania                   Romania\n",
      "53               Burkina Faso              Burkina Faso\n",
      "54                      Syria                     Syria\n",
      "55                       Mali                      Mali\n",
      "56                      Chile                     Chile\n",
      "57                     Malawi                    Malawi\n",
      "58                 Kazakhstan                Kazakhstan\n",
      "59                     Zambia                    Zambia\n",
      "60                Netherlands               Netherlands\n",
      "61                  Guatemala                 Guatemala\n",
      "62                    Ecuador                   Ecuador\n",
      "63                   Zimbabwe                  Zimbabwe\n",
      "64                   Cambodia                  Cambodia\n",
      "65                    Senegal                   Senegal\n",
      "66                       Chad                      Chad\n",
      "67                     Guinea                    Guinea\n",
      "68                South Sudan               South Sudan\n",
      "69                     Rwanda                    Rwanda\n",
      "70                    Burundi                   Burundi\n",
      "71                    Tunisia                   Tunisia\n",
      "72                      Benin                     Benin\n",
      "73                    Belgium                   Belgium\n",
      "74                    Somalia                   Somalia\n",
      "75                       Cuba                      Cuba\n",
      "76                    Bolivia                   Bolivia\n",
      "77                      Haiti                     Haiti\n",
      "78                     Greece                    Greece\n",
      "79         Dominican Republic        Dominican Republic\n",
      "80             Czech Republic            Czech Republic\n",
      "81                   Portugal                  Portugal\n",
      "82                 Azerbaijan                Azerbaijan\n",
      "83                     Sweden                    Sweden\n",
      "84                    Hungary                   Hungary\n",
      "85                    Belarus                   Belarus\n",
      "86       United Arab Emirates      United Arab Emirates\n",
      "87                 Tajikistan                Tajikistan\n",
      "88                     Serbia                    Serbia\n",
      "89                    Austria                   Austria\n",
      "90                Switzerland               Switzerland\n",
      "91                     Israel                    Israel\n",
      "92                   Honduras                  Honduras\n",
      "93           Papua New Guinea          Papua New Guinea\n",
      "94                     Jordan                    Jordan\n",
      "95                       Togo                      Togo\n",
      "96                   Bulgaria                  Bulgaria\n",
      "97                       Laos                      Laos\n",
      "98                   Paraguay                  Paraguay\n",
      "99               Sierra Leone              Sierra Leone\n",
      "100                     Libya                     Libya\n",
      "101                 Nicaragua                 Nicaragua\n",
      "102               El Salvador               El Salvador\n",
      "103                Kyrgyzstan                   Lebanon\n",
      "104                   Lebanon                 Singapore\n",
      "105                 Singapore                   Denmark\n",
      "106                   Denmark                   Finland\n",
      "107                   Finland              Turkmenistan\n",
      "108                   Eritrea                   Eritrea\n",
      "109                  Slovakia                  Slovakia\n",
      "110                    Norway                    Norway\n",
      "111  Central African Republic  Central African Republic\n",
      "112                Costa Rica                Costa Rica\n",
      "113                   Ireland                     Congo\n",
      "114                      Oman                   Ireland\n",
      "115                   Liberia                      Oman\n",
      "116               New Zealand                   Liberia\n",
      "117                Mauritania               New Zealand\n",
      "118                   Croatia                Mauritania\n",
      "119                    Kuwait                   Croatia\n",
      "120                   Moldova                    Kuwait\n",
      "121                    Panama                   Moldova\n",
      "122                   Georgia                    Panama\n",
      "123    Bosnia and Herzegovina                   Georgia\n",
      "124                   Uruguay    Bosnia and Herzegovina\n",
      "125                  Mongolia                   Uruguay\n",
      "126                   Armenia                  Mongolia\n",
      "127                   Albania                   Armenia\n",
      "128                 Lithuania                   Albania\n",
      "129                   Jamaica                 Lithuania\n",
      "130                   Namibia                   Jamaica\n",
      "131                  Botswana                   Namibia\n",
      "132                     Qatar                  Botswana\n",
      "133                   Lesotho                     Qatar\n",
      "134                    Gambia                   Lesotho\n",
      "135            TFYR Macedonia                    Gambia\n",
      "136                  Slovenia            TFYR Macedonia\n",
      "137                    Latvia                  Slovenia\n",
      "138             Guinea-Bissau                    Latvia\n",
      "139                     Gabon             Guinea-Bissau\n",
      "140                   Bahrain                   Bahrain\n",
      "141       Trinidad and Tobago       Trinidad and Tobago\n",
      "142                   Estonia                   Estonia\n",
      "143                 Mauritius                 Mauritius\n",
      "144               Timor-Leste               Timor-Leste\n",
      "145                    Cyprus                    Cyprus\n",
      "146                  Djibouti                  Djibouti\n",
      "147                      Fiji                      Fiji\n",
      "148         Equatorial Guinea         Equatorial Guinea\n",
      "149                   Comoros                   Comoros\n",
      "150                    Bhutan                    Bhutan\n",
      "151                    Guyana                    Guyana\n",
      "152                Montenegro                Montenegro\n",
      "153           Solomon Islands           Solomon Islands\n",
      "154                Luxembourg                Luxembourg\n",
      "155                  Suriname                  Suriname\n",
      "156                Cabo Verde                Cabo Verde\n",
      "157                    Brunei                    Brunei\n",
      "158                     Malta                     Malta\n",
      "159                   Bahamas                   Bahamas\n",
      "160                  Maldives                  Maldives\n",
      "161                    Belize                    Belize\n",
      "162                   Iceland                   Iceland\n",
      "163                  Barbados                  Barbados\n",
      "164                   Vanuatu                   Vanuatu\n",
      "165     Sao Tome and Principe     Sao Tome and Principe\n",
      "166                     Samoa                     Samoa\n",
      "167               Saint Lucia               Saint Lucia\n",
      "168                  Kiribati                  Kiribati\n",
      "169                   Grenada                   Grenada\n",
      "170                Micronesia                Micronesia\n",
      "171                Seychelles                Seychelles\n",
      "172       Antigua and Barbuda       Antigua and Barbuda\n",
      "173                  Dominica                  Dominica\n",
      "174                   Andorra                   Andorra\n",
      "175     Saint Kitts and Nevis     Saint Kitts and Nevis\n",
      "176          Marshall Islands          Marshall Islands\n",
      "177             Liechtenstein             Liechtenstein\n",
      "178                    Monaco                    Monaco\n",
      "179                San Marino                San Marino\n",
      "180                     Palau                     Palau\n",
      "181                  Holy See                  Holy See\n"
     ]
    }
   ],
   "source": [
    "with pd.option_context('display.max_rows', None,\n",
    "                       'display.max_columns', None,\n",
    "                       'display.precision', 3,\n",
    "                       ):\n",
    "    print(df_check2)"
   ]
  },
  {
   "cell_type": "code",
   "execution_count": 747,
   "metadata": {},
   "outputs": [],
   "source": [
    "df_per_capita=pd.DataFrame()\n",
    "df_per_capita['Cases_per_capita']=update_df['Confirmed']*100/update_pop['population']\n",
    "df_per_capita['Country']=update_pop['country']"
   ]
  },
  {
   "cell_type": "code",
   "execution_count": 748,
   "metadata": {
    "collapsed": true
   },
   "outputs": [
    {
     "data": {
      "text/html": [
       "<div>\n",
       "<style scoped>\n",
       "    .dataframe tbody tr th:only-of-type {\n",
       "        vertical-align: middle;\n",
       "    }\n",
       "\n",
       "    .dataframe tbody tr th {\n",
       "        vertical-align: top;\n",
       "    }\n",
       "\n",
       "    .dataframe thead th {\n",
       "        text-align: right;\n",
       "    }\n",
       "</style>\n",
       "<table border=\"1\" class=\"dataframe\">\n",
       "  <thead>\n",
       "    <tr style=\"text-align: right;\">\n",
       "      <th></th>\n",
       "      <th>Cases_per_capita</th>\n",
       "      <th>Country</th>\n",
       "    </tr>\n",
       "  </thead>\n",
       "  <tbody>\n",
       "    <tr>\n",
       "      <th>0</th>\n",
       "      <td>0.007553</td>\n",
       "      <td>China</td>\n",
       "    </tr>\n",
       "    <tr>\n",
       "      <th>1</th>\n",
       "      <td>2.345200</td>\n",
       "      <td>India</td>\n",
       "    </tr>\n",
       "    <tr>\n",
       "      <th>2</th>\n",
       "      <td>10.620352</td>\n",
       "      <td>U.S.</td>\n",
       "    </tr>\n",
       "    <tr>\n",
       "      <th>3</th>\n",
       "      <td>1.247666</td>\n",
       "      <td>Indonesia</td>\n",
       "    </tr>\n",
       "    <tr>\n",
       "      <th>4</th>\n",
       "      <td>9.371702</td>\n",
       "      <td>Brazil</td>\n",
       "    </tr>\n",
       "    <tr>\n",
       "      <th>...</th>\n",
       "      <td>...</td>\n",
       "      <td>...</td>\n",
       "    </tr>\n",
       "    <tr>\n",
       "      <th>177</th>\n",
       "      <td>8.108464</td>\n",
       "      <td>Liechtenstein</td>\n",
       "    </tr>\n",
       "    <tr>\n",
       "      <th>178</th>\n",
       "      <td>7.453302</td>\n",
       "      <td>Monaco</td>\n",
       "    </tr>\n",
       "    <tr>\n",
       "      <th>179</th>\n",
       "      <td>15.979317</td>\n",
       "      <td>San Marino</td>\n",
       "    </tr>\n",
       "    <tr>\n",
       "      <th>180</th>\n",
       "      <td>0.000000</td>\n",
       "      <td>Palau</td>\n",
       "    </tr>\n",
       "    <tr>\n",
       "      <th>181</th>\n",
       "      <td>3.370787</td>\n",
       "      <td>Holy See</td>\n",
       "    </tr>\n",
       "  </tbody>\n",
       "</table>\n",
       "<p>182 rows × 2 columns</p>\n",
       "</div>"
      ],
      "text/plain": [
       "     Cases_per_capita        Country\n",
       "0            0.007553          China\n",
       "1            2.345200          India\n",
       "2           10.620352           U.S.\n",
       "3            1.247666      Indonesia\n",
       "4            9.371702         Brazil\n",
       "..                ...            ...\n",
       "177          8.108464  Liechtenstein\n",
       "178          7.453302         Monaco\n",
       "179         15.979317     San Marino\n",
       "180          0.000000          Palau\n",
       "181          3.370787       Holy See\n",
       "\n",
       "[182 rows x 2 columns]"
      ]
     },
     "execution_count": 748,
     "metadata": {},
     "output_type": "execute_result"
    }
   ],
   "source": [
    "df_per_capita"
   ]
  },
  {
   "cell_type": "code",
   "execution_count": 749,
   "metadata": {
    "collapsed": true
   },
   "outputs": [
    {
     "data": {
      "text/html": [
       "<div>\n",
       "<style scoped>\n",
       "    .dataframe tbody tr th:only-of-type {\n",
       "        vertical-align: middle;\n",
       "    }\n",
       "\n",
       "    .dataframe tbody tr th {\n",
       "        vertical-align: top;\n",
       "    }\n",
       "\n",
       "    .dataframe thead th {\n",
       "        text-align: right;\n",
       "    }\n",
       "</style>\n",
       "<table border=\"1\" class=\"dataframe\">\n",
       "  <thead>\n",
       "    <tr style=\"text-align: right;\">\n",
       "      <th></th>\n",
       "      <th>Cases_per_capita</th>\n",
       "      <th>Country</th>\n",
       "    </tr>\n",
       "  </thead>\n",
       "  <tbody>\n",
       "    <tr>\n",
       "      <th>174</th>\n",
       "      <td>21.222791</td>\n",
       "      <td>Andorra</td>\n",
       "    </tr>\n",
       "    <tr>\n",
       "      <th>160</th>\n",
       "      <td>20.510979</td>\n",
       "      <td>Maldives</td>\n",
       "    </tr>\n",
       "    <tr>\n",
       "      <th>140</th>\n",
       "      <td>18.947561</td>\n",
       "      <td>Bahrain</td>\n",
       "    </tr>\n",
       "    <tr>\n",
       "      <th>171</th>\n",
       "      <td>18.517721</td>\n",
       "      <td>Seychelles</td>\n",
       "    </tr>\n",
       "    <tr>\n",
       "      <th>152</th>\n",
       "      <td>16.206946</td>\n",
       "      <td>Montenegro</td>\n",
       "    </tr>\n",
       "    <tr>\n",
       "      <th>179</th>\n",
       "      <td>15.979317</td>\n",
       "      <td>San Marino</td>\n",
       "    </tr>\n",
       "    <tr>\n",
       "      <th>80</th>\n",
       "      <td>15.850274</td>\n",
       "      <td>Czech Republic</td>\n",
       "    </tr>\n",
       "    <tr>\n",
       "      <th>154</th>\n",
       "      <td>12.625171</td>\n",
       "      <td>Luxembourg</td>\n",
       "    </tr>\n",
       "    <tr>\n",
       "      <th>136</th>\n",
       "      <td>12.425623</td>\n",
       "      <td>TFYR Macedonia</td>\n",
       "    </tr>\n",
       "    <tr>\n",
       "      <th>83</th>\n",
       "      <td>11.075866</td>\n",
       "      <td>Sweden</td>\n",
       "    </tr>\n",
       "  </tbody>\n",
       "</table>\n",
       "</div>"
      ],
      "text/plain": [
       "     Cases_per_capita         Country\n",
       "174         21.222791         Andorra\n",
       "160         20.510979        Maldives\n",
       "140         18.947561         Bahrain\n",
       "171         18.517721      Seychelles\n",
       "152         16.206946      Montenegro\n",
       "179         15.979317      San Marino\n",
       "80          15.850274  Czech Republic\n",
       "154         12.625171      Luxembourg\n",
       "136         12.425623  TFYR Macedonia\n",
       "83          11.075866          Sweden"
      ]
     },
     "execution_count": 749,
     "metadata": {},
     "output_type": "execute_result"
    }
   ],
   "source": [
    "df_per_capita.nlargest(10,'Cases_per_capita')"
   ]
  },
  {
   "cell_type": "code",
   "execution_count": 750,
   "metadata": {},
   "outputs": [
    {
     "data": {
      "text/plain": [
       "Cases_per_capita    0\n",
       "Country             0\n",
       "dtype: int64"
      ]
     },
     "execution_count": 750,
     "metadata": {},
     "output_type": "execute_result"
    }
   ],
   "source": [
    "df_per_capita.isna().sum()"
   ]
  },
  {
   "cell_type": "code",
   "execution_count": 751,
   "metadata": {
    "collapsed": true
   },
   "outputs": [
    {
     "name": "stdout",
     "output_type": "stream",
     "text": [
      "     Cases_per_capita                   Country\n",
      "0           7.553e-03                     China\n",
      "1           2.345e+00                     India\n",
      "2           1.062e+01                      U.S.\n",
      "3           1.248e+00                 Indonesia\n",
      "4           9.372e+00                    Brazil\n",
      "5           5.186e-01                  Pakistan\n",
      "6           8.980e-02                   Nigeria\n",
      "7           7.347e-01                Bangladesh\n",
      "8           4.266e+00                    Russia\n",
      "9           2.143e+00                    Mexico\n",
      "10          7.088e-01                     Japan\n",
      "11          2.675e-01                  Ethiopia\n",
      "12          1.509e+00               Philippines\n",
      "13          1.296e-01                  Viet Nam\n",
      "14          2.984e-01                     Egypt\n",
      "15          4.685e+00                      Iran\n",
      "16          4.684e+00                   Germany\n",
      "17          7.039e+00                    Turkey\n",
      "18          7.956e-01                  Thailand\n",
      "19          8.850e+00                      U.K.\n",
      "20          9.419e+00                    France\n",
      "21          7.242e+00                     Italy\n",
      "22          8.949e-04                  Tanzania\n",
      "23          4.716e+00               South Korea\n",
      "24          9.695e+00                  Colombia\n",
      "25          4.125e-01                     Kenya\n",
      "26          9.541e+00                     Spain\n",
      "27          5.245e+00                   Ukraine\n",
      "28          1.105e+01                 Argentina\n",
      "29          8.808e-02                     Sudan\n",
      "30          2.236e-01                    Uganda\n",
      "31          4.070e-01                   Algeria\n",
      "32          4.115e+00                      Iraq\n",
      "33          7.475e+00                    Poland\n",
      "34          3.921e+00                    Canada\n",
      "35          1.697e+00                   Morocco\n",
      "36          4.260e-01               Afghanistan\n",
      "37          1.595e+00              Saudi Arabia\n",
      "38          6.553e+00                      Peru\n",
      "39          9.490e-01                 Venezuela\n",
      "40          3.406e+00                  Malaysia\n",
      "41          4.126e-01                Uzbekistan\n",
      "42          3.970e-01                     Nepal\n",
      "43          2.402e+00                     Ghana\n",
      "44          3.664e-01                     Yemen\n",
      "45          2.636e-02                    Angola\n",
      "46          1.651e-01                Madagascar\n",
      "47          6.147e-01               North Korea\n",
      "48          1.369e-01                 Australia\n",
      "49          3.348e-01                  Cameroon\n",
      "50          2.599e-02                     Niger\n",
      "51          1.444e+00                 Sri Lanka\n",
      "52          5.628e+00                   Romania\n",
      "53          7.072e-02              Burkina Faso\n",
      "54          1.371e-01                     Syria\n",
      "55          7.792e-02                      Mali\n",
      "56          8.802e+00                     Chile\n",
      "57          2.753e-01                    Malawi\n",
      "58          3.418e+00                Kazakhstan\n",
      "59          1.122e+00                    Zambia\n",
      "60          1.106e+01               Netherlands\n",
      "61          2.110e+00                 Guatemala\n",
      "62          2.891e+00                   Ecuador\n",
      "63          6.339e-01                  Zimbabwe\n",
      "64          4.675e-01                  Cambodia\n",
      "65          3.693e-01                   Senegal\n",
      "66          3.322e-02                      Chad\n",
      "67          1.903e-01                    Guinea\n",
      "68          8.410e-02               South Sudan\n",
      "69          5.584e-01                    Rwanda\n",
      "70          5.626e-02                   Burundi\n",
      "71          5.037e+00                   Tunisia\n",
      "72          7.325e-02                     Benin\n",
      "73          9.796e+00                   Belgium\n",
      "74          1.345e-01                   Somalia\n",
      "75          3.146e+00                      Cuba\n",
      "76          4.261e+00                   Bolivia\n",
      "77          1.821e-01                     Haiti\n",
      "78          4.453e+00                    Greece\n",
      "79          3.165e+00        Dominican Republic\n",
      "80          1.585e+01            Czech Republic\n",
      "81          9.357e+00                  Portugal\n",
      "82          3.428e+00                Azerbaijan\n",
      "83          1.108e+01                    Sweden\n",
      "84          8.269e+00                   Hungary\n",
      "85          4.682e+00                   Belarus\n",
      "86          7.196e+00      United Arab Emirates\n",
      "87          1.676e-01                Tajikistan\n",
      "88          8.214e+00                    Serbia\n",
      "89          7.652e+00                   Austria\n",
      "90          8.470e+00               Switzerland\n",
      "91          1.042e+01                    Israel\n",
      "92          3.528e+00                  Honduras\n",
      "93          2.227e-01          Papua New Guinea\n",
      "94          9.755e+00                    Jordan\n",
      "95          2.001e-01                      Togo\n",
      "96          6.022e+00                  Bulgaria\n",
      "97          7.721e-02                      Laos\n",
      "98          6.623e+00                  Paraguay\n",
      "99          9.283e-02              Sierra Leone\n",
      "100         3.799e+00                     Libya\n",
      "101         1.523e-01                 Nicaragua\n",
      "102         1.395e+00               El Salvador\n",
      "103         2.651e+00                   Lebanon\n",
      "104         9.653e+00                 Singapore\n",
      "105         1.131e+00                   Denmark\n",
      "106         5.689e+00                   Finland\n",
      "107         1.899e+00              Turkmenistan\n",
      "108         1.193e-01                   Eritrea\n",
      "109         7.225e+00                  Slovakia\n",
      "110         2.561e+00                    Norway\n",
      "111         1.402e-01  Central African Republic\n",
      "112         8.225e+00                Costa Rica\n",
      "113         6.097e+00                     Congo\n",
      "114         6.223e+00                   Ireland\n",
      "115         1.138e-01                      Oman\n",
      "116         6.063e-02                   Liberia\n",
      "117         5.356e-01               New Zealand\n",
      "118         8.509e+00                Mauritania\n",
      "119         9.394e+00                   Croatia\n",
      "120         6.318e+00                    Kuwait\n",
      "121         1.067e+01                   Moldova\n",
      "122         1.014e+01                    Panama\n",
      "123         5.175e+00                   Georgia\n",
      "124         1.004e+01    Bosnia and Herzegovina\n",
      "125         4.674e+00                   Uruguay\n",
      "126         7.516e+00                  Mongolia\n",
      "127         4.385e+00                   Armenia\n",
      "128         9.673e+00                   Albania\n",
      "129         1.848e+00                 Lithuania\n",
      "130         4.179e+00                   Jamaica\n",
      "131         3.976e+00                   Namibia\n",
      "132         9.631e+00                  Botswana\n",
      "133         5.512e-01                     Qatar\n",
      "134         3.528e-01                   Lesotho\n",
      "135         7.366e-01                    Gambia\n",
      "136         1.243e+01            TFYR Macedonia\n",
      "137         6.694e+00                  Slovenia\n",
      "138         2.229e-01                    Latvia\n",
      "139         1.313e+00             Guinea-Bissau\n",
      "140         1.895e+01                   Bahrain\n",
      "141         2.776e+00       Trinidad and Tobago\n",
      "142         1.018e+01                   Estonia\n",
      "143         3.054e-01                 Mauritius\n",
      "144         8.515e-01               Timor-Leste\n",
      "145         8.431e+00                    Cyprus\n",
      "146         1.278e+00                  Djibouti\n",
      "147         2.902e+00                      Fiji\n",
      "148         9.928e-01         Equatorial Guinea\n",
      "149         4.872e-01                   Comoros\n",
      "150         3.154e-01                    Bhutan\n",
      "151         2.871e+00                    Guyana\n",
      "152         1.621e+01                Montenegro\n",
      "153         3.299e-03           Solomon Islands\n",
      "154         1.263e+01                Luxembourg\n",
      "155         4.549e+00                  Suriname\n",
      "156         6.314e+00                Cabo Verde\n",
      "157         7.665e-02                    Brunei\n",
      "158         8.084e+00                     Malta\n",
      "159         3.640e+00                   Bahamas\n",
      "160         2.051e+01                  Maldives\n",
      "161         3.755e+00                    Belize\n",
      "162         2.257e+00                   Iceland\n",
      "163         1.527e+00                  Barbados\n",
      "164         1.448e-03                   Vanuatu\n",
      "165         1.225e+00     Sao Tome and Principe\n",
      "166         1.533e-03                     Samoa\n",
      "167         2.949e+00               Saint Lucia\n",
      "168         1.718e-03                  Kiribati\n",
      "169         1.521e-01                   Grenada\n",
      "170         9.473e-04                Micronesia\n",
      "171         1.852e+01                Seychelles\n",
      "172         1.375e+00       Antigua and Barbuda\n",
      "173         2.863e-01                  Dominica\n",
      "174         2.122e+01                   Andorra\n",
      "175         1.025e+00     Saint Kitts and Nevis\n",
      "176         7.528e-03          Marshall Islands\n",
      "177         8.108e+00             Liechtenstein\n",
      "178         7.453e+00                    Monaco\n",
      "179         1.598e+01                San Marino\n",
      "180         0.000e+00                     Palau\n",
      "181         3.371e+00                  Holy See\n"
     ]
    }
   ],
   "source": [
    "with pd.option_context('display.max_rows', None,\n",
    "                       'display.max_columns', None,\n",
    "                       'display.precision', 3,\n",
    "                       ):\n",
    "    print(df_per_capita)"
   ]
  },
  {
   "cell_type": "markdown",
   "metadata": {},
   "source": [
    "# 8"
   ]
  },
  {
   "cell_type": "code",
   "execution_count": 752,
   "metadata": {},
   "outputs": [],
   "source": [
    "# In this part we would like to test the hypothesis that the spread of the virus is slowed\n",
    "# down by warm weather. Plot a graph of the monthly number of confirmed cases vs. the\n",
    "# average monthly temperature for a few selected countries, and analyze the correlation\n",
    "# between these two factors. You may use the file climate.json which contains monthly\n",
    "# climate date from over 100 stations around the world, or you can use your own data\n",
    "# sources."
   ]
  },
  {
   "cell_type": "code",
   "execution_count": 790,
   "metadata": {
    "collapsed": true
   },
   "outputs": [
    {
     "name": "stdout",
     "output_type": "stream",
     "text": [
      "      id            city        country  \\\n",
      "0      1       Amsterdam    Netherlands   \n",
      "1      2          Athens         Greece   \n",
      "2      3      Atlanta GA  United States   \n",
      "3      4        Auckland    New Zealand   \n",
      "4      5       Austin TX  United States   \n",
      "..   ...             ...            ...   \n",
      "100  101  Albuquerque NM  United States   \n",
      "101  102      Vermont IL  United States   \n",
      "102  103    Nashville TE  United States   \n",
      "103  104    St. Louis MO  United States   \n",
      "104  105  Minneapolis MN  United States   \n",
      "\n",
      "                                            monthlyAvg  \n",
      "0    [{'high': 7, 'low': 3, 'dryDays': 19, 'snowDay...  \n",
      "1    [{'high': 12, 'low': 7, 'dryDays': 21, 'snowDa...  \n",
      "2    [{'high': 12, 'low': 2, 'dryDays': 18, 'snowDa...  \n",
      "3    [{'high': 23, 'low': 16, 'dryDays': 24, 'snowD...  \n",
      "4    [{'high': 18, 'low': 6, 'dryDays': 15, 'snowDa...  \n",
      "..                                                 ...  \n",
      "100  [{'high': 10, 'low': -4, 'dryDays': 24, 'snowD...  \n",
      "101  [{'high': 3, 'low': -8, 'dryDays': 18, 'snowDa...  \n",
      "102  [{'high': 9, 'low': -1, 'dryDays': 18, 'snowDa...  \n",
      "103  [{'high': 7, 'low': -4, 'dryDays': 16, 'snowDa...  \n",
      "104  [{'high': -3, 'low': -13, 'dryDays': 20, 'snow...  \n",
      "\n",
      "[105 rows x 4 columns]\n"
     ]
    }
   ],
   "source": [
    "climate1=pd.read_json('climate.json')\n",
    "print(climate1)"
   ]
  },
  {
   "cell_type": "code",
   "execution_count": 803,
   "metadata": {},
   "outputs": [],
   "source": [
    "\n",
    "import json\n",
    "with open('climate.json') as file:\n",
    "    data=json.load(file)"
   ]
  },
  {
   "cell_type": "code",
   "execution_count": 804,
   "metadata": {},
   "outputs": [
    {
     "name": "stdout",
     "output_type": "stream",
     "text": [
      "      high  low  dryDays  snowDays  rainfall Country/Region\n",
      "0        7    3       19       4.0      68.0    Netherlands\n",
      "1        6    3       13       2.0      47.0    Netherlands\n",
      "2       10    6       16       1.0      65.0    Netherlands\n",
      "3       11    7       12       0.0      52.0    Netherlands\n",
      "4       16   11       15       0.0      59.0    Netherlands\n",
      "...    ...  ...      ...       ...       ...            ...\n",
      "1255    28   16       17       0.0     111.7  United States\n",
      "1256    24   11       16       0.0      82.1  United States\n",
      "1257    16    4       18       2.0      58.7  United States\n",
      "1258     6   -3       19      10.0      43.4  United States\n",
      "1259    -1  -11       19      16.0      21.8  United States\n",
      "\n",
      "[1260 rows x 6 columns]\n"
     ]
    }
   ],
   "source": [
    "from pandas.io.json import json_normalize\n",
    "climate=json_normalize(data, 'monthlyAvg', ['country'], errors='ignore')\n",
    "climate.columns=['high','low',\"dryDays\",\"snowDays\",'rainfall', 'Country/Region']\n",
    "print(climate)"
   ]
  },
  {
   "cell_type": "code",
   "execution_count": 805,
   "metadata": {},
   "outputs": [
    {
     "data": {
      "text/html": [
       "<div>\n",
       "<style scoped>\n",
       "    .dataframe tbody tr th:only-of-type {\n",
       "        vertical-align: middle;\n",
       "    }\n",
       "\n",
       "    .dataframe tbody tr th {\n",
       "        vertical-align: top;\n",
       "    }\n",
       "\n",
       "    .dataframe thead th {\n",
       "        text-align: right;\n",
       "    }\n",
       "</style>\n",
       "<table border=\"1\" class=\"dataframe\">\n",
       "  <thead>\n",
       "    <tr style=\"text-align: right;\">\n",
       "      <th></th>\n",
       "      <th>high</th>\n",
       "      <th>low</th>\n",
       "      <th>dryDays</th>\n",
       "      <th>snowDays</th>\n",
       "      <th>rainfall</th>\n",
       "      <th>Country/Region</th>\n",
       "    </tr>\n",
       "  </thead>\n",
       "  <tbody>\n",
       "    <tr>\n",
       "      <th>0</th>\n",
       "      <td>7</td>\n",
       "      <td>3</td>\n",
       "      <td>19</td>\n",
       "      <td>4.0</td>\n",
       "      <td>68.0</td>\n",
       "      <td>Netherlands</td>\n",
       "    </tr>\n",
       "    <tr>\n",
       "      <th>1</th>\n",
       "      <td>6</td>\n",
       "      <td>3</td>\n",
       "      <td>13</td>\n",
       "      <td>2.0</td>\n",
       "      <td>47.0</td>\n",
       "      <td>Netherlands</td>\n",
       "    </tr>\n",
       "    <tr>\n",
       "      <th>2</th>\n",
       "      <td>10</td>\n",
       "      <td>6</td>\n",
       "      <td>16</td>\n",
       "      <td>1.0</td>\n",
       "      <td>65.0</td>\n",
       "      <td>Netherlands</td>\n",
       "    </tr>\n",
       "    <tr>\n",
       "      <th>3</th>\n",
       "      <td>11</td>\n",
       "      <td>7</td>\n",
       "      <td>12</td>\n",
       "      <td>0.0</td>\n",
       "      <td>52.0</td>\n",
       "      <td>Netherlands</td>\n",
       "    </tr>\n",
       "    <tr>\n",
       "      <th>4</th>\n",
       "      <td>16</td>\n",
       "      <td>11</td>\n",
       "      <td>15</td>\n",
       "      <td>0.0</td>\n",
       "      <td>59.0</td>\n",
       "      <td>Netherlands</td>\n",
       "    </tr>\n",
       "    <tr>\n",
       "      <th>...</th>\n",
       "      <td>...</td>\n",
       "      <td>...</td>\n",
       "      <td>...</td>\n",
       "      <td>...</td>\n",
       "      <td>...</td>\n",
       "      <td>...</td>\n",
       "    </tr>\n",
       "    <tr>\n",
       "      <th>1255</th>\n",
       "      <td>28</td>\n",
       "      <td>16</td>\n",
       "      <td>17</td>\n",
       "      <td>0.0</td>\n",
       "      <td>111.7</td>\n",
       "      <td>United States</td>\n",
       "    </tr>\n",
       "    <tr>\n",
       "      <th>1256</th>\n",
       "      <td>24</td>\n",
       "      <td>11</td>\n",
       "      <td>16</td>\n",
       "      <td>0.0</td>\n",
       "      <td>82.1</td>\n",
       "      <td>United States</td>\n",
       "    </tr>\n",
       "    <tr>\n",
       "      <th>1257</th>\n",
       "      <td>16</td>\n",
       "      <td>4</td>\n",
       "      <td>18</td>\n",
       "      <td>2.0</td>\n",
       "      <td>58.7</td>\n",
       "      <td>United States</td>\n",
       "    </tr>\n",
       "    <tr>\n",
       "      <th>1258</th>\n",
       "      <td>6</td>\n",
       "      <td>-3</td>\n",
       "      <td>19</td>\n",
       "      <td>10.0</td>\n",
       "      <td>43.4</td>\n",
       "      <td>United States</td>\n",
       "    </tr>\n",
       "    <tr>\n",
       "      <th>1259</th>\n",
       "      <td>-1</td>\n",
       "      <td>-11</td>\n",
       "      <td>19</td>\n",
       "      <td>16.0</td>\n",
       "      <td>21.8</td>\n",
       "      <td>United States</td>\n",
       "    </tr>\n",
       "  </tbody>\n",
       "</table>\n",
       "<p>1260 rows × 6 columns</p>\n",
       "</div>"
      ],
      "text/plain": [
       "      high  low  dryDays  snowDays  rainfall Country/Region\n",
       "0        7    3       19       4.0      68.0    Netherlands\n",
       "1        6    3       13       2.0      47.0    Netherlands\n",
       "2       10    6       16       1.0      65.0    Netherlands\n",
       "3       11    7       12       0.0      52.0    Netherlands\n",
       "4       16   11       15       0.0      59.0    Netherlands\n",
       "...    ...  ...      ...       ...       ...            ...\n",
       "1255    28   16       17       0.0     111.7  United States\n",
       "1256    24   11       16       0.0      82.1  United States\n",
       "1257    16    4       18       2.0      58.7  United States\n",
       "1258     6   -3       19      10.0      43.4  United States\n",
       "1259    -1  -11       19      16.0      21.8  United States\n",
       "\n",
       "[1260 rows x 6 columns]"
      ]
     },
     "execution_count": 805,
     "metadata": {},
     "output_type": "execute_result"
    }
   ],
   "source": [
    "pd.DataFrame(climate)"
   ]
  },
  {
   "cell_type": "code",
   "execution_count": 777,
   "metadata": {
    "collapsed": true
   },
   "outputs": [
    {
     "name": "stderr",
     "output_type": "stream",
     "text": [
      "C:\\ProgramData\\Anaconda3\\lib\\site-packages\\ipykernel_launcher.py:4: SettingWithCopyWarning: \n",
      "A value is trying to be set on a copy of a slice from a DataFrame.\n",
      "Try using .loc[row_indexer,col_indexer] = value instead\n",
      "\n",
      "See the caveats in the documentation: http://pandas.pydata.org/pandas-docs/stable/user_guide/indexing.html#returning-a-view-versus-a-copy\n",
      "  after removing the cwd from sys.path.\n"
     ]
    },
    {
     "name": "stdout",
     "output_type": "stream",
     "text": [
      "[1982401.5833333333, 2310157.0833333335, 3016403.9166666665, 268352.8333333333, 589714.9166666666, 18320.916666666668, 64085770.25, 4671240.916666667, 942303.6666666666, 11416501.25, 6046556.25, 241944.25, 4137872.25, 18175219.166666668, 60178.416666666664, 7541085.666666667, 20354599.833333332, 266416.75, 154708.75, 26705.083333333332, 7266628.0, 3629291.5, 866661.0, 312775939.0, 7272.583333333333, 6818599.833333333, 254886.66666666666, 3203545.5, 68216.08333333333, 490043.0, 333799.75, 1348329.0833333333, 23247077.416666668, 183697.33333333334, 98398.0, 27087270.166666668, 4143917.4166666665, 63718783.333333336, 68026.91666666667, 253093.5, 713451.3333333334, 5767391.5, 1012917.4166666666, 6009744.333333333, 1973383.5, 1045795.3333333334, 0.0, 5041025.666666667, 31387.666666666668, 256901.25, 3571.0833333333335, 6357824.333333333, 8508931.083333334, 5570073.75, 1612909.75, 203636.25, 71728.58333333333, 1808251.0833333333, 382181.5833333333, 4827523.333333333, 39833.666666666664, 1574432.1666666667, 100538597.66666667, 477977.9166666667, 135764.66666666666, 6108486.583333333, 62347867.0, 2214133.3333333335, 5864083.75, 3368.5, 5222756.166666667, 524485.0833333334, 100696.16666666667, 271270.4166666667, 383301.75, 839.3333333333334, 4739717.083333333, 12280244.416666666, 177600.91666666666, 419841704.0833333, 33629245.166666664, 49625791.833333336, 22397833.666666668, 4956612.833333333, 16996807.166666668, 74370870.75, 731874.6666666666, 11468429.083333334, 11284026.5, 8327763.0, 3227761.8333333335, 11.75, 2539917.5833333335, 1861327.5833333333, 6213309.0, 2526554.8333333335, 17984.5, 1956564.8333333333, 8720742.833333334, 199780.66666666666, 67454.83333333333, 3459404.0, 56928.5, 4420624.083333333, 1369595.3333333333, 363.6666666666667, 759061.9166666666, 627146.6666666666, 8298774.583333333, 821725.5833333334, 261543.25, 535819.9166666666, 87.0, 447847.3333333333, 29985.416666666668, 51084114.916666664, 15.75, 4859513.583333333, 43366.666666666664, 754130.25, 1750591.5, 11403962.0, 1245545.1666666667, 1092646.9166666667, 8768314.25, 28292524.166666668, 83455.33333333333, 201681.75, 114755.75, 3624502.6666666665, 0.0, 2094936.9166666667, 4871466.583333333, 18617357.416666668, 0.0, 8136969.833333333, 158814.75, 5259096.0, 40308476.5, 20704590.583333332, 46118357.583333336, 16271569.583333334, 5508029.083333333, 19826104.083333332, 104912873.83333333, 518452.5, 2796.4166666666665, 68407.83333333333, 30101.583333333332, 55.083333333333336, 96461.25, 51129.166666666664, 12683796.083333334, 885966.0833333334, 11551917.25, 126235.75, 110457.25, 2103295.5833333335, 6606259.166666667, 4246744.833333333, 418.1666666666667, 259007.58333333334, 38777686.75, 199810.58333333334, 73543128.25, 2560624.4166666665, 818621.0, 99.0, 283754.5, 17286022.0, 13176806.666666666, 417912.9166666667, 0.0, 400666.0833333333, 19635.083333333332, 2023817.8333333333, 60513.833333333336, 211227.33333333334, 336140.3333333333, 5927743.083333333, 78682050.41666667, 0.0, 1043604.3333333334, 37399020.166666664, 10110008.916666666, 0.0, 3206838.6666666665, 2404905.0833333335, 53.833333333333336, 4345328.083333333, 0.0, 5051522.583333333, 114690.5, 1859960.25, 830514.8333333334]\n"
     ]
    }
   ],
   "source": [
    "monthly_confirmed=[]\n",
    "for i in df_1['Country/Region']:\n",
    "    df_us = df[df['Country/Region'] == i]\n",
    "    df_us['Date'] = pd.to_datetime(df['Date'])\n",
    "    df_us=df_us.groupby(df_us['Date'].dt.strftime('%B'))['Confirmed'].sum().sort_values()\n",
    "#     print(df_us)\n",
    "    x=df_us.mean()\n",
    "    monthly_confirmed.append(x)\n",
    "print(monthly_confirmed)"
   ]
  },
  {
   "cell_type": "code",
   "execution_count": 779,
   "metadata": {
    "collapsed": true
   },
   "outputs": [
    {
     "name": "stdout",
     "output_type": "stream",
     "text": [
      "                Country  average_monthly_confirmed\n",
      "0           Afghanistan               1.982402e+06\n",
      "1               Albania               2.310157e+06\n",
      "2               Algeria               3.016404e+06\n",
      "3               Andorra               2.683528e+05\n",
      "4                Angola               5.897149e+05\n",
      "..                  ...                        ...\n",
      "190            Viet Nam               0.000000e+00\n",
      "191  West Bank and Gaza               5.051523e+06\n",
      "192               Yemen               1.146905e+05\n",
      "193              Zambia               1.859960e+06\n",
      "194            Zimbabwe               8.305148e+05\n",
      "\n",
      "[195 rows x 2 columns]\n"
     ]
    }
   ],
   "source": [
    "df_climate=pd.DataFrame()\n",
    "df_climate['Country']=df_1['Country/Region']\n",
    "df_climate['average_monthly_confirmed']=monthly_confirmed\n",
    "print(df_climate)"
   ]
  },
  {
   "cell_type": "code",
   "execution_count": 800,
   "metadata": {},
   "outputs": [
    {
     "ename": "KeyError",
     "evalue": "'Country/Region'",
     "output_type": "error",
     "traceback": [
      "\u001b[1;31m---------------------------------------------------------------------------\u001b[0m",
      "\u001b[1;31mTypeError\u001b[0m                                 Traceback (most recent call last)",
      "\u001b[1;32mC:\\ProgramData\\Anaconda3\\lib\\site-packages\\pandas\\core\\indexes\\base.py\u001b[0m in \u001b[0;36mget_value\u001b[1;34m(self, series, key)\u001b[0m\n\u001b[0;32m   4735\u001b[0m             \u001b[1;32mtry\u001b[0m\u001b[1;33m:\u001b[0m\u001b[1;33m\u001b[0m\u001b[1;33m\u001b[0m\u001b[0m\n\u001b[1;32m-> 4736\u001b[1;33m                 \u001b[1;32mreturn\u001b[0m \u001b[0mlibindex\u001b[0m\u001b[1;33m.\u001b[0m\u001b[0mget_value_box\u001b[0m\u001b[1;33m(\u001b[0m\u001b[0ms\u001b[0m\u001b[1;33m,\u001b[0m \u001b[0mkey\u001b[0m\u001b[1;33m)\u001b[0m\u001b[1;33m\u001b[0m\u001b[1;33m\u001b[0m\u001b[0m\n\u001b[0m\u001b[0;32m   4737\u001b[0m             \u001b[1;32mexcept\u001b[0m \u001b[0mIndexError\u001b[0m\u001b[1;33m:\u001b[0m\u001b[1;33m\u001b[0m\u001b[1;33m\u001b[0m\u001b[0m\n",
      "\u001b[1;32mpandas/_libs/index.pyx\u001b[0m in \u001b[0;36mpandas._libs.index.get_value_box\u001b[1;34m()\u001b[0m\n",
      "\u001b[1;32mpandas/_libs/index.pyx\u001b[0m in \u001b[0;36mpandas._libs.index.get_value_at\u001b[1;34m()\u001b[0m\n",
      "\u001b[1;32mpandas/_libs/util.pxd\u001b[0m in \u001b[0;36mpandas._libs.util.get_value_at\u001b[1;34m()\u001b[0m\n",
      "\u001b[1;32mpandas/_libs/util.pxd\u001b[0m in \u001b[0;36mpandas._libs.util.validate_indexer\u001b[1;34m()\u001b[0m\n",
      "\u001b[1;31mTypeError\u001b[0m: 'str' object cannot be interpreted as an integer",
      "\nDuring handling of the above exception, another exception occurred:\n",
      "\u001b[1;31mKeyError\u001b[0m                                  Traceback (most recent call last)",
      "\u001b[1;32m<ipython-input-800-57587cb64707>\u001b[0m in \u001b[0;36m<module>\u001b[1;34m\u001b[0m\n\u001b[0;32m      1\u001b[0m \u001b[0maverage_high_temp\u001b[0m\u001b[1;33m=\u001b[0m\u001b[1;33m[\u001b[0m\u001b[1;33m]\u001b[0m\u001b[1;33m\u001b[0m\u001b[1;33m\u001b[0m\u001b[0m\n\u001b[1;32m----> 2\u001b[1;33m \u001b[1;32mfor\u001b[0m \u001b[0mj\u001b[0m \u001b[1;32min\u001b[0m \u001b[0mclimate\u001b[0m\u001b[1;33m[\u001b[0m\u001b[1;34m'Country/Region'\u001b[0m\u001b[1;33m]\u001b[0m\u001b[1;33m:\u001b[0m\u001b[1;33m\u001b[0m\u001b[1;33m\u001b[0m\u001b[0m\n\u001b[0m\u001b[0;32m      3\u001b[0m     \u001b[0mclimate\u001b[0m \u001b[1;33m=\u001b[0m \u001b[0mclimate\u001b[0m\u001b[1;33m[\u001b[0m\u001b[0mclimate\u001b[0m\u001b[1;33m[\u001b[0m\u001b[1;34m'Country/Region'\u001b[0m\u001b[1;33m]\u001b[0m \u001b[1;33m==\u001b[0m \u001b[0mi\u001b[0m\u001b[1;33m]\u001b[0m\u001b[1;33m\u001b[0m\u001b[1;33m\u001b[0m\u001b[0m\n\u001b[0;32m      4\u001b[0m     \u001b[0mclimate\u001b[0m\u001b[1;33m=\u001b[0m\u001b[0mclimate\u001b[0m\u001b[1;33m.\u001b[0m\u001b[0mgroupby\u001b[0m\u001b[1;33m(\u001b[0m\u001b[1;34m'Country/Region'\u001b[0m\u001b[1;33m)\u001b[0m\u001b[1;33m[\u001b[0m\u001b[1;34m'high'\u001b[0m\u001b[1;33m]\u001b[0m\u001b[1;33m.\u001b[0m\u001b[0msum\u001b[0m\u001b[1;33m(\u001b[0m\u001b[1;33m)\u001b[0m\u001b[1;33m.\u001b[0m\u001b[0msort_values\u001b[0m\u001b[1;33m(\u001b[0m\u001b[1;33m)\u001b[0m\u001b[1;33m\u001b[0m\u001b[1;33m\u001b[0m\u001b[0m\n\u001b[0;32m      5\u001b[0m \u001b[1;31m#     print(df_us)\u001b[0m\u001b[1;33m\u001b[0m\u001b[1;33m\u001b[0m\u001b[1;33m\u001b[0m\u001b[0m\n",
      "\u001b[1;32mC:\\ProgramData\\Anaconda3\\lib\\site-packages\\pandas\\core\\series.py\u001b[0m in \u001b[0;36m__getitem__\u001b[1;34m(self, key)\u001b[0m\n\u001b[0;32m   1069\u001b[0m         \u001b[0mkey\u001b[0m \u001b[1;33m=\u001b[0m \u001b[0mcom\u001b[0m\u001b[1;33m.\u001b[0m\u001b[0mapply_if_callable\u001b[0m\u001b[1;33m(\u001b[0m\u001b[0mkey\u001b[0m\u001b[1;33m,\u001b[0m \u001b[0mself\u001b[0m\u001b[1;33m)\u001b[0m\u001b[1;33m\u001b[0m\u001b[1;33m\u001b[0m\u001b[0m\n\u001b[0;32m   1070\u001b[0m         \u001b[1;32mtry\u001b[0m\u001b[1;33m:\u001b[0m\u001b[1;33m\u001b[0m\u001b[1;33m\u001b[0m\u001b[0m\n\u001b[1;32m-> 1071\u001b[1;33m             \u001b[0mresult\u001b[0m \u001b[1;33m=\u001b[0m \u001b[0mself\u001b[0m\u001b[1;33m.\u001b[0m\u001b[0mindex\u001b[0m\u001b[1;33m.\u001b[0m\u001b[0mget_value\u001b[0m\u001b[1;33m(\u001b[0m\u001b[0mself\u001b[0m\u001b[1;33m,\u001b[0m \u001b[0mkey\u001b[0m\u001b[1;33m)\u001b[0m\u001b[1;33m\u001b[0m\u001b[1;33m\u001b[0m\u001b[0m\n\u001b[0m\u001b[0;32m   1072\u001b[0m \u001b[1;33m\u001b[0m\u001b[0m\n\u001b[0;32m   1073\u001b[0m             \u001b[1;32mif\u001b[0m \u001b[1;32mnot\u001b[0m \u001b[0mis_scalar\u001b[0m\u001b[1;33m(\u001b[0m\u001b[0mresult\u001b[0m\u001b[1;33m)\u001b[0m\u001b[1;33m:\u001b[0m\u001b[1;33m\u001b[0m\u001b[1;33m\u001b[0m\u001b[0m\n",
      "\u001b[1;32mC:\\ProgramData\\Anaconda3\\lib\\site-packages\\pandas\\core\\indexes\\base.py\u001b[0m in \u001b[0;36mget_value\u001b[1;34m(self, series, key)\u001b[0m\n\u001b[0;32m   4742\u001b[0m                     \u001b[1;32mraise\u001b[0m \u001b[0mInvalidIndexError\u001b[0m\u001b[1;33m(\u001b[0m\u001b[0mkey\u001b[0m\u001b[1;33m)\u001b[0m\u001b[1;33m\u001b[0m\u001b[1;33m\u001b[0m\u001b[0m\n\u001b[0;32m   4743\u001b[0m                 \u001b[1;32melse\u001b[0m\u001b[1;33m:\u001b[0m\u001b[1;33m\u001b[0m\u001b[1;33m\u001b[0m\u001b[0m\n\u001b[1;32m-> 4744\u001b[1;33m                     \u001b[1;32mraise\u001b[0m \u001b[0me1\u001b[0m\u001b[1;33m\u001b[0m\u001b[1;33m\u001b[0m\u001b[0m\n\u001b[0m\u001b[0;32m   4745\u001b[0m             \u001b[1;32mexcept\u001b[0m \u001b[0mException\u001b[0m\u001b[1;33m:\u001b[0m  \u001b[1;31m# pragma: no cover\u001b[0m\u001b[1;33m\u001b[0m\u001b[1;33m\u001b[0m\u001b[0m\n\u001b[0;32m   4746\u001b[0m                 \u001b[1;32mraise\u001b[0m \u001b[0me1\u001b[0m\u001b[1;33m\u001b[0m\u001b[1;33m\u001b[0m\u001b[0m\n",
      "\u001b[1;32mC:\\ProgramData\\Anaconda3\\lib\\site-packages\\pandas\\core\\indexes\\base.py\u001b[0m in \u001b[0;36mget_value\u001b[1;34m(self, series, key)\u001b[0m\n\u001b[0;32m   4728\u001b[0m         \u001b[0mk\u001b[0m \u001b[1;33m=\u001b[0m \u001b[0mself\u001b[0m\u001b[1;33m.\u001b[0m\u001b[0m_convert_scalar_indexer\u001b[0m\u001b[1;33m(\u001b[0m\u001b[0mk\u001b[0m\u001b[1;33m,\u001b[0m \u001b[0mkind\u001b[0m\u001b[1;33m=\u001b[0m\u001b[1;34m\"getitem\"\u001b[0m\u001b[1;33m)\u001b[0m\u001b[1;33m\u001b[0m\u001b[1;33m\u001b[0m\u001b[0m\n\u001b[0;32m   4729\u001b[0m         \u001b[1;32mtry\u001b[0m\u001b[1;33m:\u001b[0m\u001b[1;33m\u001b[0m\u001b[1;33m\u001b[0m\u001b[0m\n\u001b[1;32m-> 4730\u001b[1;33m             \u001b[1;32mreturn\u001b[0m \u001b[0mself\u001b[0m\u001b[1;33m.\u001b[0m\u001b[0m_engine\u001b[0m\u001b[1;33m.\u001b[0m\u001b[0mget_value\u001b[0m\u001b[1;33m(\u001b[0m\u001b[0ms\u001b[0m\u001b[1;33m,\u001b[0m \u001b[0mk\u001b[0m\u001b[1;33m,\u001b[0m \u001b[0mtz\u001b[0m\u001b[1;33m=\u001b[0m\u001b[0mgetattr\u001b[0m\u001b[1;33m(\u001b[0m\u001b[0mseries\u001b[0m\u001b[1;33m.\u001b[0m\u001b[0mdtype\u001b[0m\u001b[1;33m,\u001b[0m \u001b[1;34m\"tz\"\u001b[0m\u001b[1;33m,\u001b[0m \u001b[1;32mNone\u001b[0m\u001b[1;33m)\u001b[0m\u001b[1;33m)\u001b[0m\u001b[1;33m\u001b[0m\u001b[1;33m\u001b[0m\u001b[0m\n\u001b[0m\u001b[0;32m   4731\u001b[0m         \u001b[1;32mexcept\u001b[0m \u001b[0mKeyError\u001b[0m \u001b[1;32mas\u001b[0m \u001b[0me1\u001b[0m\u001b[1;33m:\u001b[0m\u001b[1;33m\u001b[0m\u001b[1;33m\u001b[0m\u001b[0m\n\u001b[0;32m   4732\u001b[0m             \u001b[1;32mif\u001b[0m \u001b[0mlen\u001b[0m\u001b[1;33m(\u001b[0m\u001b[0mself\u001b[0m\u001b[1;33m)\u001b[0m \u001b[1;33m>\u001b[0m \u001b[1;36m0\u001b[0m \u001b[1;32mand\u001b[0m \u001b[1;33m(\u001b[0m\u001b[0mself\u001b[0m\u001b[1;33m.\u001b[0m\u001b[0mholds_integer\u001b[0m\u001b[1;33m(\u001b[0m\u001b[1;33m)\u001b[0m \u001b[1;32mor\u001b[0m \u001b[0mself\u001b[0m\u001b[1;33m.\u001b[0m\u001b[0mis_boolean\u001b[0m\u001b[1;33m(\u001b[0m\u001b[1;33m)\u001b[0m\u001b[1;33m)\u001b[0m\u001b[1;33m:\u001b[0m\u001b[1;33m\u001b[0m\u001b[1;33m\u001b[0m\u001b[0m\n",
      "\u001b[1;32mpandas/_libs/index.pyx\u001b[0m in \u001b[0;36mpandas._libs.index.IndexEngine.get_value\u001b[1;34m()\u001b[0m\n",
      "\u001b[1;32mpandas/_libs/index.pyx\u001b[0m in \u001b[0;36mpandas._libs.index.IndexEngine.get_value\u001b[1;34m()\u001b[0m\n",
      "\u001b[1;32mpandas/_libs/index.pyx\u001b[0m in \u001b[0;36mpandas._libs.index.IndexEngine.get_loc\u001b[1;34m()\u001b[0m\n",
      "\u001b[1;32mpandas/_libs/hashtable_class_helper.pxi\u001b[0m in \u001b[0;36mpandas._libs.hashtable.PyObjectHashTable.get_item\u001b[1;34m()\u001b[0m\n",
      "\u001b[1;32mpandas/_libs/hashtable_class_helper.pxi\u001b[0m in \u001b[0;36mpandas._libs.hashtable.PyObjectHashTable.get_item\u001b[1;34m()\u001b[0m\n",
      "\u001b[1;31mKeyError\u001b[0m: 'Country/Region'"
     ]
    }
   ],
   "source": [
    "average_high_temp=[]\n",
    "for j in climate['Country/Region']:\n",
    "    climate = climate[climate['Country/Region'] == i]\n",
    "    climate=climate.groupby('Country/Region')['high'].sum().sort_values()\n",
    "#     print(df_us)\n",
    "    y=climate[['high']].mean(axis=1)\n",
    "    average_high_temp.append(x)\n",
    "print(average_high_temp)"
   ]
  },
  {
   "cell_type": "code",
   "execution_count": null,
   "metadata": {},
   "outputs": [],
   "source": []
  }
 ],
 "metadata": {
  "kernelspec": {
   "display_name": "Python 3",
   "language": "python",
   "name": "python3"
  },
  "language_info": {
   "codemirror_mode": {
    "name": "ipython",
    "version": 3
   },
   "file_extension": ".py",
   "mimetype": "text/x-python",
   "name": "python",
   "nbconvert_exporter": "python",
   "pygments_lexer": "ipython3",
   "version": "3.7.5"
  }
 },
 "nbformat": 4,
 "nbformat_minor": 2
}
