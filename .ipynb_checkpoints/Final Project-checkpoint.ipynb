{
 "cells": [
  {
   "cell_type": "markdown",
   "metadata": {},
   "source": [
    "# Covid-19 Data Analysis"
   ]
  },
  {
   "cell_type": "markdown",
   "metadata": {},
   "source": [
    "# 1"
   ]
  },
  {
   "cell_type": "markdown",
   "metadata": {},
   "source": [
    "##### Download the data from the given link "
   ]
  },
  {
   "cell_type": "markdown",
   "metadata": {},
   "source": [
    "# 2"
   ]
  },
  {
   "cell_type": "markdown",
   "metadata": {},
   "source": [
    "##### Create a DataFrame from the CSV file."
   ]
  },
  {
   "cell_type": "code",
   "execution_count": 104,
   "metadata": {},
   "outputs": [],
   "source": [
    "import pandas as pd\n",
    "data = pd.read_csv(\"time-series-19-covid-combined.csv\")\n",
    "df=pd.DataFrame(data)"
   ]
  },
  {
   "cell_type": "code",
   "execution_count": 105,
   "metadata": {},
   "outputs": [
    {
     "data": {
      "text/html": [
       "<div>\n",
       "<style scoped>\n",
       "    .dataframe tbody tr th:only-of-type {\n",
       "        vertical-align: middle;\n",
       "    }\n",
       "\n",
       "    .dataframe tbody tr th {\n",
       "        vertical-align: top;\n",
       "    }\n",
       "\n",
       "    .dataframe thead th {\n",
       "        text-align: right;\n",
       "    }\n",
       "</style>\n",
       "<table border=\"1\" class=\"dataframe\">\n",
       "  <thead>\n",
       "    <tr style=\"text-align: right;\">\n",
       "      <th></th>\n",
       "      <th>Date</th>\n",
       "      <th>Country/Region</th>\n",
       "      <th>Province/State</th>\n",
       "      <th>Confirmed</th>\n",
       "      <th>Recovered</th>\n",
       "      <th>Deaths</th>\n",
       "    </tr>\n",
       "  </thead>\n",
       "  <tbody>\n",
       "    <tr>\n",
       "      <th>0</th>\n",
       "      <td>2020-01-22</td>\n",
       "      <td>Afghanistan</td>\n",
       "      <td>NaN</td>\n",
       "      <td>0</td>\n",
       "      <td>0.0</td>\n",
       "      <td>0</td>\n",
       "    </tr>\n",
       "    <tr>\n",
       "      <th>1</th>\n",
       "      <td>2020-01-23</td>\n",
       "      <td>Afghanistan</td>\n",
       "      <td>NaN</td>\n",
       "      <td>0</td>\n",
       "      <td>0.0</td>\n",
       "      <td>0</td>\n",
       "    </tr>\n",
       "    <tr>\n",
       "      <th>2</th>\n",
       "      <td>2020-01-24</td>\n",
       "      <td>Afghanistan</td>\n",
       "      <td>NaN</td>\n",
       "      <td>0</td>\n",
       "      <td>0.0</td>\n",
       "      <td>0</td>\n",
       "    </tr>\n",
       "    <tr>\n",
       "      <th>3</th>\n",
       "      <td>2020-01-25</td>\n",
       "      <td>Afghanistan</td>\n",
       "      <td>NaN</td>\n",
       "      <td>0</td>\n",
       "      <td>0.0</td>\n",
       "      <td>0</td>\n",
       "    </tr>\n",
       "    <tr>\n",
       "      <th>4</th>\n",
       "      <td>2020-01-26</td>\n",
       "      <td>Afghanistan</td>\n",
       "      <td>NaN</td>\n",
       "      <td>0</td>\n",
       "      <td>0.0</td>\n",
       "      <td>0</td>\n",
       "    </tr>\n",
       "    <tr>\n",
       "      <th>...</th>\n",
       "      <td>...</td>\n",
       "      <td>...</td>\n",
       "      <td>...</td>\n",
       "      <td>...</td>\n",
       "      <td>...</td>\n",
       "      <td>...</td>\n",
       "    </tr>\n",
       "    <tr>\n",
       "      <th>154561</th>\n",
       "      <td>2021-07-24</td>\n",
       "      <td>Zimbabwe</td>\n",
       "      <td>NaN</td>\n",
       "      <td>97277</td>\n",
       "      <td>64628.0</td>\n",
       "      <td>3050</td>\n",
       "    </tr>\n",
       "    <tr>\n",
       "      <th>154562</th>\n",
       "      <td>2021-07-25</td>\n",
       "      <td>Zimbabwe</td>\n",
       "      <td>NaN</td>\n",
       "      <td>97894</td>\n",
       "      <td>65913.0</td>\n",
       "      <td>3094</td>\n",
       "    </tr>\n",
       "    <tr>\n",
       "      <th>154563</th>\n",
       "      <td>2021-07-26</td>\n",
       "      <td>Zimbabwe</td>\n",
       "      <td>NaN</td>\n",
       "      <td>99944</td>\n",
       "      <td>67827.0</td>\n",
       "      <td>3173</td>\n",
       "    </tr>\n",
       "    <tr>\n",
       "      <th>154564</th>\n",
       "      <td>2021-07-27</td>\n",
       "      <td>Zimbabwe</td>\n",
       "      <td>NaN</td>\n",
       "      <td>101711</td>\n",
       "      <td>70496.0</td>\n",
       "      <td>3280</td>\n",
       "    </tr>\n",
       "    <tr>\n",
       "      <th>154565</th>\n",
       "      <td>2021-07-28</td>\n",
       "      <td>Zimbabwe</td>\n",
       "      <td>NaN</td>\n",
       "      <td>103567</td>\n",
       "      <td>71383.0</td>\n",
       "      <td>3340</td>\n",
       "    </tr>\n",
       "  </tbody>\n",
       "</table>\n",
       "<p>154566 rows × 6 columns</p>\n",
       "</div>"
      ],
      "text/plain": [
       "              Date Country/Region Province/State  Confirmed  Recovered  Deaths\n",
       "0       2020-01-22    Afghanistan            NaN          0        0.0       0\n",
       "1       2020-01-23    Afghanistan            NaN          0        0.0       0\n",
       "2       2020-01-24    Afghanistan            NaN          0        0.0       0\n",
       "3       2020-01-25    Afghanistan            NaN          0        0.0       0\n",
       "4       2020-01-26    Afghanistan            NaN          0        0.0       0\n",
       "...            ...            ...            ...        ...        ...     ...\n",
       "154561  2021-07-24       Zimbabwe            NaN      97277    64628.0    3050\n",
       "154562  2021-07-25       Zimbabwe            NaN      97894    65913.0    3094\n",
       "154563  2021-07-26       Zimbabwe            NaN      99944    67827.0    3173\n",
       "154564  2021-07-27       Zimbabwe            NaN     101711    70496.0    3280\n",
       "154565  2021-07-28       Zimbabwe            NaN     103567    71383.0    3340\n",
       "\n",
       "[154566 rows x 6 columns]"
      ]
     },
     "execution_count": 105,
     "metadata": {},
     "output_type": "execute_result"
    }
   ],
   "source": [
    "df"
   ]
  },
  {
   "cell_type": "markdown",
   "metadata": {},
   "source": [
    "# 3"
   ]
  },
  {
   "cell_type": "markdown",
   "metadata": {},
   "source": [
    "##### Merge the data for countries with multiple regions in order to provide a single time-series for each country."
   ]
  },
  {
   "cell_type": "code",
   "execution_count": 89,
   "metadata": {},
   "outputs": [],
   "source": [
    "df_new = df.groupby(['Date', 'Country/Region'])[\"Confirmed\", \"Recovered\",'Deaths'].apply(lambda x : x.sum())"
   ]
  },
  {
   "cell_type": "code",
   "execution_count": 90,
   "metadata": {},
   "outputs": [
    {
     "data": {
      "text/html": [
       "<div>\n",
       "<style scoped>\n",
       "    .dataframe tbody tr th:only-of-type {\n",
       "        vertical-align: middle;\n",
       "    }\n",
       "\n",
       "    .dataframe tbody tr th {\n",
       "        vertical-align: top;\n",
       "    }\n",
       "\n",
       "    .dataframe thead th {\n",
       "        text-align: right;\n",
       "    }\n",
       "</style>\n",
       "<table border=\"1\" class=\"dataframe\">\n",
       "  <thead>\n",
       "    <tr style=\"text-align: right;\">\n",
       "      <th></th>\n",
       "      <th></th>\n",
       "      <th>Confirmed</th>\n",
       "      <th>Recovered</th>\n",
       "      <th>Deaths</th>\n",
       "    </tr>\n",
       "    <tr>\n",
       "      <th>Date</th>\n",
       "      <th>Country/Region</th>\n",
       "      <th></th>\n",
       "      <th></th>\n",
       "      <th></th>\n",
       "    </tr>\n",
       "  </thead>\n",
       "  <tbody>\n",
       "    <tr>\n",
       "      <th rowspan=\"5\" valign=\"top\">2020-01-22</th>\n",
       "      <th>Afghanistan</th>\n",
       "      <td>0.0</td>\n",
       "      <td>0.0</td>\n",
       "      <td>0.0</td>\n",
       "    </tr>\n",
       "    <tr>\n",
       "      <th>Albania</th>\n",
       "      <td>0.0</td>\n",
       "      <td>0.0</td>\n",
       "      <td>0.0</td>\n",
       "    </tr>\n",
       "    <tr>\n",
       "      <th>Algeria</th>\n",
       "      <td>0.0</td>\n",
       "      <td>0.0</td>\n",
       "      <td>0.0</td>\n",
       "    </tr>\n",
       "    <tr>\n",
       "      <th>Andorra</th>\n",
       "      <td>0.0</td>\n",
       "      <td>0.0</td>\n",
       "      <td>0.0</td>\n",
       "    </tr>\n",
       "    <tr>\n",
       "      <th>Angola</th>\n",
       "      <td>0.0</td>\n",
       "      <td>0.0</td>\n",
       "      <td>0.0</td>\n",
       "    </tr>\n",
       "    <tr>\n",
       "      <th>...</th>\n",
       "      <th>...</th>\n",
       "      <td>...</td>\n",
       "      <td>...</td>\n",
       "      <td>...</td>\n",
       "    </tr>\n",
       "    <tr>\n",
       "      <th rowspan=\"5\" valign=\"top\">2021-07-28</th>\n",
       "      <th>Vietnam</th>\n",
       "      <td>123640.0</td>\n",
       "      <td>27457.0</td>\n",
       "      <td>630.0</td>\n",
       "    </tr>\n",
       "    <tr>\n",
       "      <th>West Bank and Gaza</th>\n",
       "      <td>316328.0</td>\n",
       "      <td>311622.0</td>\n",
       "      <td>3601.0</td>\n",
       "    </tr>\n",
       "    <tr>\n",
       "      <th>Yemen</th>\n",
       "      <td>7027.0</td>\n",
       "      <td>4168.0</td>\n",
       "      <td>1374.0</td>\n",
       "    </tr>\n",
       "    <tr>\n",
       "      <th>Zambia</th>\n",
       "      <td>193432.0</td>\n",
       "      <td>183957.0</td>\n",
       "      <td>3338.0</td>\n",
       "    </tr>\n",
       "    <tr>\n",
       "      <th>Zimbabwe</th>\n",
       "      <td>103567.0</td>\n",
       "      <td>71383.0</td>\n",
       "      <td>3340.0</td>\n",
       "    </tr>\n",
       "  </tbody>\n",
       "</table>\n",
       "<p>108030 rows × 3 columns</p>\n",
       "</div>"
      ],
      "text/plain": [
       "                               Confirmed  Recovered  Deaths\n",
       "Date       Country/Region                                  \n",
       "2020-01-22 Afghanistan               0.0        0.0     0.0\n",
       "           Albania                   0.0        0.0     0.0\n",
       "           Algeria                   0.0        0.0     0.0\n",
       "           Andorra                   0.0        0.0     0.0\n",
       "           Angola                    0.0        0.0     0.0\n",
       "...                                  ...        ...     ...\n",
       "2021-07-28 Vietnam              123640.0    27457.0   630.0\n",
       "           West Bank and Gaza   316328.0   311622.0  3601.0\n",
       "           Yemen                  7027.0     4168.0  1374.0\n",
       "           Zambia               193432.0   183957.0  3338.0\n",
       "           Zimbabwe             103567.0    71383.0  3340.0\n",
       "\n",
       "[108030 rows x 3 columns]"
      ]
     },
     "execution_count": 90,
     "metadata": {},
     "output_type": "execute_result"
    }
   ],
   "source": [
    "df_new"
   ]
  },
  {
   "cell_type": "markdown",
   "metadata": {},
   "source": [
    "# 4"
   ]
  },
  {
   "cell_type": "markdown",
   "metadata": {},
   "source": [
    "##### Print the total number of confirmed cases and number of deaths in each country in the last reported day. What are the 10 countries with the highest number of confirmed COVID-19 cases? What are the 10 countries with the highest number of deaths?"
   ]
  },
  {
   "cell_type": "code",
   "execution_count": 37,
   "metadata": {},
   "outputs": [],
   "source": [
    "df_new.reset_index(level=0, inplace=True)\n",
    "latest=df_new['Date'].max()\n",
    "df_1 = df_new[df_new['Date'] == latest]"
   ]
  },
  {
   "cell_type": "code",
   "execution_count": 38,
   "metadata": {},
   "outputs": [
    {
     "data": {
      "text/html": [
       "<div>\n",
       "<style scoped>\n",
       "    .dataframe tbody tr th:only-of-type {\n",
       "        vertical-align: middle;\n",
       "    }\n",
       "\n",
       "    .dataframe tbody tr th {\n",
       "        vertical-align: top;\n",
       "    }\n",
       "\n",
       "    .dataframe thead th {\n",
       "        text-align: right;\n",
       "    }\n",
       "</style>\n",
       "<table border=\"1\" class=\"dataframe\">\n",
       "  <thead>\n",
       "    <tr style=\"text-align: right;\">\n",
       "      <th></th>\n",
       "      <th>Date</th>\n",
       "      <th>Confirmed</th>\n",
       "      <th>Recovered</th>\n",
       "      <th>Deaths</th>\n",
       "    </tr>\n",
       "    <tr>\n",
       "      <th>Country/Region</th>\n",
       "      <th></th>\n",
       "      <th></th>\n",
       "      <th></th>\n",
       "      <th></th>\n",
       "    </tr>\n",
       "  </thead>\n",
       "  <tbody>\n",
       "    <tr>\n",
       "      <th>Afghanistan</th>\n",
       "      <td>2021-07-28</td>\n",
       "      <td>145552.0</td>\n",
       "      <td>82586.0</td>\n",
       "      <td>6577.0</td>\n",
       "    </tr>\n",
       "    <tr>\n",
       "      <th>Albania</th>\n",
       "      <td>2021-07-28</td>\n",
       "      <td>132952.0</td>\n",
       "      <td>130174.0</td>\n",
       "      <td>2457.0</td>\n",
       "    </tr>\n",
       "    <tr>\n",
       "      <th>Algeria</th>\n",
       "      <td>2021-07-28</td>\n",
       "      <td>167131.0</td>\n",
       "      <td>112900.0</td>\n",
       "      <td>4161.0</td>\n",
       "    </tr>\n",
       "    <tr>\n",
       "      <th>Andorra</th>\n",
       "      <td>2021-07-28</td>\n",
       "      <td>14586.0</td>\n",
       "      <td>14113.0</td>\n",
       "      <td>127.0</td>\n",
       "    </tr>\n",
       "    <tr>\n",
       "      <th>Angola</th>\n",
       "      <td>2021-07-28</td>\n",
       "      <td>42288.0</td>\n",
       "      <td>35964.0</td>\n",
       "      <td>1000.0</td>\n",
       "    </tr>\n",
       "    <tr>\n",
       "      <th>...</th>\n",
       "      <td>...</td>\n",
       "      <td>...</td>\n",
       "      <td>...</td>\n",
       "      <td>...</td>\n",
       "    </tr>\n",
       "    <tr>\n",
       "      <th>Vietnam</th>\n",
       "      <td>2021-07-28</td>\n",
       "      <td>123640.0</td>\n",
       "      <td>27457.0</td>\n",
       "      <td>630.0</td>\n",
       "    </tr>\n",
       "    <tr>\n",
       "      <th>West Bank and Gaza</th>\n",
       "      <td>2021-07-28</td>\n",
       "      <td>316328.0</td>\n",
       "      <td>311622.0</td>\n",
       "      <td>3601.0</td>\n",
       "    </tr>\n",
       "    <tr>\n",
       "      <th>Yemen</th>\n",
       "      <td>2021-07-28</td>\n",
       "      <td>7027.0</td>\n",
       "      <td>4168.0</td>\n",
       "      <td>1374.0</td>\n",
       "    </tr>\n",
       "    <tr>\n",
       "      <th>Zambia</th>\n",
       "      <td>2021-07-28</td>\n",
       "      <td>193432.0</td>\n",
       "      <td>183957.0</td>\n",
       "      <td>3338.0</td>\n",
       "    </tr>\n",
       "    <tr>\n",
       "      <th>Zimbabwe</th>\n",
       "      <td>2021-07-28</td>\n",
       "      <td>103567.0</td>\n",
       "      <td>71383.0</td>\n",
       "      <td>3340.0</td>\n",
       "    </tr>\n",
       "  </tbody>\n",
       "</table>\n",
       "<p>195 rows × 4 columns</p>\n",
       "</div>"
      ],
      "text/plain": [
       "                          Date  Confirmed  Recovered  Deaths\n",
       "Country/Region                                              \n",
       "Afghanistan         2021-07-28   145552.0    82586.0  6577.0\n",
       "Albania             2021-07-28   132952.0   130174.0  2457.0\n",
       "Algeria             2021-07-28   167131.0   112900.0  4161.0\n",
       "Andorra             2021-07-28    14586.0    14113.0   127.0\n",
       "Angola              2021-07-28    42288.0    35964.0  1000.0\n",
       "...                        ...        ...        ...     ...\n",
       "Vietnam             2021-07-28   123640.0    27457.0   630.0\n",
       "West Bank and Gaza  2021-07-28   316328.0   311622.0  3601.0\n",
       "Yemen               2021-07-28     7027.0     4168.0  1374.0\n",
       "Zambia              2021-07-28   193432.0   183957.0  3338.0\n",
       "Zimbabwe            2021-07-28   103567.0    71383.0  3340.0\n",
       "\n",
       "[195 rows x 4 columns]"
      ]
     },
     "execution_count": 38,
     "metadata": {},
     "output_type": "execute_result"
    }
   ],
   "source": [
    "df_1"
   ]
  },
  {
   "cell_type": "code",
   "execution_count": 21,
   "metadata": {},
   "outputs": [
    {
     "data": {
      "text/plain": [
       "Country/Region\n",
       "US                34672690.0\n",
       "India             31484605.0\n",
       "Brazil            19797086.0\n",
       "France             6116853.0\n",
       "Russia             6116249.0\n",
       "United Kingdom     5797445.0\n",
       "Turkey             5660469.0\n",
       "Argentina          4891810.0\n",
       "Colombia           4757139.0\n",
       "Spain              4395602.0\n",
       "Name: Confirmed, dtype: float64"
      ]
     },
     "execution_count": 21,
     "metadata": {},
     "output_type": "execute_result"
    }
   ],
   "source": [
    "df_1['Confirmed'].nlargest(10)"
   ]
  },
  {
   "cell_type": "code",
   "execution_count": 22,
   "metadata": {},
   "outputs": [
    {
     "data": {
      "text/plain": [
       "Country/Region\n",
       "US                611801.0\n",
       "Brazil            553179.0\n",
       "India             422022.0\n",
       "Mexico            239616.0\n",
       "Peru              196138.0\n",
       "Russia            153620.0\n",
       "United Kingdom    129718.0\n",
       "Italy             128010.0\n",
       "Colombia          119801.0\n",
       "France            111923.0\n",
       "Name: Deaths, dtype: float64"
      ]
     },
     "execution_count": 22,
     "metadata": {},
     "output_type": "execute_result"
    }
   ],
   "source": [
    "df_1['Deaths'].nlargest(10)"
   ]
  },
  {
   "cell_type": "markdown",
   "metadata": {},
   "source": [
    "# 5"
   ]
  },
  {
   "cell_type": "markdown",
   "metadata": {},
   "source": [
    "##### Plot a graph of the number of confirmed cases over time for each country. Which countries present exponential growth in the number of cases and which countries are already leaving exponential growth?"
   ]
  },
  {
   "cell_type": "code",
   "execution_count": null,
   "metadata": {},
   "outputs": [],
   "source": [
    "# dividing the column into 16 equal arrays for subplotting purposes"
   ]
  },
  {
   "cell_type": "code",
   "execution_count": 91,
   "metadata": {},
   "outputs": [],
   "source": [
    "df_new.reset_index(level=0, inplace=True)"
   ]
  },
  {
   "cell_type": "code",
   "execution_count": 93,
   "metadata": {},
   "outputs": [],
   "source": [
    "import numpy as np\n",
    "df1, df2, df3, df4, df5, df6, df7, df8 = np.array_split(df_new[['Date','Confirmed']], 8)"
   ]
  },
  {
   "cell_type": "code",
   "execution_count": 94,
   "metadata": {},
   "outputs": [
    {
     "data": {
      "image/png": "[encoded data removed]",
      "text/plain": [
       "<Figure size 1440x1440 with 8 Axes>"
      ]
     },
     "metadata": {
      "needs_background": "light"
     },
     "output_type": "display_data"
    }
   ],
   "source": [
    "# plotting the graphs together by using subplot method\n",
    "df_list = [df1 ,df2, df3, df4, df5, df6, df7, df8]\n",
    "fig, axes = plt.subplots(4, 2)\n",
    "\n",
    "#counter\n",
    "count=0\n",
    "for i in range(4):\n",
    "    for j in range(2):\n",
    "        df_list[count].plot(ax=axes[i,j], figsize=(20,20))\n",
    "        count+=1"
   ]
  },
  {
   "cell_type": "code",
   "execution_count": 106,
   "metadata": {},
   "outputs": [
    {
     "data": {
      "image/png": "[encoded data removed]",
      "text/plain": [
       "<Figure size 432x288 with 1 Axes>"
      ]
     },
     "metadata": {
      "needs_background": "light"
     },
     "output_type": "display_data"
    }
   ],
   "source": [
    "# to make plots look comprehensible, i tried plotting them one at a time for one country\n",
    "\n",
    "import matplotlib.pyplot as plt\n",
    "df_US=df[df['Country/Region'] == 'US']\n",
    "df_US.plot( 'Date' ,'Confirmed', color='cyan' )\n",
    "plt.show()"
   ]
  },
  {
   "cell_type": "code",
   "execution_count": 108,
   "metadata": {},
   "outputs": [
    {
     "data": {
      "image/png": "[encoded data removed]",
      "text/plain": [
       "<Figure size 432x288 with 1 Axes>"
      ]
     },
     "metadata": {
      "needs_background": "light"
     },
     "output_type": "display_data"
    }
   ],
   "source": [
    "df_Brazil=df[df['Country/Region'] == 'Brazil']\n",
    "df_Brazil.plot( 'Date' ,'Confirmed', color='cyan' )\n",
    "plt.show()"
   ]
  },
  {
   "cell_type": "code",
   "execution_count": 109,
   "metadata": {},
   "outputs": [
    {
     "data": {
      "image/png": "[encoded data removed]",
      "text/plain": [
       "<Figure size 432x288 with 1 Axes>"
      ]
     },
     "metadata": {
      "needs_background": "light"
     },
     "output_type": "display_data"
    }
   ],
   "source": [
    "df_India=df[df['Country/Region'] == 'India']\n",
    "df_India.plot( 'Date' ,'Confirmed', color='cyan' )\n",
    "plt.show()"
   ]
  },
  {
   "cell_type": "code",
   "execution_count": 110,
   "metadata": {},
   "outputs": [
    {
     "data": {
      "image/png": "[encoded data removed]",
      "text/plain": [
       "<Figure size 432x288 with 1 Axes>"
      ]
     },
     "metadata": {
      "needs_background": "light"
     },
     "output_type": "display_data"
    }
   ],
   "source": [
    "df_France=df[df['Country/Region'] == 'France']\n",
    "df_France.plot( 'Date' ,'Confirmed', color='cyan' )\n",
    "plt.show()"
   ]
  },
  {
   "cell_type": "code",
   "execution_count": 111,
   "metadata": {},
   "outputs": [
    {
     "data": {
      "image/png": "[encoded data removed]",
      "text/plain": [
       "<Figure size 432x288 with 1 Axes>"
      ]
     },
     "metadata": {
      "needs_background": "light"
     },
     "output_type": "display_data"
    }
   ],
   "source": [
    "df_Russia=df[df['Country/Region'] == 'Russia']\n",
    "df_Russia.plot( 'Date' ,'Confirmed', color='cyan' )\n",
    "plt.show()"
   ]
  },
  {
   "cell_type": "markdown",
   "metadata": {},
   "source": [
    "Through these plots we found out that, while countries like US, Brazil, India, Russia had a similar increase in the covid confirmed cases throughout the duration, there were countries like France which encountered a sudden upheaval in the cases around April,2021."
   ]
  },
  {
   "cell_type": "markdown",
   "metadata": {},
   "source": [
    "# 6"
   ]
  },
  {
   "cell_type": "markdown",
   "metadata": {},
   "source": [
    "##### Create a bar plot that shows the number of deaths per 100 confirmed cases (observed case-fatality ratio) for the 20 most affected countries. See Figure 1 for an example."
   ]
  },
  {
   "cell_type": "code",
   "execution_count": 39,
   "metadata": {
    "collapsed": true
   },
   "outputs": [
    {
     "name": "stderr",
     "output_type": "stream",
     "text": [
      "C:\\ProgramData\\Anaconda3\\lib\\site-packages\\ipykernel_launcher.py:3: SettingWithCopyWarning: \n",
      "A value is trying to be set on a copy of a slice from a DataFrame.\n",
      "Try using .loc[row_indexer,col_indexer] = value instead\n",
      "\n",
      "See the caveats in the documentation: http://pandas.pydata.org/pandas-docs/stable/user_guide/indexing.html#returning-a-view-versus-a-copy\n",
      "  This is separate from the ipykernel package so we can avoid doing imports until\n"
     ]
    }
   ],
   "source": [
    "df_6=df_1\n",
    "df_6.fillna(0)\n",
    "df_6['Death_percent_confirmed']=df_6['Deaths']*100/df_6['Confirmed']\n",
    "del df_6['Date']"
   ]
  },
  {
   "cell_type": "code",
   "execution_count": 46,
   "metadata": {},
   "outputs": [
    {
     "data": {
      "text/plain": [
       "<matplotlib.axes._subplots.AxesSubplot at 0x14764aa1248>"
      ]
     },
     "execution_count": 46,
     "metadata": {},
     "output_type": "execute_result"
    },
    {
     "data": {
      "image/png": "[encoded data removed]",
      "text/plain": [
       "<Figure size 1368x648 with 1 Axes>"
      ]
     },
     "metadata": {
      "needs_background": "light"
     },
     "output_type": "display_data"
    }
   ],
   "source": [
    "# plotting a horizontal bar graph\n",
    "import matplotlib.pyplot as plt\n",
    "\n",
    "plt.title('Number of deaths per 100 confirmed cases')\n",
    "plt.xlabel('Deaths per hundred confirmed cases')\n",
    "plt.ylabel('Country/Region')\n",
    "df_6['Death_percent_confirmed'].nlargest(20).plot.barh(figsize=(19,9), color='red')"
   ]
  },
  {
   "cell_type": "markdown",
   "metadata": {},
   "source": [
    "# 7"
   ]
  },
  {
   "cell_type": "markdown",
   "metadata": {},
   "source": [
    "##### Compute the ratio between the total number of confirmed cases and the population size of each country. The file worldpopulation.json contains data on the population size of each country."
   ]
  },
  {
   "cell_type": "markdown",
   "metadata": {},
   "source": [
    "#### Data Cleaning"
   ]
  },
  {
   "cell_type": "code",
   "execution_count": 49,
   "metadata": {},
   "outputs": [],
   "source": [
    "population=pd.read_json('worldpopulation.json')\n",
    "df_6.reset_index(level=0, inplace=True)\n",
    "df_7=df_6"
   ]
  },
  {
   "cell_type": "code",
   "execution_count": 50,
   "metadata": {},
   "outputs": [
    {
     "name": "stdout",
     "output_type": "stream",
     "text": [
      "['West Bank and Gaza', 'Taiwan*', 'US', 'Burma', 'Summer Olympics 2020', 'Saint Vincent and the Grenadines', 'Vietnam', 'Kosovo', 'United Kingdom', \"Cote d'Ivoire\", 'Congo (Brazzaville)', 'Eswatini', 'Korea, South', 'North Macedonia', 'Diamond Princess', 'Congo (Kinshasa)', 'MS Zaandam', 'Czechia']\n"
     ]
    }
   ],
   "source": [
    "# Finding out the non-matching countries in the two datasets\n",
    "x=pd.DataFrame()\n",
    "x=population['country'].sort_values()\n",
    "x=x.reset_index(drop=True) \n",
    "data=[df_7['Country/Region'], x]\n",
    "names = [\"country_1\", \"country_2\"]\n",
    "df_check= pd.concat(data, axis=1, keys=names)\n",
    "print(list(set(df_check.country_1)-set(df_check.country_2)))"
   ]
  },
  {
   "cell_type": "code",
   "execution_count": 52,
   "metadata": {},
   "outputs": [],
   "source": [
    "# preprocessing the data\n",
    "# changing the names of countries so that they match\n",
    "update_df=pd.DataFrame()\n",
    "update_df['Country/Region']=df_7['Country/Region'].replace(\"Czechia\", \"Czech Republic\",inplace=True)\n",
    "update_df['Country/Region']=df_7['Country/Region'].replace(\"North Macedonia\", \"North Korea\",inplace=True)\n",
    "update_df['Country/Region']=df_7['Country/Region'].replace(\"Taiwan*\", \"TFYR Macedonia\",inplace=True)\n",
    "update_df['Country/Region']=df_7['Country/Region'].replace(\"US\", \"U.S.\",inplace=True)\n",
    "update_df['Country/Region']=df_7['Country/Region'].replace(\"United Kingdom\", \"U.K.\",inplace=True)\n",
    "update_df['Country/Region']=df_7['Country/Region'].replace(\"Vietnam\", \"Viet Nam\",inplace=True)\n",
    "\n",
    "# removing the rows with countries that are only present in one dataset\n",
    "update_df = df_7.drop(df_7.index[[40, 42, 48, 58, 92, 93, 106, 148, 167]])\n",
    "update_pop= population.drop(population.index[[54, 45, 15, 24, 118, 25, 150, 178, 180, 147, 108, 192, 193]])\n",
    "\n",
    "update_df = update_df.reset_index(drop=True)\n",
    "update_pop = update_pop.reset_index(drop=True)\n",
    "update_df = update_df.set_index('Country/Region')\n",
    "update_df = update_df.reindex(index=population['country'])\n",
    "update_df = update_df.reset_index()\n",
    "update_df= update_df.dropna()\n",
    "update_df = update_df.reset_index(drop=True)\n",
    "update_pop= update_pop.dropna()\n",
    "update_pop = update_pop.reset_index(drop=True)\n",
    "\n",
    "# creating a new dataframe to check whether all the country names are same or not \n",
    "data2=[update_df['country'], update_pop['country']]\n",
    "names2= [\"country_1\", \"country_2\"]\n",
    "df_check2= pd.concat(data2, axis=1, keys=names2)"
   ]
  },
  {
   "cell_type": "code",
   "execution_count": 55,
   "metadata": {},
   "outputs": [
    {
     "name": "stdout",
     "output_type": "stream",
     "text": [
      "                    country_1                 country_2\n",
      "0                       China                     China\n",
      "1                       India                     India\n",
      "2                        U.S.                      U.S.\n",
      "3                   Indonesia                 Indonesia\n",
      "4                      Brazil                    Brazil\n",
      "5                    Pakistan                  Pakistan\n",
      "6                     Nigeria                   Nigeria\n",
      "7                  Bangladesh                Bangladesh\n",
      "8                      Russia                    Russia\n",
      "9                      Mexico                    Mexico\n",
      "10                      Japan                     Japan\n",
      "11                   Ethiopia                  Ethiopia\n",
      "12                Philippines               Philippines\n",
      "13                   Viet Nam                  Viet Nam\n",
      "14                      Egypt                     Egypt\n",
      "15                       Iran                      Iran\n",
      "16                    Germany                   Germany\n",
      "17                     Turkey                    Turkey\n",
      "18                   Thailand                  Thailand\n",
      "19                       U.K.                      U.K.\n",
      "20                     France                    France\n",
      "21                      Italy                     Italy\n",
      "22                   Tanzania                  Tanzania\n",
      "23               South Africa               South Korea\n",
      "24                   Colombia                  Colombia\n",
      "25                      Kenya                     Kenya\n",
      "26                      Spain                     Spain\n",
      "27                    Ukraine                   Ukraine\n",
      "28                  Argentina                 Argentina\n",
      "29                      Sudan                     Sudan\n",
      "30                     Uganda                    Uganda\n",
      "31                    Algeria                   Algeria\n",
      "32                       Iraq                      Iraq\n",
      "33                     Poland                    Poland\n",
      "34                     Canada                    Canada\n",
      "35                    Morocco                   Morocco\n",
      "36                Afghanistan               Afghanistan\n",
      "37               Saudi Arabia              Saudi Arabia\n",
      "38                       Peru                      Peru\n",
      "39                  Venezuela                 Venezuela\n",
      "40                   Malaysia                  Malaysia\n",
      "41                 Uzbekistan                Uzbekistan\n",
      "42                 Mozambique                     Nepal\n",
      "43                      Nepal                     Ghana\n",
      "44                      Ghana                     Yemen\n",
      "45                      Yemen                    Angola\n",
      "46                     Angola                Madagascar\n",
      "47                North Korea               North Korea\n",
      "48                  Australia                 Australia\n",
      "49                   Cameroon                  Cameroon\n",
      "50                      Niger                     Niger\n",
      "51                  Sri Lanka                 Sri Lanka\n",
      "52                    Romania                   Romania\n",
      "53               Burkina Faso              Burkina Faso\n",
      "54                      Syria                     Syria\n",
      "55                       Mali                      Mali\n",
      "56                      Chile                     Chile\n",
      "57                     Malawi                    Malawi\n",
      "58                 Kazakhstan                Kazakhstan\n",
      "59                     Zambia                    Zambia\n",
      "60                Netherlands               Netherlands\n",
      "61                  Guatemala                 Guatemala\n",
      "62                    Ecuador                   Ecuador\n",
      "63                   Zimbabwe                  Zimbabwe\n",
      "64                   Cambodia                  Cambodia\n",
      "65                    Senegal                   Senegal\n",
      "66                       Chad                      Chad\n",
      "67                     Guinea                    Guinea\n",
      "68                South Sudan               South Sudan\n",
      "69                     Rwanda                    Rwanda\n",
      "70                    Burundi                   Burundi\n",
      "71                    Tunisia                   Tunisia\n",
      "72                      Benin                     Benin\n",
      "73                    Belgium                   Belgium\n",
      "74                    Somalia                   Somalia\n",
      "75                       Cuba                      Cuba\n",
      "76                    Bolivia                   Bolivia\n",
      "77                      Haiti                     Haiti\n",
      "78                     Greece                    Greece\n",
      "79         Dominican Republic        Dominican Republic\n",
      "80             Czech Republic            Czech Republic\n",
      "81                   Portugal                  Portugal\n",
      "82                 Azerbaijan                Azerbaijan\n",
      "83                     Sweden                    Sweden\n",
      "84                    Hungary                   Hungary\n",
      "85                    Belarus                   Belarus\n",
      "86       United Arab Emirates      United Arab Emirates\n",
      "87                 Tajikistan                Tajikistan\n",
      "88                     Serbia                    Serbia\n",
      "89                    Austria                   Austria\n",
      "90                Switzerland               Switzerland\n",
      "91                     Israel                    Israel\n",
      "92                   Honduras                  Honduras\n",
      "93           Papua New Guinea          Papua New Guinea\n",
      "94                     Jordan                    Jordan\n",
      "95                       Togo                      Togo\n",
      "96                   Bulgaria                  Bulgaria\n",
      "97                       Laos                      Laos\n",
      "98                   Paraguay                  Paraguay\n",
      "99               Sierra Leone              Sierra Leone\n",
      "100                     Libya                     Libya\n",
      "101                 Nicaragua                 Nicaragua\n",
      "102               El Salvador               El Salvador\n",
      "103                Kyrgyzstan                   Lebanon\n",
      "104                   Lebanon                 Singapore\n",
      "105                 Singapore                   Denmark\n",
      "106                   Denmark                   Finland\n",
      "107                   Finland              Turkmenistan\n",
      "108                   Eritrea                   Eritrea\n",
      "109                  Slovakia                  Slovakia\n",
      "110                    Norway                    Norway\n",
      "111  Central African Republic  Central African Republic\n",
      "112                Costa Rica                Costa Rica\n",
      "113                   Ireland                     Congo\n",
      "114                      Oman                   Ireland\n",
      "115                   Liberia                      Oman\n",
      "116               New Zealand                   Liberia\n",
      "117                Mauritania               New Zealand\n",
      "118                   Croatia                Mauritania\n",
      "119                    Kuwait                   Croatia\n",
      "120                   Moldova                    Kuwait\n",
      "121                    Panama                   Moldova\n",
      "122                   Georgia                    Panama\n",
      "123    Bosnia and Herzegovina                   Georgia\n",
      "124                   Uruguay    Bosnia and Herzegovina\n",
      "125                  Mongolia                   Uruguay\n",
      "126                   Armenia                  Mongolia\n",
      "127                   Albania                   Armenia\n",
      "128                 Lithuania                   Albania\n",
      "129                   Jamaica                 Lithuania\n",
      "130                   Namibia                   Jamaica\n",
      "131                  Botswana                   Namibia\n",
      "132                     Qatar                  Botswana\n",
      "133                   Lesotho                     Qatar\n",
      "134                    Gambia                   Lesotho\n",
      "135            TFYR Macedonia                    Gambia\n",
      "136                  Slovenia            TFYR Macedonia\n",
      "137                    Latvia                  Slovenia\n",
      "138             Guinea-Bissau                    Latvia\n",
      "139                     Gabon             Guinea-Bissau\n",
      "140                   Bahrain                   Bahrain\n",
      "141       Trinidad and Tobago       Trinidad and Tobago\n",
      "142                   Estonia                   Estonia\n",
      "143                 Mauritius                 Mauritius\n",
      "144               Timor-Leste               Timor-Leste\n",
      "145                    Cyprus                    Cyprus\n",
      "146                  Djibouti                  Djibouti\n",
      "147                      Fiji                      Fiji\n",
      "148         Equatorial Guinea         Equatorial Guinea\n",
      "149                   Comoros                   Comoros\n",
      "150                    Bhutan                    Bhutan\n",
      "151                    Guyana                    Guyana\n",
      "152                Montenegro                Montenegro\n",
      "153           Solomon Islands           Solomon Islands\n",
      "154                Luxembourg                Luxembourg\n",
      "155                  Suriname                  Suriname\n",
      "156                Cabo Verde                Cabo Verde\n",
      "157                    Brunei                    Brunei\n",
      "158                     Malta                     Malta\n",
      "159                   Bahamas                   Bahamas\n",
      "160                  Maldives                  Maldives\n",
      "161                    Belize                    Belize\n",
      "162                   Iceland                   Iceland\n",
      "163                  Barbados                  Barbados\n",
      "164                   Vanuatu                   Vanuatu\n",
      "165     Sao Tome and Principe     Sao Tome and Principe\n",
      "166                     Samoa                     Samoa\n",
      "167               Saint Lucia               Saint Lucia\n",
      "168                  Kiribati                  Kiribati\n",
      "169                   Grenada                   Grenada\n",
      "170                Micronesia                Micronesia\n",
      "171                Seychelles                Seychelles\n",
      "172       Antigua and Barbuda       Antigua and Barbuda\n",
      "173                  Dominica                  Dominica\n",
      "174                   Andorra                   Andorra\n",
      "175     Saint Kitts and Nevis     Saint Kitts and Nevis\n",
      "176          Marshall Islands          Marshall Islands\n",
      "177             Liechtenstein             Liechtenstein\n",
      "178                    Monaco                    Monaco\n",
      "179                San Marino                San Marino\n",
      "180                  Holy See                     Palau\n",
      "181                       NaN                  Holy See\n"
     ]
    }
   ],
   "source": [
    "# displaying the dataframe containing both the columns of countries to compare them\n",
    "with pd.option_context('display.max_rows', None,\n",
    "                       'display.max_columns', None,\n",
    "                       'display.precision', 3,\n",
    "                       ):\n",
    "    print(df_check2)"
   ]
  },
  {
   "cell_type": "markdown",
   "metadata": {},
   "source": [
    "#### Finding the Ratio"
   ]
  },
  {
   "cell_type": "code",
   "execution_count": 59,
   "metadata": {},
   "outputs": [],
   "source": [
    "df_ratio=pd.DataFrame()\n",
    "df_ratio['Cases_per_capita']=update_df['Confirmed']/update_pop['population']\n",
    "df_ratio['Country']=update_pop['country']"
   ]
  },
  {
   "cell_type": "code",
   "execution_count": 60,
   "metadata": {},
   "outputs": [
    {
     "data": {
      "text/html": [
       "<div>\n",
       "<style scoped>\n",
       "    .dataframe tbody tr th:only-of-type {\n",
       "        vertical-align: middle;\n",
       "    }\n",
       "\n",
       "    .dataframe tbody tr th {\n",
       "        vertical-align: top;\n",
       "    }\n",
       "\n",
       "    .dataframe thead th {\n",
       "        text-align: right;\n",
       "    }\n",
       "</style>\n",
       "<table border=\"1\" class=\"dataframe\">\n",
       "  <thead>\n",
       "    <tr style=\"text-align: right;\">\n",
       "      <th></th>\n",
       "      <th>Cases_per_capita</th>\n",
       "      <th>Country</th>\n",
       "    </tr>\n",
       "  </thead>\n",
       "  <tbody>\n",
       "    <tr>\n",
       "      <th>0</th>\n",
       "      <td>0.000076</td>\n",
       "      <td>China</td>\n",
       "    </tr>\n",
       "    <tr>\n",
       "      <th>1</th>\n",
       "      <td>0.023452</td>\n",
       "      <td>India</td>\n",
       "    </tr>\n",
       "    <tr>\n",
       "      <th>2</th>\n",
       "      <td>0.106204</td>\n",
       "      <td>U.S.</td>\n",
       "    </tr>\n",
       "    <tr>\n",
       "      <th>3</th>\n",
       "      <td>0.012477</td>\n",
       "      <td>Indonesia</td>\n",
       "    </tr>\n",
       "    <tr>\n",
       "      <th>4</th>\n",
       "      <td>0.093717</td>\n",
       "      <td>Brazil</td>\n",
       "    </tr>\n",
       "    <tr>\n",
       "      <th>...</th>\n",
       "      <td>...</td>\n",
       "      <td>...</td>\n",
       "    </tr>\n",
       "    <tr>\n",
       "      <th>177</th>\n",
       "      <td>0.081085</td>\n",
       "      <td>Liechtenstein</td>\n",
       "    </tr>\n",
       "    <tr>\n",
       "      <th>178</th>\n",
       "      <td>0.074533</td>\n",
       "      <td>Monaco</td>\n",
       "    </tr>\n",
       "    <tr>\n",
       "      <th>179</th>\n",
       "      <td>0.159793</td>\n",
       "      <td>San Marino</td>\n",
       "    </tr>\n",
       "    <tr>\n",
       "      <th>180</th>\n",
       "      <td>0.001243</td>\n",
       "      <td>Palau</td>\n",
       "    </tr>\n",
       "    <tr>\n",
       "      <th>181</th>\n",
       "      <td>NaN</td>\n",
       "      <td>Holy See</td>\n",
       "    </tr>\n",
       "  </tbody>\n",
       "</table>\n",
       "<p>182 rows × 2 columns</p>\n",
       "</div>"
      ],
      "text/plain": [
       "     Cases_per_capita        Country\n",
       "0            0.000076          China\n",
       "1            0.023452          India\n",
       "2            0.106204           U.S.\n",
       "3            0.012477      Indonesia\n",
       "4            0.093717         Brazil\n",
       "..                ...            ...\n",
       "177          0.081085  Liechtenstein\n",
       "178          0.074533         Monaco\n",
       "179          0.159793     San Marino\n",
       "180          0.001243          Palau\n",
       "181               NaN       Holy See\n",
       "\n",
       "[182 rows x 2 columns]"
      ]
     },
     "execution_count": 60,
     "metadata": {},
     "output_type": "execute_result"
    }
   ],
   "source": [
    "df_ratio"
   ]
  },
  {
   "cell_type": "markdown",
   "metadata": {},
   "source": [
    "##### What are the 10 countries with the highest number of confirmed COVID-19 cases per capita?"
   ]
  },
  {
   "cell_type": "code",
   "execution_count": 57,
   "metadata": {},
   "outputs": [],
   "source": [
    "df_per_capita=pd.DataFrame()\n",
    "df_per_capita['Cases_per_capita']=update_df['Confirmed']*100/update_pop['population']\n",
    "df_per_capita['Country']=update_pop['country']"
   ]
  },
  {
   "cell_type": "code",
   "execution_count": 58,
   "metadata": {},
   "outputs": [
    {
     "data": {
      "text/html": [
       "<div>\n",
       "<style scoped>\n",
       "    .dataframe tbody tr th:only-of-type {\n",
       "        vertical-align: middle;\n",
       "    }\n",
       "\n",
       "    .dataframe tbody tr th {\n",
       "        vertical-align: top;\n",
       "    }\n",
       "\n",
       "    .dataframe thead th {\n",
       "        text-align: right;\n",
       "    }\n",
       "</style>\n",
       "<table border=\"1\" class=\"dataframe\">\n",
       "  <thead>\n",
       "    <tr style=\"text-align: right;\">\n",
       "      <th></th>\n",
       "      <th>Cases_per_capita</th>\n",
       "      <th>Country</th>\n",
       "    </tr>\n",
       "  </thead>\n",
       "  <tbody>\n",
       "    <tr>\n",
       "      <th>174</th>\n",
       "      <td>21.222791</td>\n",
       "      <td>Andorra</td>\n",
       "    </tr>\n",
       "    <tr>\n",
       "      <th>160</th>\n",
       "      <td>20.510979</td>\n",
       "      <td>Maldives</td>\n",
       "    </tr>\n",
       "    <tr>\n",
       "      <th>140</th>\n",
       "      <td>18.947561</td>\n",
       "      <td>Bahrain</td>\n",
       "    </tr>\n",
       "    <tr>\n",
       "      <th>171</th>\n",
       "      <td>18.517721</td>\n",
       "      <td>Seychelles</td>\n",
       "    </tr>\n",
       "    <tr>\n",
       "      <th>152</th>\n",
       "      <td>16.206946</td>\n",
       "      <td>Montenegro</td>\n",
       "    </tr>\n",
       "    <tr>\n",
       "      <th>179</th>\n",
       "      <td>15.979317</td>\n",
       "      <td>San Marino</td>\n",
       "    </tr>\n",
       "    <tr>\n",
       "      <th>80</th>\n",
       "      <td>15.850274</td>\n",
       "      <td>Czech Republic</td>\n",
       "    </tr>\n",
       "    <tr>\n",
       "      <th>154</th>\n",
       "      <td>12.625171</td>\n",
       "      <td>Luxembourg</td>\n",
       "    </tr>\n",
       "    <tr>\n",
       "      <th>136</th>\n",
       "      <td>12.425623</td>\n",
       "      <td>TFYR Macedonia</td>\n",
       "    </tr>\n",
       "    <tr>\n",
       "      <th>83</th>\n",
       "      <td>11.075866</td>\n",
       "      <td>Sweden</td>\n",
       "    </tr>\n",
       "  </tbody>\n",
       "</table>\n",
       "</div>"
      ],
      "text/plain": [
       "     Cases_per_capita         Country\n",
       "174         21.222791         Andorra\n",
       "160         20.510979        Maldives\n",
       "140         18.947561         Bahrain\n",
       "171         18.517721      Seychelles\n",
       "152         16.206946      Montenegro\n",
       "179         15.979317      San Marino\n",
       "80          15.850274  Czech Republic\n",
       "154         12.625171      Luxembourg\n",
       "136         12.425623  TFYR Macedonia\n",
       "83          11.075866          Sweden"
      ]
     },
     "execution_count": 58,
     "metadata": {},
     "output_type": "execute_result"
    }
   ],
   "source": [
    "df_per_capita.nlargest(10,'Cases_per_capita')"
   ]
  },
  {
   "cell_type": "markdown",
   "metadata": {},
   "source": [
    "# 8"
   ]
  },
  {
   "cell_type": "markdown",
   "metadata": {},
   "source": [
    "##### In this part we would like to test the hypothesis that the spread of the virus is slowed down by warm weather. Plot a graph of the monthly number of confirmed cases vs. the average monthly temperature for a few selected countries, and analyze the  correlation between these two factors."
   ]
  },
  {
   "cell_type": "markdown",
   "metadata": {},
   "source": [
    "#### Data Processing"
   ]
  },
  {
   "cell_type": "code",
   "execution_count": 64,
   "metadata": {},
   "outputs": [],
   "source": [
    "import json\n",
    "from pandas.io.json import json_normalize\n",
    "with open('climate.json') as file:\n",
    "    data=json.load(file)\n",
    "climate=json_normalize(data, 'monthlyAvg', ['country'], errors='ignore')\n",
    "climate.columns=['high','low',\"dryDays\",\"snowDays\",'rainfall', 'Country/Region']\n",
    "cl=pd.DataFrame(climate)"
   ]
  },
  {
   "cell_type": "code",
   "execution_count": 65,
   "metadata": {},
   "outputs": [],
   "source": [
    "# taking the average of all the temperatures of each country\n",
    "average_high_temp=[]\n",
    "for j in cl['Country/Region']:\n",
    "    cl_new= cl[cl['Country/Region'] == j]\n",
    "    cl_new=cl.groupby(['Country/Region'])['high'].mean().sort_values().reset_index(name ='high')\n",
    "    cl_new2=cl.groupby(['Country/Region'])['low'].mean().sort_values().reset_index(name ='low')\n",
    "    cl_merge=pd.merge(cl_new, cl_new2, on= 'Country/Region')"
   ]
  },
  {
   "cell_type": "code",
   "execution_count": 66,
   "metadata": {
    "collapsed": true
   },
   "outputs": [
    {
     "name": "stderr",
     "output_type": "stream",
     "text": [
      "C:\\ProgramData\\Anaconda3\\lib\\site-packages\\ipykernel_launcher.py:5: SettingWithCopyWarning: \n",
      "A value is trying to be set on a copy of a slice from a DataFrame.\n",
      "Try using .loc[row_indexer,col_indexer] = value instead\n",
      "\n",
      "See the caveats in the documentation: http://pandas.pydata.org/pandas-docs/stable/user_guide/indexing.html#returning-a-view-versus-a-copy\n",
      "  \"\"\"\n"
     ]
    }
   ],
   "source": [
    "# finding the confirmed cases per month and averaging all the confirmed cases per month of each country\n",
    "monthly_confirmed=[]\n",
    "for i in df_1['Country/Region']:\n",
    "    df_us = df[df['Country/Region'] == i]\n",
    "    df_us['Date'] = pd.to_datetime(df['Date'])\n",
    "    df_us=df_us.groupby(df_us['Date'].dt.strftime('%B'))['Confirmed'].sum().sort_values()\n",
    "    x=df_us.mean()\n",
    "    monthly_confirmed.append(x)"
   ]
  },
  {
   "cell_type": "code",
   "execution_count": 67,
   "metadata": {},
   "outputs": [],
   "source": [
    "# merging all the processed data into a single DataFrame\n",
    "df_climate=pd.DataFrame()\n",
    "df_climate['Country/Region']=df_1['Country/Region']\n",
    "df_climate['average_monthly_confirmed']=monthly_confirmed\n",
    "\n",
    "final_data=pd.merge(df_climate, cl_merge, on='Country/Region')\n",
    "final_data['avg_temp']=(final_data['high']+final_data['low'])/2"
   ]
  },
  {
   "cell_type": "code",
   "execution_count": 68,
   "metadata": {},
   "outputs": [
    {
     "data": {
      "text/html": [
       "<div>\n",
       "<style scoped>\n",
       "    .dataframe tbody tr th:only-of-type {\n",
       "        vertical-align: middle;\n",
       "    }\n",
       "\n",
       "    .dataframe tbody tr th {\n",
       "        vertical-align: top;\n",
       "    }\n",
       "\n",
       "    .dataframe thead th {\n",
       "        text-align: right;\n",
       "    }\n",
       "</style>\n",
       "<table border=\"1\" class=\"dataframe\">\n",
       "  <thead>\n",
       "    <tr style=\"text-align: right;\">\n",
       "      <th></th>\n",
       "      <th>Country/Region</th>\n",
       "      <th>average_monthly_confirmed</th>\n",
       "      <th>high</th>\n",
       "      <th>low</th>\n",
       "      <th>avg_temp</th>\n",
       "    </tr>\n",
       "  </thead>\n",
       "  <tbody>\n",
       "    <tr>\n",
       "      <th>0</th>\n",
       "      <td>Argentina</td>\n",
       "      <td>6.408577e+07</td>\n",
       "      <td>22.166667</td>\n",
       "      <td>14.500000</td>\n",
       "      <td>18.333333</td>\n",
       "    </tr>\n",
       "    <tr>\n",
       "      <th>1</th>\n",
       "      <td>Australia</td>\n",
       "      <td>9.423037e+05</td>\n",
       "      <td>22.041667</td>\n",
       "      <td>11.104167</td>\n",
       "      <td>16.572917</td>\n",
       "    </tr>\n",
       "    <tr>\n",
       "      <th>2</th>\n",
       "      <td>Austria</td>\n",
       "      <td>1.141650e+07</td>\n",
       "      <td>14.916667</td>\n",
       "      <td>5.583333</td>\n",
       "      <td>10.250000</td>\n",
       "    </tr>\n",
       "    <tr>\n",
       "      <th>3</th>\n",
       "      <td>Belgium</td>\n",
       "      <td>2.035460e+07</td>\n",
       "      <td>14.416667</td>\n",
       "      <td>7.000000</td>\n",
       "      <td>10.708333</td>\n",
       "    </tr>\n",
       "    <tr>\n",
       "      <th>4</th>\n",
       "      <td>Brazil</td>\n",
       "      <td>3.127759e+08</td>\n",
       "      <td>29.055556</td>\n",
       "      <td>18.916667</td>\n",
       "      <td>23.986111</td>\n",
       "    </tr>\n",
       "    <tr>\n",
       "      <th>5</th>\n",
       "      <td>Bulgaria</td>\n",
       "      <td>6.818600e+06</td>\n",
       "      <td>16.416667</td>\n",
       "      <td>4.833333</td>\n",
       "      <td>10.625000</td>\n",
       "    </tr>\n",
       "    <tr>\n",
       "      <th>6</th>\n",
       "      <td>Canada</td>\n",
       "      <td>2.324708e+07</td>\n",
       "      <td>12.130952</td>\n",
       "      <td>1.797619</td>\n",
       "      <td>6.964286</td>\n",
       "    </tr>\n",
       "    <tr>\n",
       "      <th>7</th>\n",
       "      <td>Chile</td>\n",
       "      <td>2.708727e+07</td>\n",
       "      <td>23.666667</td>\n",
       "      <td>7.333333</td>\n",
       "      <td>15.500000</td>\n",
       "    </tr>\n",
       "    <tr>\n",
       "      <th>8</th>\n",
       "      <td>China</td>\n",
       "      <td>4.143917e+06</td>\n",
       "      <td>19.625000</td>\n",
       "      <td>10.375000</td>\n",
       "      <td>15.000000</td>\n",
       "    </tr>\n",
       "    <tr>\n",
       "      <th>9</th>\n",
       "      <td>Czech Republic</td>\n",
       "      <td>0.000000e+00</td>\n",
       "      <td>13.833333</td>\n",
       "      <td>5.083333</td>\n",
       "      <td>9.458333</td>\n",
       "    </tr>\n",
       "    <tr>\n",
       "      <th>10</th>\n",
       "      <td>Denmark</td>\n",
       "      <td>5.041026e+06</td>\n",
       "      <td>12.583333</td>\n",
       "      <td>5.750000</td>\n",
       "      <td>9.166667</td>\n",
       "    </tr>\n",
       "    <tr>\n",
       "      <th>11</th>\n",
       "      <td>France</td>\n",
       "      <td>1.005386e+08</td>\n",
       "      <td>18.041667</td>\n",
       "      <td>8.791667</td>\n",
       "      <td>13.416667</td>\n",
       "    </tr>\n",
       "    <tr>\n",
       "      <th>12</th>\n",
       "      <td>Germany</td>\n",
       "      <td>6.234787e+07</td>\n",
       "      <td>13.250000</td>\n",
       "      <td>6.000000</td>\n",
       "      <td>9.625000</td>\n",
       "    </tr>\n",
       "    <tr>\n",
       "      <th>13</th>\n",
       "      <td>Greece</td>\n",
       "      <td>5.864084e+06</td>\n",
       "      <td>19.666667</td>\n",
       "      <td>13.666667</td>\n",
       "      <td>16.666667</td>\n",
       "    </tr>\n",
       "    <tr>\n",
       "      <th>14</th>\n",
       "      <td>Hungary</td>\n",
       "      <td>1.228024e+07</td>\n",
       "      <td>16.000000</td>\n",
       "      <td>6.750000</td>\n",
       "      <td>11.375000</td>\n",
       "    </tr>\n",
       "    <tr>\n",
       "      <th>15</th>\n",
       "      <td>Iceland</td>\n",
       "      <td>1.776009e+05</td>\n",
       "      <td>8.000000</td>\n",
       "      <td>2.416667</td>\n",
       "      <td>5.208333</td>\n",
       "    </tr>\n",
       "    <tr>\n",
       "      <th>16</th>\n",
       "      <td>India</td>\n",
       "      <td>4.198417e+08</td>\n",
       "      <td>30.472222</td>\n",
       "      <td>19.333333</td>\n",
       "      <td>24.902778</td>\n",
       "    </tr>\n",
       "    <tr>\n",
       "      <th>17</th>\n",
       "      <td>Indonesia</td>\n",
       "      <td>3.362925e+07</td>\n",
       "      <td>31.666667</td>\n",
       "      <td>23.000000</td>\n",
       "      <td>27.333333</td>\n",
       "    </tr>\n",
       "    <tr>\n",
       "      <th>18</th>\n",
       "      <td>Ireland</td>\n",
       "      <td>4.956613e+06</td>\n",
       "      <td>12.416667</td>\n",
       "      <td>5.916667</td>\n",
       "      <td>9.166667</td>\n",
       "    </tr>\n",
       "    <tr>\n",
       "      <th>19</th>\n",
       "      <td>Israel</td>\n",
       "      <td>1.699681e+07</td>\n",
       "      <td>23.458333</td>\n",
       "      <td>14.333333</td>\n",
       "      <td>18.895833</td>\n",
       "    </tr>\n",
       "    <tr>\n",
       "      <th>20</th>\n",
       "      <td>Italy</td>\n",
       "      <td>7.437087e+07</td>\n",
       "      <td>20.250000</td>\n",
       "      <td>10.083333</td>\n",
       "      <td>15.166667</td>\n",
       "    </tr>\n",
       "    <tr>\n",
       "      <th>21</th>\n",
       "      <td>Japan</td>\n",
       "      <td>1.146843e+07</td>\n",
       "      <td>20.875000</td>\n",
       "      <td>11.583333</td>\n",
       "      <td>16.229167</td>\n",
       "    </tr>\n",
       "    <tr>\n",
       "      <th>22</th>\n",
       "      <td>Malaysia</td>\n",
       "      <td>8.298775e+06</td>\n",
       "      <td>32.833333</td>\n",
       "      <td>24.000000</td>\n",
       "      <td>28.416667</td>\n",
       "    </tr>\n",
       "    <tr>\n",
       "      <th>23</th>\n",
       "      <td>Mexico</td>\n",
       "      <td>5.108411e+07</td>\n",
       "      <td>24.083333</td>\n",
       "      <td>10.500000</td>\n",
       "      <td>17.291667</td>\n",
       "    </tr>\n",
       "    <tr>\n",
       "      <th>24</th>\n",
       "      <td>Morocco</td>\n",
       "      <td>1.140396e+07</td>\n",
       "      <td>26.250000</td>\n",
       "      <td>12.583333</td>\n",
       "      <td>19.416667</td>\n",
       "    </tr>\n",
       "    <tr>\n",
       "      <th>25</th>\n",
       "      <td>Netherlands</td>\n",
       "      <td>2.829252e+07</td>\n",
       "      <td>12.833333</td>\n",
       "      <td>7.583333</td>\n",
       "      <td>10.208333</td>\n",
       "    </tr>\n",
       "    <tr>\n",
       "      <th>26</th>\n",
       "      <td>New Zealand</td>\n",
       "      <td>8.345533e+04</td>\n",
       "      <td>16.888889</td>\n",
       "      <td>9.888889</td>\n",
       "      <td>13.388889</td>\n",
       "    </tr>\n",
       "    <tr>\n",
       "      <th>27</th>\n",
       "      <td>Norway</td>\n",
       "      <td>2.094937e+06</td>\n",
       "      <td>10.666667</td>\n",
       "      <td>3.666667</td>\n",
       "      <td>7.166667</td>\n",
       "    </tr>\n",
       "    <tr>\n",
       "      <th>28</th>\n",
       "      <td>Poland</td>\n",
       "      <td>4.611836e+07</td>\n",
       "      <td>13.000000</td>\n",
       "      <td>4.166667</td>\n",
       "      <td>8.583333</td>\n",
       "    </tr>\n",
       "    <tr>\n",
       "      <th>29</th>\n",
       "      <td>Portugal</td>\n",
       "      <td>1.627157e+07</td>\n",
       "      <td>18.166667</td>\n",
       "      <td>11.875000</td>\n",
       "      <td>15.020833</td>\n",
       "    </tr>\n",
       "    <tr>\n",
       "      <th>30</th>\n",
       "      <td>Russia</td>\n",
       "      <td>1.049129e+08</td>\n",
       "      <td>9.333333</td>\n",
       "      <td>1.041667</td>\n",
       "      <td>5.187500</td>\n",
       "    </tr>\n",
       "    <tr>\n",
       "      <th>31</th>\n",
       "      <td>Singapore</td>\n",
       "      <td>2.103296e+06</td>\n",
       "      <td>31.416667</td>\n",
       "      <td>24.666667</td>\n",
       "      <td>28.041667</td>\n",
       "    </tr>\n",
       "    <tr>\n",
       "      <th>32</th>\n",
       "      <td>South Africa</td>\n",
       "      <td>3.877769e+07</td>\n",
       "      <td>23.500000</td>\n",
       "      <td>10.583333</td>\n",
       "      <td>17.041667</td>\n",
       "    </tr>\n",
       "    <tr>\n",
       "      <th>33</th>\n",
       "      <td>Spain</td>\n",
       "      <td>7.354313e+07</td>\n",
       "      <td>21.000000</td>\n",
       "      <td>10.833333</td>\n",
       "      <td>15.916667</td>\n",
       "    </tr>\n",
       "    <tr>\n",
       "      <th>34</th>\n",
       "      <td>Sweden</td>\n",
       "      <td>1.728602e+07</td>\n",
       "      <td>10.583333</td>\n",
       "      <td>2.666667</td>\n",
       "      <td>6.625000</td>\n",
       "    </tr>\n",
       "    <tr>\n",
       "      <th>35</th>\n",
       "      <td>Switzerland</td>\n",
       "      <td>1.317681e+07</td>\n",
       "      <td>14.666667</td>\n",
       "      <td>5.000000</td>\n",
       "      <td>9.833333</td>\n",
       "    </tr>\n",
       "    <tr>\n",
       "      <th>36</th>\n",
       "      <td>Thailand</td>\n",
       "      <td>2.023818e+06</td>\n",
       "      <td>32.722222</td>\n",
       "      <td>22.722222</td>\n",
       "      <td>27.722222</td>\n",
       "    </tr>\n",
       "    <tr>\n",
       "      <th>37</th>\n",
       "      <td>Turkey</td>\n",
       "      <td>7.868205e+07</td>\n",
       "      <td>20.416667</td>\n",
       "      <td>9.083333</td>\n",
       "      <td>14.750000</td>\n",
       "    </tr>\n",
       "    <tr>\n",
       "      <th>38</th>\n",
       "      <td>United Arab Emirates</td>\n",
       "      <td>1.011001e+07</td>\n",
       "      <td>33.500000</td>\n",
       "      <td>22.750000</td>\n",
       "      <td>28.125000</td>\n",
       "    </tr>\n",
       "  </tbody>\n",
       "</table>\n",
       "</div>"
      ],
      "text/plain": [
       "          Country/Region  average_monthly_confirmed       high        low  \\\n",
       "0              Argentina               6.408577e+07  22.166667  14.500000   \n",
       "1              Australia               9.423037e+05  22.041667  11.104167   \n",
       "2                Austria               1.141650e+07  14.916667   5.583333   \n",
       "3                Belgium               2.035460e+07  14.416667   7.000000   \n",
       "4                 Brazil               3.127759e+08  29.055556  18.916667   \n",
       "5               Bulgaria               6.818600e+06  16.416667   4.833333   \n",
       "6                 Canada               2.324708e+07  12.130952   1.797619   \n",
       "7                  Chile               2.708727e+07  23.666667   7.333333   \n",
       "8                  China               4.143917e+06  19.625000  10.375000   \n",
       "9         Czech Republic               0.000000e+00  13.833333   5.083333   \n",
       "10               Denmark               5.041026e+06  12.583333   5.750000   \n",
       "11                France               1.005386e+08  18.041667   8.791667   \n",
       "12               Germany               6.234787e+07  13.250000   6.000000   \n",
       "13                Greece               5.864084e+06  19.666667  13.666667   \n",
       "14               Hungary               1.228024e+07  16.000000   6.750000   \n",
       "15               Iceland               1.776009e+05   8.000000   2.416667   \n",
       "16                 India               4.198417e+08  30.472222  19.333333   \n",
       "17             Indonesia               3.362925e+07  31.666667  23.000000   \n",
       "18               Ireland               4.956613e+06  12.416667   5.916667   \n",
       "19                Israel               1.699681e+07  23.458333  14.333333   \n",
       "20                 Italy               7.437087e+07  20.250000  10.083333   \n",
       "21                 Japan               1.146843e+07  20.875000  11.583333   \n",
       "22              Malaysia               8.298775e+06  32.833333  24.000000   \n",
       "23                Mexico               5.108411e+07  24.083333  10.500000   \n",
       "24               Morocco               1.140396e+07  26.250000  12.583333   \n",
       "25           Netherlands               2.829252e+07  12.833333   7.583333   \n",
       "26           New Zealand               8.345533e+04  16.888889   9.888889   \n",
       "27                Norway               2.094937e+06  10.666667   3.666667   \n",
       "28                Poland               4.611836e+07  13.000000   4.166667   \n",
       "29              Portugal               1.627157e+07  18.166667  11.875000   \n",
       "30                Russia               1.049129e+08   9.333333   1.041667   \n",
       "31             Singapore               2.103296e+06  31.416667  24.666667   \n",
       "32          South Africa               3.877769e+07  23.500000  10.583333   \n",
       "33                 Spain               7.354313e+07  21.000000  10.833333   \n",
       "34                Sweden               1.728602e+07  10.583333   2.666667   \n",
       "35           Switzerland               1.317681e+07  14.666667   5.000000   \n",
       "36              Thailand               2.023818e+06  32.722222  22.722222   \n",
       "37                Turkey               7.868205e+07  20.416667   9.083333   \n",
       "38  United Arab Emirates               1.011001e+07  33.500000  22.750000   \n",
       "\n",
       "     avg_temp  \n",
       "0   18.333333  \n",
       "1   16.572917  \n",
       "2   10.250000  \n",
       "3   10.708333  \n",
       "4   23.986111  \n",
       "5   10.625000  \n",
       "6    6.964286  \n",
       "7   15.500000  \n",
       "8   15.000000  \n",
       "9    9.458333  \n",
       "10   9.166667  \n",
       "11  13.416667  \n",
       "12   9.625000  \n",
       "13  16.666667  \n",
       "14  11.375000  \n",
       "15   5.208333  \n",
       "16  24.902778  \n",
       "17  27.333333  \n",
       "18   9.166667  \n",
       "19  18.895833  \n",
       "20  15.166667  \n",
       "21  16.229167  \n",
       "22  28.416667  \n",
       "23  17.291667  \n",
       "24  19.416667  \n",
       "25  10.208333  \n",
       "26  13.388889  \n",
       "27   7.166667  \n",
       "28   8.583333  \n",
       "29  15.020833  \n",
       "30   5.187500  \n",
       "31  28.041667  \n",
       "32  17.041667  \n",
       "33  15.916667  \n",
       "34   6.625000  \n",
       "35   9.833333  \n",
       "36  27.722222  \n",
       "37  14.750000  \n",
       "38  28.125000  "
      ]
     },
     "execution_count": 68,
     "metadata": {},
     "output_type": "execute_result"
    }
   ],
   "source": [
    "final_data"
   ]
  },
  {
   "cell_type": "markdown",
   "metadata": {},
   "source": [
    "#### Visualization"
   ]
  },
  {
   "cell_type": "code",
   "execution_count": 83,
   "metadata": {
    "scrolled": false
   },
   "outputs": [
    {
     "data": {
      "text/plain": [
       "<matplotlib.collections.PathCollection at 0x1475bd9e448>"
      ]
     },
     "execution_count": 83,
     "metadata": {},
     "output_type": "execute_result"
    },
    {
     "data": {
      "image/png": "[encoded data removed]",
      "text/plain": [
       "<Figure size 432x288 with 1 Axes>"
      ]
     },
     "metadata": {
      "needs_background": "light"
     },
     "output_type": "display_data"
    }
   ],
   "source": [
    "import matplotlib.pyplot as plt\n",
    "plt.title('Scatter plot between monthly confirmed cases and monthly average temperature')\n",
    "plt.xlabel('Monthly confirmed cases')\n",
    "plt.ylabel('Monthly average temperature')\n",
    "plt.scatter(final_data['average_monthly_confirmed'],final_data['avg_temp'], color='black')"
   ]
  },
  {
   "cell_type": "code",
   "execution_count": 85,
   "metadata": {},
   "outputs": [
    {
     "data": {
      "text/plain": [
       "<matplotlib.collections.PathCollection at 0x1475cbfa288>"
      ]
     },
     "execution_count": 85,
     "metadata": {},
     "output_type": "execute_result"
    },
    {
     "data": {
      "image/png": "[encoded data removed]",
      "text/plain": [
       "<Figure size 432x288 with 1 Axes>"
      ]
     },
     "metadata": {
      "needs_background": "light"
     },
     "output_type": "display_data"
    }
   ],
   "source": [
    "plt.title('Scatter plot between monthly confirmed cases and monthly high temperature')\n",
    "plt.xlabel('Monthly confirmed cases')\n",
    "plt.ylabel('Monthly higher temperature')\n",
    "plt.scatter(final_data['average_monthly_confirmed'],final_data['high'], color='red')"
   ]
  },
  {
   "cell_type": "code",
   "execution_count": 86,
   "metadata": {
    "scrolled": true
   },
   "outputs": [
    {
     "data": {
      "text/plain": [
       "<matplotlib.collections.PathCollection at 0x1475bdd05c8>"
      ]
     },
     "execution_count": 86,
     "metadata": {},
     "output_type": "execute_result"
    },
    {
     "data": {
      "image/png": "[encoded data removed]",
      "text/plain": [
       "<Figure size 432x288 with 1 Axes>"
      ]
     },
     "metadata": {
      "needs_background": "light"
     },
     "output_type": "display_data"
    }
   ],
   "source": [
    "plt.title('Scatter plot between monthly confirmed cases and monthly low temperature')\n",
    "plt.xlabel('Monthly confirmed cases')\n",
    "plt.ylabel('Monthly lower temperature')\n",
    "plt.scatter(final_data['average_monthly_confirmed'],final_data['low'], color='blue')"
   ]
  },
  {
   "cell_type": "markdown",
   "metadata": {},
   "source": [
    "Through this plot we can say that the covid cases does not seems to be decreasing with the increase in temperature."
   ]
  },
  {
   "cell_type": "markdown",
   "metadata": {},
   "source": [
    "# 9"
   ]
  },
  {
   "cell_type": "markdown",
   "metadata": {},
   "source": [
    "##### Articulate your own research question related to COVID-19 and try to provide an answer to it using the given data set."
   ]
  },
  {
   "cell_type": "markdown",
   "metadata": {},
   "source": [
    "The effect of population level of a country on the amount of confirmed cases"
   ]
  },
  {
   "cell_type": "code",
   "execution_count": 115,
   "metadata": {},
   "outputs": [],
   "source": [
    "data3=[update_df['Confirmed'], update_pop['population']]\n",
    "names3= [\"Confirmed\", \"population\"]\n",
    "df_population= pd.concat(data3, axis=1, keys=names3)"
   ]
  },
  {
   "cell_type": "code",
   "execution_count": 116,
   "metadata": {},
   "outputs": [
    {
     "data": {
      "text/html": [
       "<div>\n",
       "<style scoped>\n",
       "    .dataframe tbody tr th:only-of-type {\n",
       "        vertical-align: middle;\n",
       "    }\n",
       "\n",
       "    .dataframe tbody tr th {\n",
       "        vertical-align: top;\n",
       "    }\n",
       "\n",
       "    .dataframe thead th {\n",
       "        text-align: right;\n",
       "    }\n",
       "</style>\n",
       "<table border=\"1\" class=\"dataframe\">\n",
       "  <thead>\n",
       "    <tr style=\"text-align: right;\">\n",
       "      <th></th>\n",
       "      <th>Confirmed</th>\n",
       "      <th>population</th>\n",
       "    </tr>\n",
       "  </thead>\n",
       "  <tbody>\n",
       "    <tr>\n",
       "      <th>0</th>\n",
       "      <td>104850.0</td>\n",
       "      <td>1388232693</td>\n",
       "    </tr>\n",
       "    <tr>\n",
       "      <th>1</th>\n",
       "      <td>31484605.0</td>\n",
       "      <td>1342512706</td>\n",
       "    </tr>\n",
       "    <tr>\n",
       "      <th>2</th>\n",
       "      <td>34672690.0</td>\n",
       "      <td>326474013</td>\n",
       "    </tr>\n",
       "    <tr>\n",
       "      <th>3</th>\n",
       "      <td>3287727.0</td>\n",
       "      <td>263510146</td>\n",
       "    </tr>\n",
       "    <tr>\n",
       "      <th>4</th>\n",
       "      <td>19797086.0</td>\n",
       "      <td>211243220</td>\n",
       "    </tr>\n",
       "    <tr>\n",
       "      <th>...</th>\n",
       "      <td>...</td>\n",
       "      <td>...</td>\n",
       "    </tr>\n",
       "    <tr>\n",
       "      <th>177</th>\n",
       "      <td>3083.0</td>\n",
       "      <td>38022</td>\n",
       "    </tr>\n",
       "    <tr>\n",
       "      <th>178</th>\n",
       "      <td>2833.0</td>\n",
       "      <td>38010</td>\n",
       "    </tr>\n",
       "    <tr>\n",
       "      <th>179</th>\n",
       "      <td>5130.0</td>\n",
       "      <td>32104</td>\n",
       "    </tr>\n",
       "    <tr>\n",
       "      <th>180</th>\n",
       "      <td>27.0</td>\n",
       "      <td>21726</td>\n",
       "    </tr>\n",
       "    <tr>\n",
       "      <th>181</th>\n",
       "      <td>NaN</td>\n",
       "      <td>801</td>\n",
       "    </tr>\n",
       "  </tbody>\n",
       "</table>\n",
       "<p>182 rows × 2 columns</p>\n",
       "</div>"
      ],
      "text/plain": [
       "      Confirmed  population\n",
       "0      104850.0  1388232693\n",
       "1    31484605.0  1342512706\n",
       "2    34672690.0   326474013\n",
       "3     3287727.0   263510146\n",
       "4    19797086.0   211243220\n",
       "..          ...         ...\n",
       "177      3083.0       38022\n",
       "178      2833.0       38010\n",
       "179      5130.0       32104\n",
       "180        27.0       21726\n",
       "181         NaN         801\n",
       "\n",
       "[182 rows x 2 columns]"
      ]
     },
     "execution_count": 116,
     "metadata": {},
     "output_type": "execute_result"
    }
   ],
   "source": [
    "df_population"
   ]
  },
  {
   "cell_type": "code",
   "execution_count": 121,
   "metadata": {
    "scrolled": true
   },
   "outputs": [
    {
     "data": {
      "text/plain": [
       "<matplotlib.collections.PathCollection at 0x1476242aa88>"
      ]
     },
     "execution_count": 121,
     "metadata": {},
     "output_type": "execute_result"
    },
    {
     "data": {
      "image/png": "[encoded data removed]",
      "text/plain": [
       "<Figure size 432x288 with 1 Axes>"
      ]
     },
     "metadata": {
      "needs_background": "light"
     },
     "output_type": "display_data"
    }
   ],
   "source": [
    "plt.scatter(df_population['Confirmed'],df_population['population'], color='pink')"
   ]
  },
  {
   "cell_type": "markdown",
   "metadata": {},
   "source": [
    "We can see a slight correlation between the population and the confirmed cases. It shows that the number of confirmed cases in a country does depend on the population of the particular country."
   ]
  },
  {
   "cell_type": "markdown",
   "metadata": {},
   "source": []
  }
 ],
 "metadata": {
  "kernelspec": {
   "display_name": "Python 3",
   "language": "python",
   "name": "python3"
  },
  "language_info": {
   "codemirror_mode": {
    "name": "ipython",
    "version": 3
   },
   "file_extension": ".py",
   "mimetype": "text/x-python",
   "name": "python",
   "nbconvert_exporter": "python",
   "pygments_lexer": "ipython3",
   "version": "3.7.5"
  }
 },
 "nbformat": 4,
 "nbformat_minor": 2
}
